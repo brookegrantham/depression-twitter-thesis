{
 "cells": [
  {
   "cell_type": "markdown",
   "metadata": {
    "collapsed": true,
    "pycharm": {
     "name": "#%% md\n"
    }
   },
   "source": [
    "**Initial Data Exploration for CLPysch 2015 Shared Task Data**\n",
    "24/06/2022\n"
   ]
  },
  {
   "cell_type": "code",
   "execution_count": 1,
   "outputs": [
    {
     "data": {
      "text/plain": "      truncated                                               text  \\\n0         False          @jWhz50rJX @hSqMdDFwQ28X @khMjuXSmsP 😂😂😂😂   \n1         False  Some scary creatures hang out in a graveyard! ...   \n2         False  Pig...its whats for dinner 😂 http://t.co/K2I2p...   \n3         False  Visiting Vermont for our Anniversary weekend! ...   \n4         False  RT @ftA2SlygDaZqcv0: A 'WONDER WOMAN' movie in...   \n...         ...                                                ...   \n2995      False  @hSqMdDFwQ28X @vb_cS1f0E7 @lpcCKaqFZeS @ngNW2o...   \n2996      False  RT @oraUK_Qto4RTZ: Evolution vs Creationism - ...   \n2997      False  I'm waiting..@hSqMdDFwQ28X @oopJVLksUNyhFK @vZ...   \n2998      False  Please help support theA_S_H, add a #Twibbon n...   \n2999      False        @nbwJtJEqMhY Happy Birthday my friend!! 🎯❤️   \n\n      in_reply_to_status_id                   id  favorite_count  retweeted  \\\n0              6.399705e+18  4380492245340171716               2      False   \n1                       NaN   400922983488147397               6      False   \n2                       NaN  7618901327602537290               6      False   \n3                       NaN  4663791440616169458              13      False   \n4                       NaN   682138213192249288               0      False   \n...                     ...                  ...             ...        ...   \n2995           6.610809e+17  2918761510039955148               1      False   \n2996                    NaN  5694015226684070668               0      False   \n2997                    NaN  7375230709778143680              15      False   \n2998                    NaN  8863079975948084704               2      False   \n2999                    NaN  8483120723033585399               0      False   \n\n                                               entities  \\\n0     {'symbols': [], 'user_mentions': [{'indices': ...   \n1     {'symbols': [], 'user_mentions': [], 'hashtags...   \n2     {'symbols': [], 'user_mentions': [], 'hashtags...   \n3     {'symbols': [], 'user_mentions': [], 'hashtags...   \n4     {'symbols': [], 'user_mentions': [{'indices': ...   \n...                                                 ...   \n2995  {'symbols': [], 'user_mentions': [{'indices': ...   \n2996  {'symbols': [], 'user_mentions': [{'indices': ...   \n2997  {'symbols': [], 'user_mentions': [{'indices': ...   \n2998  {'symbols': [], 'user_mentions': [], 'hashtags...   \n2999  {'symbols': [], 'user_mentions': [{'indices': ...   \n\n     in_reply_to_screen_name               id_str  retweet_count  ...  \\\n0                  jWhz50rJX  4380492245340171776              0  ...   \n1                       None   400922983488147392              1  ...   \n2                       None  7618901327602537472              0  ...   \n3                       None  4663791440616169472              2  ...   \n4                       None   682138213192249344            105  ...   \n...                      ...                  ...            ...  ...   \n2995            hSqMdDFwQ28X  2918761510039954944              2  ...   \n2996                    None  5694015226684070912             14  ...   \n2997                    None  7375230709778143232             11  ...   \n2998                    None  8863079975948084224              2  ...   \n2999             nbwJtJEqMhY  8483120723033585664              0  ...   \n\n                                 screen_name_statistics  \\\n0     {'has_underscore': False, 'contains_swear': Fa...   \n1     {'has_underscore': False, 'contains_swear': Fa...   \n2     {'has_underscore': False, 'contains_swear': Fa...   \n3     {'has_underscore': False, 'contains_swear': Fa...   \n4     {'has_underscore': False, 'contains_swear': Fa...   \n...                                                 ...   \n2995  {'has_underscore': False, 'contains_swear': Fa...   \n2996  {'has_underscore': False, 'contains_swear': Fa...   \n2997  {'has_underscore': False, 'contains_swear': Fa...   \n2998  {'has_underscore': False, 'contains_swear': Fa...   \n2999  {'has_underscore': False, 'contains_swear': Fa...   \n\n                                                   user geo  \\\n0     {'verified': False, 'geo_enabled': False, 'fol... NaN   \n1     {'verified': False, 'geo_enabled': False, 'fol... NaN   \n2     {'verified': False, 'geo_enabled': False, 'fol... NaN   \n3     {'verified': False, 'geo_enabled': False, 'fol... NaN   \n4     {'verified': False, 'geo_enabled': False, 'fol... NaN   \n...                                                 ...  ..   \n2995  {'verified': False, 'geo_enabled': False, 'fol... NaN   \n2996  {'verified': False, 'geo_enabled': False, 'fol... NaN   \n2997  {'verified': False, 'geo_enabled': False, 'fol... NaN   \n2998  {'verified': False, 'geo_enabled': False, 'fol... NaN   \n2999  {'verified': False, 'geo_enabled': False, 'fol... NaN   \n\n      in_reply_to_user_id_str  lang                created_at  \\\n0                6.745698e+18   und 2014-11-01 12:06:39+00:00   \n1                         NaN    en 2014-11-01 11:17:04+00:00   \n2                         NaN    en 2014-11-01 11:12:58+00:00   \n3                         NaN    en 2014-11-01 10:49:12+00:00   \n4                         NaN    en 2014-10-30 20:53:48+00:00   \n...                       ...   ...                       ...   \n2995             5.222494e+18    en 2014-01-11 20:34:25+00:00   \n2996                      NaN    en 2014-01-11 12:09:59+00:00   \n2997                      NaN    en 2014-01-11 12:03:10+00:00   \n2998                      NaN    en 2014-01-11 11:56:19+00:00   \n2999             1.568636e+18    en 2014-01-11 11:54:52+00:00   \n\n     in_reply_to_status_id_str  place  possibly_sensitive  \\\n0                 6.399705e+18    NaN                 NaN   \n1                          NaN    NaN                 0.0   \n2                          NaN    NaN                 0.0   \n3                          NaN    NaN                 0.0   \n4                          NaN    NaN                 0.0   \n...                        ...    ...                 ...   \n2995              6.610809e+17    NaN                 NaN   \n2996                       NaN    NaN                 0.0   \n2997                       NaN    NaN                 0.0   \n2998                       NaN    NaN                 0.0   \n2999                       NaN    NaN                 NaN   \n\n                                       retweeted_status  \n0                                                   NaN  \n1                                                   NaN  \n2                                                   NaN  \n3                                                   NaN  \n4     {'truncated': False, 'text': 'A 'WONDER WOMAN'...  \n...                                                 ...  \n2995                                                NaN  \n2996  {'truncated': False, 'text': 'Evolution vs Cre...  \n2997                                                NaN  \n2998                                                NaN  \n2999                                                NaN  \n\n[3000 rows x 21 columns]",
      "text/html": "<div>\n<style scoped>\n    .dataframe tbody tr th:only-of-type {\n        vertical-align: middle;\n    }\n\n    .dataframe tbody tr th {\n        vertical-align: top;\n    }\n\n    .dataframe thead th {\n        text-align: right;\n    }\n</style>\n<table border=\"1\" class=\"dataframe\">\n  <thead>\n    <tr style=\"text-align: right;\">\n      <th></th>\n      <th>truncated</th>\n      <th>text</th>\n      <th>in_reply_to_status_id</th>\n      <th>id</th>\n      <th>favorite_count</th>\n      <th>retweeted</th>\n      <th>entities</th>\n      <th>in_reply_to_screen_name</th>\n      <th>id_str</th>\n      <th>retweet_count</th>\n      <th>...</th>\n      <th>screen_name_statistics</th>\n      <th>user</th>\n      <th>geo</th>\n      <th>in_reply_to_user_id_str</th>\n      <th>lang</th>\n      <th>created_at</th>\n      <th>in_reply_to_status_id_str</th>\n      <th>place</th>\n      <th>possibly_sensitive</th>\n      <th>retweeted_status</th>\n    </tr>\n  </thead>\n  <tbody>\n    <tr>\n      <th>0</th>\n      <td>False</td>\n      <td>@jWhz50rJX @hSqMdDFwQ28X @khMjuXSmsP 😂😂😂😂</td>\n      <td>6.399705e+18</td>\n      <td>4380492245340171716</td>\n      <td>2</td>\n      <td>False</td>\n      <td>{'symbols': [], 'user_mentions': [{'indices': ...</td>\n      <td>jWhz50rJX</td>\n      <td>4380492245340171776</td>\n      <td>0</td>\n      <td>...</td>\n      <td>{'has_underscore': False, 'contains_swear': Fa...</td>\n      <td>{'verified': False, 'geo_enabled': False, 'fol...</td>\n      <td>NaN</td>\n      <td>6.745698e+18</td>\n      <td>und</td>\n      <td>2014-11-01 12:06:39+00:00</td>\n      <td>6.399705e+18</td>\n      <td>NaN</td>\n      <td>NaN</td>\n      <td>NaN</td>\n    </tr>\n    <tr>\n      <th>1</th>\n      <td>False</td>\n      <td>Some scary creatures hang out in a graveyard! ...</td>\n      <td>NaN</td>\n      <td>400922983488147397</td>\n      <td>6</td>\n      <td>False</td>\n      <td>{'symbols': [], 'user_mentions': [], 'hashtags...</td>\n      <td>None</td>\n      <td>400922983488147392</td>\n      <td>1</td>\n      <td>...</td>\n      <td>{'has_underscore': False, 'contains_swear': Fa...</td>\n      <td>{'verified': False, 'geo_enabled': False, 'fol...</td>\n      <td>NaN</td>\n      <td>NaN</td>\n      <td>en</td>\n      <td>2014-11-01 11:17:04+00:00</td>\n      <td>NaN</td>\n      <td>NaN</td>\n      <td>0.0</td>\n      <td>NaN</td>\n    </tr>\n    <tr>\n      <th>2</th>\n      <td>False</td>\n      <td>Pig...its whats for dinner 😂 http://t.co/K2I2p...</td>\n      <td>NaN</td>\n      <td>7618901327602537290</td>\n      <td>6</td>\n      <td>False</td>\n      <td>{'symbols': [], 'user_mentions': [], 'hashtags...</td>\n      <td>None</td>\n      <td>7618901327602537472</td>\n      <td>0</td>\n      <td>...</td>\n      <td>{'has_underscore': False, 'contains_swear': Fa...</td>\n      <td>{'verified': False, 'geo_enabled': False, 'fol...</td>\n      <td>NaN</td>\n      <td>NaN</td>\n      <td>en</td>\n      <td>2014-11-01 11:12:58+00:00</td>\n      <td>NaN</td>\n      <td>NaN</td>\n      <td>0.0</td>\n      <td>NaN</td>\n    </tr>\n    <tr>\n      <th>3</th>\n      <td>False</td>\n      <td>Visiting Vermont for our Anniversary weekend! ...</td>\n      <td>NaN</td>\n      <td>4663791440616169458</td>\n      <td>13</td>\n      <td>False</td>\n      <td>{'symbols': [], 'user_mentions': [], 'hashtags...</td>\n      <td>None</td>\n      <td>4663791440616169472</td>\n      <td>2</td>\n      <td>...</td>\n      <td>{'has_underscore': False, 'contains_swear': Fa...</td>\n      <td>{'verified': False, 'geo_enabled': False, 'fol...</td>\n      <td>NaN</td>\n      <td>NaN</td>\n      <td>en</td>\n      <td>2014-11-01 10:49:12+00:00</td>\n      <td>NaN</td>\n      <td>NaN</td>\n      <td>0.0</td>\n      <td>NaN</td>\n    </tr>\n    <tr>\n      <th>4</th>\n      <td>False</td>\n      <td>RT @ftA2SlygDaZqcv0: A 'WONDER WOMAN' movie in...</td>\n      <td>NaN</td>\n      <td>682138213192249288</td>\n      <td>0</td>\n      <td>False</td>\n      <td>{'symbols': [], 'user_mentions': [{'indices': ...</td>\n      <td>None</td>\n      <td>682138213192249344</td>\n      <td>105</td>\n      <td>...</td>\n      <td>{'has_underscore': False, 'contains_swear': Fa...</td>\n      <td>{'verified': False, 'geo_enabled': False, 'fol...</td>\n      <td>NaN</td>\n      <td>NaN</td>\n      <td>en</td>\n      <td>2014-10-30 20:53:48+00:00</td>\n      <td>NaN</td>\n      <td>NaN</td>\n      <td>0.0</td>\n      <td>{'truncated': False, 'text': 'A 'WONDER WOMAN'...</td>\n    </tr>\n    <tr>\n      <th>...</th>\n      <td>...</td>\n      <td>...</td>\n      <td>...</td>\n      <td>...</td>\n      <td>...</td>\n      <td>...</td>\n      <td>...</td>\n      <td>...</td>\n      <td>...</td>\n      <td>...</td>\n      <td>...</td>\n      <td>...</td>\n      <td>...</td>\n      <td>...</td>\n      <td>...</td>\n      <td>...</td>\n      <td>...</td>\n      <td>...</td>\n      <td>...</td>\n      <td>...</td>\n      <td>...</td>\n    </tr>\n    <tr>\n      <th>2995</th>\n      <td>False</td>\n      <td>@hSqMdDFwQ28X @vb_cS1f0E7 @lpcCKaqFZeS @ngNW2o...</td>\n      <td>6.610809e+17</td>\n      <td>2918761510039955148</td>\n      <td>1</td>\n      <td>False</td>\n      <td>{'symbols': [], 'user_mentions': [{'indices': ...</td>\n      <td>hSqMdDFwQ28X</td>\n      <td>2918761510039954944</td>\n      <td>2</td>\n      <td>...</td>\n      <td>{'has_underscore': False, 'contains_swear': Fa...</td>\n      <td>{'verified': False, 'geo_enabled': False, 'fol...</td>\n      <td>NaN</td>\n      <td>5.222494e+18</td>\n      <td>en</td>\n      <td>2014-01-11 20:34:25+00:00</td>\n      <td>6.610809e+17</td>\n      <td>NaN</td>\n      <td>NaN</td>\n      <td>NaN</td>\n    </tr>\n    <tr>\n      <th>2996</th>\n      <td>False</td>\n      <td>RT @oraUK_Qto4RTZ: Evolution vs Creationism - ...</td>\n      <td>NaN</td>\n      <td>5694015226684070668</td>\n      <td>0</td>\n      <td>False</td>\n      <td>{'symbols': [], 'user_mentions': [{'indices': ...</td>\n      <td>None</td>\n      <td>5694015226684070912</td>\n      <td>14</td>\n      <td>...</td>\n      <td>{'has_underscore': False, 'contains_swear': Fa...</td>\n      <td>{'verified': False, 'geo_enabled': False, 'fol...</td>\n      <td>NaN</td>\n      <td>NaN</td>\n      <td>en</td>\n      <td>2014-01-11 12:09:59+00:00</td>\n      <td>NaN</td>\n      <td>NaN</td>\n      <td>0.0</td>\n      <td>{'truncated': False, 'text': 'Evolution vs Cre...</td>\n    </tr>\n    <tr>\n      <th>2997</th>\n      <td>False</td>\n      <td>I'm waiting..@hSqMdDFwQ28X @oopJVLksUNyhFK @vZ...</td>\n      <td>NaN</td>\n      <td>7375230709778143680</td>\n      <td>15</td>\n      <td>False</td>\n      <td>{'symbols': [], 'user_mentions': [{'indices': ...</td>\n      <td>None</td>\n      <td>7375230709778143232</td>\n      <td>11</td>\n      <td>...</td>\n      <td>{'has_underscore': False, 'contains_swear': Fa...</td>\n      <td>{'verified': False, 'geo_enabled': False, 'fol...</td>\n      <td>NaN</td>\n      <td>NaN</td>\n      <td>en</td>\n      <td>2014-01-11 12:03:10+00:00</td>\n      <td>NaN</td>\n      <td>NaN</td>\n      <td>0.0</td>\n      <td>NaN</td>\n    </tr>\n    <tr>\n      <th>2998</th>\n      <td>False</td>\n      <td>Please help support theA_S_H, add a #Twibbon n...</td>\n      <td>NaN</td>\n      <td>8863079975948084704</td>\n      <td>2</td>\n      <td>False</td>\n      <td>{'symbols': [], 'user_mentions': [], 'hashtags...</td>\n      <td>None</td>\n      <td>8863079975948084224</td>\n      <td>2</td>\n      <td>...</td>\n      <td>{'has_underscore': False, 'contains_swear': Fa...</td>\n      <td>{'verified': False, 'geo_enabled': False, 'fol...</td>\n      <td>NaN</td>\n      <td>NaN</td>\n      <td>en</td>\n      <td>2014-01-11 11:56:19+00:00</td>\n      <td>NaN</td>\n      <td>NaN</td>\n      <td>0.0</td>\n      <td>NaN</td>\n    </tr>\n    <tr>\n      <th>2999</th>\n      <td>False</td>\n      <td>@nbwJtJEqMhY Happy Birthday my friend!! 🎯❤️</td>\n      <td>NaN</td>\n      <td>8483120723033585399</td>\n      <td>0</td>\n      <td>False</td>\n      <td>{'symbols': [], 'user_mentions': [{'indices': ...</td>\n      <td>nbwJtJEqMhY</td>\n      <td>8483120723033585664</td>\n      <td>0</td>\n      <td>...</td>\n      <td>{'has_underscore': False, 'contains_swear': Fa...</td>\n      <td>{'verified': False, 'geo_enabled': False, 'fol...</td>\n      <td>NaN</td>\n      <td>1.568636e+18</td>\n      <td>en</td>\n      <td>2014-01-11 11:54:52+00:00</td>\n      <td>NaN</td>\n      <td>NaN</td>\n      <td>NaN</td>\n      <td>NaN</td>\n    </tr>\n  </tbody>\n</table>\n<p>3000 rows × 21 columns</p>\n</div>"
     },
     "execution_count": 1,
     "metadata": {},
     "output_type": "execute_result"
    }
   ],
   "source": [
    "import pandas as pd\n",
    "\n",
    "df = pd.read_json('/Users/brookegrantham/Documents/DSP/shared_task_data/final_training_data/0/bdGih71WJ.tweets', lines=True)\n",
    "df"
   ],
   "metadata": {
    "collapsed": false,
    "pycharm": {
     "name": "#%%\n"
    }
   }
  },
  {
   "cell_type": "code",
   "execution_count": 2,
   "outputs": [],
   "source": [
    "df2 = pd.DataFrame.from_dict(df['user'][0], orient='index')"
   ],
   "metadata": {
    "collapsed": false,
    "pycharm": {
     "name": "#%%\n"
    }
   }
  },
  {
   "cell_type": "code",
   "execution_count": 3,
   "outputs": [
    {
     "data": {
      "text/plain": "                                               0\nverified                                   False\ngeo_enabled                                False\nfollowers_count                             3229\nlang                                          en\nutc_offset                                -18000\nstatuses_count                             39509\nfriends_count                                500\nscreen_name                            bdGih71WJ\nfavourites_count                           32617\nurl                                         None\ncreated_at        Thu Apr 02 13:48:45 +0000 2009\ntime_zone             Eastern Time (US & Canada)\nlisted_count                                 116",
      "text/html": "<div>\n<style scoped>\n    .dataframe tbody tr th:only-of-type {\n        vertical-align: middle;\n    }\n\n    .dataframe tbody tr th {\n        vertical-align: top;\n    }\n\n    .dataframe thead th {\n        text-align: right;\n    }\n</style>\n<table border=\"1\" class=\"dataframe\">\n  <thead>\n    <tr style=\"text-align: right;\">\n      <th></th>\n      <th>0</th>\n    </tr>\n  </thead>\n  <tbody>\n    <tr>\n      <th>verified</th>\n      <td>False</td>\n    </tr>\n    <tr>\n      <th>geo_enabled</th>\n      <td>False</td>\n    </tr>\n    <tr>\n      <th>followers_count</th>\n      <td>3229</td>\n    </tr>\n    <tr>\n      <th>lang</th>\n      <td>en</td>\n    </tr>\n    <tr>\n      <th>utc_offset</th>\n      <td>-18000</td>\n    </tr>\n    <tr>\n      <th>statuses_count</th>\n      <td>39509</td>\n    </tr>\n    <tr>\n      <th>friends_count</th>\n      <td>500</td>\n    </tr>\n    <tr>\n      <th>screen_name</th>\n      <td>bdGih71WJ</td>\n    </tr>\n    <tr>\n      <th>favourites_count</th>\n      <td>32617</td>\n    </tr>\n    <tr>\n      <th>url</th>\n      <td>None</td>\n    </tr>\n    <tr>\n      <th>created_at</th>\n      <td>Thu Apr 02 13:48:45 +0000 2009</td>\n    </tr>\n    <tr>\n      <th>time_zone</th>\n      <td>Eastern Time (US &amp; Canada)</td>\n    </tr>\n    <tr>\n      <th>listed_count</th>\n      <td>116</td>\n    </tr>\n  </tbody>\n</table>\n</div>"
     },
     "execution_count": 3,
     "metadata": {},
     "output_type": "execute_result"
    }
   ],
   "source": [
    "df2"
   ],
   "metadata": {
    "collapsed": false,
    "pycharm": {
     "name": "#%%\n"
    }
   }
  },
  {
   "cell_type": "code",
   "execution_count": 4,
   "outputs": [],
   "source": [
    "from transformers import ElectraPreTrainedModel"
   ],
   "metadata": {
    "collapsed": false,
    "pycharm": {
     "name": "#%%\n"
    }
   }
  },
  {
   "cell_type": "code",
   "execution_count": 1,
   "outputs": [],
   "source": [
    "import glob\n",
    "\n",
    "filenames = glob.glob('*_conv.csv')"
   ],
   "metadata": {
    "collapsed": false,
    "pycharm": {
     "name": "#%%\n"
    }
   }
  },
  {
   "cell_type": "code",
   "execution_count": 2,
   "outputs": [
    {
     "data": {
      "text/plain": "['10_conv.csv',\n '11_conv.csv',\n '8_conv.csv',\n '9_conv.csv',\n '24_conv.csv',\n '25_conv.csv',\n '2_conv.csv',\n '3_conv.csv',\n '29_conv.csv',\n '28_conv.csv',\n '17_conv.csv',\n '16_conv.csv',\n '23_conv.csv',\n '22_conv.csv',\n '5_conv.csv',\n '4_conv.csv',\n '27_conv.csv',\n '26_conv.csv',\n '1_conv.csv',\n '0_conv.csv',\n '19_conv.csv',\n '18_conv.csv',\n '13_conv.csv',\n '12_conv.csv',\n '30_conv.csv',\n '20_conv.csv',\n '21_conv.csv',\n '6_conv.csv',\n '7_conv.csv',\n '14_conv.csv',\n '15_conv.csv']"
     },
     "execution_count": 2,
     "metadata": {},
     "output_type": "execute_result"
    }
   ],
   "source": [],
   "metadata": {
    "collapsed": false,
    "pycharm": {
     "name": "#%%\n"
    }
   }
  }
 ],
 "metadata": {
  "kernelspec": {
   "display_name": "Python 3",
   "language": "python",
   "name": "python3"
  },
  "language_info": {
   "codemirror_mode": {
    "name": "ipython",
    "version": 2
   },
   "file_extension": ".py",
   "mimetype": "text/x-python",
   "name": "python",
   "nbconvert_exporter": "python",
   "pygments_lexer": "ipython2",
   "version": "2.7.6"
  }
 },
 "nbformat": 4,
 "nbformat_minor": 0
}