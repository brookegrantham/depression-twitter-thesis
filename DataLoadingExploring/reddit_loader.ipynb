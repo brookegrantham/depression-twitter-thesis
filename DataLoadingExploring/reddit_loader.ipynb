{
 "cells": [
  {
   "cell_type": "code",
   "execution_count": 69,
   "metadata": {
    "collapsed": true,
    "pycharm": {
     "name": "#%%\n"
    }
   },
   "outputs": [],
   "source": [
    "import pandas as pd\n",
    "\n",
    "dev_df = pd.read_csv('/Users/brookegrantham/Documents/dev_reddit.tsv',\n",
    "                 delimiter='\\t',\n",
    "                 header=0)\n",
    "train_df = pd.read_csv('/Users/brookegrantham/Documents/training_reddit.tsv',\n",
    "                 delimiter='\\t',\n",
    "                 header=0)\n",
    "\n",
    "dev_df = dev_df.rename(columns={'Text data': 'Text_data'})"
   ]
  },
  {
   "cell_type": "code",
   "execution_count": 70,
   "outputs": [],
   "source": [
    "df = pd.concat((dev_df,train_df))"
   ],
   "metadata": {
    "collapsed": false,
    "pycharm": {
     "name": "#%%\n"
    }
   }
  },
  {
   "cell_type": "code",
   "execution_count": 71,
   "outputs": [],
   "source": [
    "df = df.drop_duplicates(subset='Text_data', keep=False)"
   ],
   "metadata": {
    "collapsed": false,
    "pycharm": {
     "name": "#%%\n"
    }
   }
  },
  {
   "cell_type": "code",
   "execution_count": 75,
   "outputs": [
    {
     "data": {
      "text/plain": "array(['moderate', 'not depression', 'severe'], dtype=object)"
     },
     "execution_count": 75,
     "metadata": {},
     "output_type": "execute_result"
    }
   ],
   "source": [
    "df['Label'].unique()"
   ],
   "metadata": {
    "collapsed": false,
    "pycharm": {
     "name": "#%%\n"
    }
   }
  },
  {
   "cell_type": "code",
   "execution_count": 79,
   "outputs": [],
   "source": [
    "df['Label']=df['Label'].replace({'not depression': 0, 'moderate': 1, 'severe': 2})"
   ],
   "metadata": {
    "collapsed": false,
    "pycharm": {
     "name": "#%%\n"
    }
   }
  },
  {
   "cell_type": "code",
   "execution_count": 81,
   "outputs": [],
   "source": [
    "df.to_csv(\"reddit_set.csv\")"
   ],
   "metadata": {
    "collapsed": false,
    "pycharm": {
     "name": "#%%\n"
    }
   }
  },
  {
   "cell_type": "code",
   "execution_count": 2,
   "outputs": [
    {
     "data": {
      "text/plain": "{'data': [{'all_awardings': [],\n   'archived': False,\n   'associated_award': None,\n   'author': 'smartminds88',\n   'author_flair_background_color': None,\n   'author_flair_css_class': None,\n   'author_flair_richtext': [],\n   'author_flair_template_id': None,\n   'author_flair_text': None,\n   'author_flair_text_color': None,\n   'author_flair_type': 'text',\n   'author_fullname': 't2_hlgomepw',\n   'author_patreon_flair': False,\n   'author_premium': False,\n   'body': 'I started Affiliate Marketing with zero audiences, you have to start somewhere, Create a blog, a Facebook page Instagram page, or a youtube channel. the whole idea is to work on the traffic, the long way is through SEO and the short way is through paid ads. Hope this helps :)',\n   'body_sha1': '8f69ec20410e97eee94c8f6730012355abc8afc3',\n   'can_gild': True,\n   'collapsed': False,\n   'collapsed_because_crowd_control': None,\n   'collapsed_reason': None,\n   'collapsed_reason_code': None,\n   'comment_type': None,\n   'controversiality': 0,\n   'created_utc': 1660149188,\n   'distinguished': None,\n   'gilded': 0,\n   'gildings': {},\n   'id': 'ijqk8ut',\n   'is_submitter': False,\n   'link_id': 't3_wkbz45',\n   'locked': False,\n   'no_follow': True,\n   'parent_id': 't3_wkbz45',\n   'permalink': '/r/sidehustle/comments/wkbz45/sidehustle_beside_jobs/ijqk8ut/',\n   'retrieved_utc': 1660149200,\n   'score': 1,\n   'score_hidden': False,\n   'send_replies': True,\n   'stickied': False,\n   'subreddit': 'sidehustle',\n   'subreddit_id': 't5_2yc1k',\n   'subreddit_name_prefixed': 'r/sidehustle',\n   'subreddit_type': 'public',\n   'top_awarded_type': None,\n   'total_awards_received': 0,\n   'treatment_tags': [],\n   'unrepliable_reason': None},\n  {'all_awardings': [],\n   'archived': False,\n   'associated_award': None,\n   'author': 'Seo_Coach',\n   'author_flair_background_color': None,\n   'author_flair_css_class': None,\n   'author_flair_richtext': [],\n   'author_flair_template_id': None,\n   'author_flair_text': None,\n   'author_flair_text_color': None,\n   'author_flair_type': 'text',\n   'author_fullname': 't2_10vura',\n   'author_patreon_flair': False,\n   'author_premium': False,\n   'body': 'SEO will always be very good for local businesses',\n   'body_sha1': 'd7d81c8a59b60c6ca5d524ba051876bdaeb39c20',\n   'can_gild': True,\n   'collapsed': False,\n   'collapsed_because_crowd_control': None,\n   'collapsed_reason': None,\n   'collapsed_reason_code': None,\n   'comment_type': None,\n   'controversiality': 0,\n   'created_utc': 1660149136,\n   'distinguished': None,\n   'gilded': 0,\n   'gildings': {},\n   'id': 'ijqk3ts',\n   'is_submitter': False,\n   'link_id': 't3_wkyupf',\n   'locked': False,\n   'no_follow': True,\n   'parent_id': 't1_ijqg08u',\n   'permalink': '/r/Entrepreneur/comments/wkyupf/how_seo_saved_us_as_a_small_business_we_ranked/ijqk3ts/',\n   'retrieved_utc': 1660149150,\n   'score': 1,\n   'score_hidden': True,\n   'send_replies': True,\n   'stickied': False,\n   'subreddit': 'Entrepreneur',\n   'subreddit_id': 't5_2qldo',\n   'subreddit_name_prefixed': 'r/Entrepreneur',\n   'subreddit_type': 'public',\n   'top_awarded_type': None,\n   'total_awards_received': 0,\n   'treatment_tags': [],\n   'unrepliable_reason': None},\n  {'all_awardings': [],\n   'archived': False,\n   'associated_award': None,\n   'author': 'rt831',\n   'author_flair_background_color': None,\n   'author_flair_css_class': None,\n   'author_flair_richtext': [],\n   'author_flair_template_id': None,\n   'author_flair_text': None,\n   'author_flair_text_color': None,\n   'author_flair_type': 'text',\n   'author_fullname': 't2_678t42vl',\n   'author_patreon_flair': False,\n   'author_premium': False,\n   'body': 'I’ve had the site since 2016 or so but never really spent much time learning on how to make it successful until now. \\nI don’t want to bug you with naive questions for basic knowledge because I even lack that when it comes to SEO so right now I’m just looking for good resources to build that foundation',\n   'body_sha1': '6327e75ca984412fa4608641d96344731e456f2a',\n   'can_gild': True,\n   'collapsed': False,\n   'collapsed_because_crowd_control': None,\n   'collapsed_reason': None,\n   'collapsed_reason_code': None,\n   'comment_type': None,\n   'controversiality': 0,\n   'created_utc': 1660148940,\n   'distinguished': None,\n   'gilded': 0,\n   'gildings': {},\n   'id': 'ijqjkro',\n   'is_submitter': True,\n   'link_id': 't3_wkhmis',\n   'locked': False,\n   'no_follow': True,\n   'parent_id': 't1_ijo4uop',\n   'permalink': '/r/shopify/comments/wkhmis/best_sources_for_seoads/ijqjkro/',\n   'retrieved_utc': 1660148953,\n   'score': 1,\n   'score_hidden': True,\n   'send_replies': True,\n   'stickied': False,\n   'subreddit': 'shopify',\n   'subreddit_id': 't5_2sn78',\n   'subreddit_name_prefixed': 'r/shopify',\n   'subreddit_type': 'public',\n   'top_awarded_type': None,\n   'total_awards_received': 0,\n   'treatment_tags': [],\n   'unrepliable_reason': None},\n  {'all_awardings': [],\n   'archived': False,\n   'associated_award': None,\n   'author': 'qverb',\n   'author_flair_background_color': '',\n   'author_flair_css_class': '',\n   'author_flair_richtext': [],\n   'author_flair_template_id': None,\n   'author_flair_text': 'moderator',\n   'author_flair_text_color': 'dark',\n   'author_flair_type': 'text',\n   'author_fullname': 't2_3l7kt',\n   'author_patreon_flair': False,\n   'author_premium': False,\n   'body': \"&gt; SEO makes very little sense initially\\n\\nI disagree with this.  Your site SEO should be your primary focus from the moment you start building your site.  Ignoring this at any point is only going to cost you down the road.  \\n\\nSearch and social ads are fine, but if your site isn't optimized then anyone even doing a cursory search of your site is going to see that you are basically invisible to Google - and that is a 100% customer confidence killer.\",\n   'body_sha1': 'c57d28a31c46fc3b27b7da110ee212b2257bc236',\n   'can_gild': True,\n   'collapsed': False,\n   'collapsed_because_crowd_control': None,\n   'collapsed_reason': None,\n   'collapsed_reason_code': None,\n   'comment_type': None,\n   'controversiality': 0,\n   'created_utc': 1660148907,\n   'distinguished': None,\n   'gilded': 0,\n   'gildings': {},\n   'id': 'ijqjhqo',\n   'is_submitter': False,\n   'link_id': 't3_wl13va',\n   'locked': False,\n   'no_follow': True,\n   'parent_id': 't1_ijqhm47',\n   'permalink': '/r/ecommerce/comments/wl13va/should_i_invest_in_seosemcro_or_social_paid_ads/ijqjhqo/',\n   'retrieved_utc': 1660148920,\n   'score': 1,\n   'score_hidden': False,\n   'send_replies': True,\n   'stickied': False,\n   'subreddit': 'ecommerce',\n   'subreddit_id': 't5_2qhin',\n   'subreddit_name_prefixed': 'r/ecommerce',\n   'subreddit_type': 'public',\n   'top_awarded_type': None,\n   'total_awards_received': 0,\n   'treatment_tags': [],\n   'unrepliable_reason': None},\n  {'all_awardings': [],\n   'archived': False,\n   'associated_award': None,\n   'author': 'Eisenhorn76',\n   'author_flair_background_color': None,\n   'author_flair_css_class': 'JB4',\n   'author_flair_richtext': [],\n   'author_flair_template_id': '00cc1004-1a00-11ea-a44c-0e570514a625',\n   'author_flair_text': 'Jaylen',\n   'author_flair_text_color': 'dark',\n   'author_flair_type': 'text',\n   'author_fullname': 't2_cvxh2',\n   'author_patreon_flair': False,\n   'author_premium': False,\n   'body': 'Sure — but at least Zach was very clear in mentioning that he didn’t think a deal was ever close AND that it was something that had been discussed a while back. \\n\\nHe and Bontemps also made clear that basically all 29 teams probably placed a call because that’s the job. That is, it’s due diligence because it’s a player of KD’s stature. Remember: when Lebron became a Free Agent, Danny placed a call to Rich Paul to register interest. \\n\\nIt’s completely different from what Shams has been doing. He has made it sound like a deal was something imminent/new. Even in reporting KD’s demand, he added the JB thing at the end, which wasn’t *new* info but just served to stir the pot up all over again. \\n\\nIt’s clearly driving someone’s agenda - maybe KD’s or maybe Brooklyn’s. Even Karalis made fun of it because there was suddenly stuff about KD and Ime having a close relationship. \\n\\nIt’s totally bogus but that’s how Shams gets his bag. \\n\\n(Frankly, the JB thrown-in towards the end of Shams’ Athletic piece sounded like SEO stuff at the end of those fluff articles with one snippet of pseudo ‘new’ information on a superhero movie: “starring Chris Hemsworth, Thor: Love and Thunder also stars Natalie Portman as Jane Foster along with Chris Pratt, Tessa Thompson, etc. etc.” - you get the picture).',\n   'body_sha1': '4f6f599d4acedf9e144e011f633726aa3a1c8741',\n   'can_gild': True,\n   'collapsed': False,\n   'collapsed_because_crowd_control': None,\n   'collapsed_reason': None,\n   'collapsed_reason_code': None,\n   'comment_type': None,\n   'controversiality': 0,\n   'created_utc': 1660148856,\n   'distinguished': None,\n   'gilded': 0,\n   'gildings': {},\n   'id': 'ijqjcqi',\n   'is_submitter': False,\n   'link_id': 't3_wky1h2',\n   'locked': False,\n   'no_follow': True,\n   'parent_id': 't1_ijqgzm1',\n   'permalink': '/r/bostonceltics/comments/wky1h2/do_you_think_that_the_reported_offer_of_white/ijqjcqi/',\n   'retrieved_utc': 1660148867,\n   'score': 1,\n   'score_hidden': False,\n   'send_replies': True,\n   'stickied': False,\n   'subreddit': 'bostonceltics',\n   'subreddit_id': 't5_2qmkf',\n   'subreddit_name_prefixed': 'r/bostonceltics',\n   'subreddit_type': 'public',\n   'top_awarded_type': None,\n   'total_awards_received': 0,\n   'treatment_tags': [],\n   'unrepliable_reason': None},\n  {'all_awardings': [],\n   'archived': False,\n   'associated_award': None,\n   'author': 'bbax51',\n   'author_flair_background_color': None,\n   'author_flair_css_class': None,\n   'author_flair_richtext': [],\n   'author_flair_template_id': None,\n   'author_flair_text': None,\n   'author_flair_text_color': None,\n   'author_flair_type': 'text',\n   'author_fullname': 't2_w6aye',\n   'author_patreon_flair': False,\n   'author_premium': False,\n   'body': \"If you think a near trillion $ company has 70% luck involved in their selection of websites for SERPs you're delusional.\\n\\nJust because your approach to SEO is based on luck, doesn't mean Google's is.\",\n   'body_sha1': '81031dfa72168454d4ec4847a557261acd655887',\n   'can_gild': True,\n   'collapsed': False,\n   'collapsed_because_crowd_control': None,\n   'collapsed_reason': None,\n   'collapsed_reason_code': None,\n   'comment_type': None,\n   'controversiality': 0,\n   'created_utc': 1660148238,\n   'distinguished': None,\n   'gilded': 0,\n   'gildings': {},\n   'id': 'ijqhogp',\n   'is_submitter': False,\n   'link_id': 't3_wknba3',\n   'locked': False,\n   'no_follow': True,\n   'parent_id': 't1_ijqesjz',\n   'permalink': '/r/SEO/comments/wknba3/serious_how_does_an_seo_analyst_fill_up_an/ijqhogp/',\n   'retrieved_utc': 1660148252,\n   'score': 1,\n   'score_hidden': True,\n   'send_replies': True,\n   'stickied': False,\n   'subreddit': 'SEO',\n   'subreddit_id': 't5_2qhbx',\n   'subreddit_name_prefixed': 'r/SEO',\n   'subreddit_type': 'public',\n   'top_awarded_type': None,\n   'total_awards_received': 0,\n   'treatment_tags': [],\n   'unrepliable_reason': None},\n  {'all_awardings': [],\n   'archived': False,\n   'associated_award': None,\n   'author': 'aercea',\n   'author_flair_background_color': None,\n   'author_flair_css_class': None,\n   'author_flair_richtext': [],\n   'author_flair_template_id': None,\n   'author_flair_text': None,\n   'author_flair_text_color': None,\n   'author_flair_type': 'text',\n   'author_fullname': 't2_oxbr7wdn',\n   'author_patreon_flair': False,\n   'author_premium': False,\n   'body': 'Run search ads or social ads. Easy enough to do it by yourself or pay some freelancer to do it for you. SEO makes very little sense initially. Why CRO when you have no conversions or traffic yet.',\n   'body_sha1': '3e0d75fa1bcc06ce6c70bffdc5f65682f0e28ef7',\n   'can_gild': True,\n   'collapsed': False,\n   'collapsed_because_crowd_control': None,\n   'collapsed_reason': None,\n   'collapsed_reason_code': None,\n   'comment_type': None,\n   'controversiality': 0,\n   'created_utc': 1660148213,\n   'distinguished': None,\n   'gilded': 0,\n   'gildings': {},\n   'id': 'ijqhm47',\n   'is_submitter': False,\n   'link_id': 't3_wl13va',\n   'locked': False,\n   'no_follow': True,\n   'parent_id': 't3_wl13va',\n   'permalink': '/r/ecommerce/comments/wl13va/should_i_invest_in_seosemcro_or_social_paid_ads/ijqhm47/',\n   'retrieved_utc': 1660148229,\n   'score': 1,\n   'score_hidden': False,\n   'send_replies': True,\n   'stickied': False,\n   'subreddit': 'ecommerce',\n   'subreddit_id': 't5_2qhin',\n   'subreddit_name_prefixed': 'r/ecommerce',\n   'subreddit_type': 'public',\n   'top_awarded_type': None,\n   'total_awards_received': 0,\n   'treatment_tags': [],\n   'unrepliable_reason': None},\n  {'all_awardings': [],\n   'archived': False,\n   'associated_award': None,\n   'author': 'halolover48',\n   'author_flair_background_color': None,\n   'author_flair_css_class': None,\n   'author_flair_richtext': [],\n   'author_flair_template_id': None,\n   'author_flair_text': None,\n   'author_flair_text_color': None,\n   'author_flair_type': 'text',\n   'author_fullname': 't2_2g86xyjo',\n   'author_patreon_flair': False,\n   'author_premium': False,\n   'body': \"Seo is genuinely awful. If you enjoy writing highly specific essays all day it's great though\",\n   'body_sha1': '7c0540401d045eface902488e419dde3137f12c2',\n   'can_gild': True,\n   'collapsed': False,\n   'collapsed_because_crowd_control': None,\n   'collapsed_reason': None,\n   'collapsed_reason_code': None,\n   'comment_type': None,\n   'controversiality': 0,\n   'created_utc': 1660148094,\n   'distinguished': None,\n   'gilded': 0,\n   'gildings': {},\n   'id': 'ijqhalz',\n   'is_submitter': False,\n   'link_id': 't3_wknba3',\n   'locked': False,\n   'no_follow': False,\n   'parent_id': 't3_wknba3',\n   'permalink': '/r/SEO/comments/wknba3/serious_how_does_an_seo_analyst_fill_up_an/ijqhalz/',\n   'retrieved_utc': 1660148109,\n   'score': 1,\n   'score_hidden': True,\n   'send_replies': True,\n   'stickied': False,\n   'subreddit': 'SEO',\n   'subreddit_id': 't5_2qhbx',\n   'subreddit_name_prefixed': 'r/SEO',\n   'subreddit_type': 'public',\n   'top_awarded_type': None,\n   'total_awards_received': 0,\n   'treatment_tags': [],\n   'unrepliable_reason': None},\n  {'all_awardings': [],\n   'archived': False,\n   'associated_award': None,\n   'author': 'LynnHFinn',\n   'author_flair_background_color': None,\n   'author_flair_css_class': None,\n   'author_flair_richtext': [],\n   'author_flair_template_id': None,\n   'author_flair_text': None,\n   'author_flair_text_color': None,\n   'author_flair_type': 'text',\n   'author_fullname': 't2_iaibpy5o',\n   'author_patreon_flair': False,\n   'author_premium': False,\n   'body': 'Well, I have confidence issues myself, and they were especially pronounced a few months ago when I first started exploring freelancing. I started with Catchafire (mentioned in the wiki), volunteering to write for causes I care about. That gave me the experience of meeting with clients, working with them through the revision and editing process, and meeting deadlines. I did a few projects there. Then, I also did some volunteer writing on a couple of other sites.  \\n\\nThe first paid writing I\\'ve done has been since the end of June. I applied and was accepted to Crowd Content. Writing blogs, landing pages, using Surfer SEO, and other writing projects had helped me immensely. I now realize the type of writing such clients are looking for (and found out that when I try to get too creative in my writing, I need to dial it back because that\\'s usually not what business clients want). My writing gets rated on that site, and so far, the feedback has been pretty good (no negative reviews and some above average ratings). It has been a wealth of experience for me, I\\'ve made close to $2000 and the work has been easy, IMO. (But I\\'m a teacher, so I have time to do this during the summer). I like the freedom of working when I feel like it--e.g., the last three days I haven\\'t written anything because I didn\\'t feel like it.  The main reason I accepted the freelance position at CC was for the experience, and I feel I\\'m getting that.  I\\'ve just now started to look into Upwork. I\\'m going through \"how to\" videos, reading their TOS, etc.',\n   'body_sha1': '775d1c68ae6662aeea66fb1a240e0375f2868970',\n   'can_gild': True,\n   'collapsed': False,\n   'collapsed_because_crowd_control': None,\n   'collapsed_reason': None,\n   'collapsed_reason_code': None,\n   'comment_type': None,\n   'controversiality': 0,\n   'created_utc': 1660147866,\n   'distinguished': None,\n   'gilded': 0,\n   'gildings': {},\n   'id': 'ijqgozy',\n   'is_submitter': False,\n   'link_id': 't3_wl0ahy',\n   'locked': False,\n   'no_follow': True,\n   'parent_id': 't3_wl0ahy',\n   'permalink': '/r/freelanceWriters/comments/wl0ahy/would_upwork_or_a_content_mill_be_more_suitable/ijqgozy/',\n   'retrieved_utc': 1660147880,\n   'score': 1,\n   'score_hidden': True,\n   'send_replies': True,\n   'stickied': False,\n   'subreddit': 'freelanceWriters',\n   'subreddit_id': 't5_2s9hc',\n   'subreddit_name_prefixed': 'r/freelanceWriters',\n   'subreddit_type': 'public',\n   'top_awarded_type': None,\n   'total_awards_received': 0,\n   'treatment_tags': [],\n   'unrepliable_reason': None},\n  {'all_awardings': [],\n   'archived': False,\n   'associated_award': None,\n   'author': 'custyclocks',\n   'author_flair_background_color': None,\n   'author_flair_css_class': None,\n   'author_flair_richtext': [],\n   'author_flair_template_id': None,\n   'author_flair_text': None,\n   'author_flair_text_color': None,\n   'author_flair_type': 'text',\n   'author_fullname': 't2_9jxm81d1',\n   'author_patreon_flair': False,\n   'author_premium': False,\n   'body': 'SEO professional here, moving into freelance/starting my own company with my landlord/coworker soon... Wish I could show this to the people that we cold call...',\n   'body_sha1': 'd89b8f8f94eda06ae5a3c2faa55399ee015e44c4',\n   'can_gild': True,\n   'collapsed': False,\n   'collapsed_because_crowd_control': None,\n   'collapsed_reason': None,\n   'collapsed_reason_code': None,\n   'comment_type': None,\n   'controversiality': 0,\n   'created_utc': 1660147607,\n   'distinguished': None,\n   'gilded': 0,\n   'gildings': {},\n   'id': 'ijqg08u',\n   'is_submitter': False,\n   'link_id': 't3_wkyupf',\n   'locked': False,\n   'no_follow': True,\n   'parent_id': 't3_wkyupf',\n   'permalink': '/r/Entrepreneur/comments/wkyupf/how_seo_saved_us_as_a_small_business_we_ranked/ijqg08u/',\n   'retrieved_utc': 1660147619,\n   'score': 1,\n   'score_hidden': True,\n   'send_replies': True,\n   'stickied': False,\n   'subreddit': 'Entrepreneur',\n   'subreddit_id': 't5_2qldo',\n   'subreddit_name_prefixed': 'r/Entrepreneur',\n   'subreddit_type': 'public',\n   'top_awarded_type': None,\n   'total_awards_received': 0,\n   'treatment_tags': [],\n   'unrepliable_reason': None},\n  {'all_awardings': [],\n   'archived': False,\n   'associated_award': None,\n   'author': 'just_an_incarnation',\n   'author_flair_background_color': None,\n   'author_flair_css_class': None,\n   'author_flair_richtext': [],\n   'author_flair_template_id': None,\n   'author_flair_text': None,\n   'author_flair_text_color': None,\n   'author_flair_type': 'text',\n   'author_fullname': 't2_8s60w7vm',\n   'author_patreon_flair': False,\n   'author_premium': False,\n   'body': \"**Ask yourself this: What level of success do you want/need? in how lucrative $$ a niche?**\\n\\nI guess I'm doing it wrong, but learning seo, identifying new ranking factors, staying ahead of our competition, doing competitive analysis, adding in new ranking factors, and signals, in *tough* niches, takes 6-8 hours a day for us.\\n\\n**If your competitors are spending 8 hours a day doing SEO building signals, then you have to match them. Or eventually, they will overtake you.**\\n\\nso sure, you can fuck the dog for awhile, then you will get over taken in the serps. And get a new job / client / role. etc.\\n\\nBeing in a group that does all that discovery for you really helps. i know of a few. If interested msg me\\n\\ngood luck! :-)\",\n   'body_sha1': 'adf2be0f19e407faf58e58495cbc57334a275c25',\n   'can_gild': True,\n   'collapsed': False,\n   'collapsed_because_crowd_control': None,\n   'collapsed_reason': None,\n   'collapsed_reason_code': None,\n   'comment_type': None,\n   'controversiality': 0,\n   'created_utc': 1660147447,\n   'distinguished': None,\n   'gilded': 0,\n   'gildings': {},\n   'id': 'ijqfkv8',\n   'is_submitter': False,\n   'link_id': 't3_wknba3',\n   'locked': False,\n   'no_follow': True,\n   'parent_id': 't3_wknba3',\n   'permalink': '/r/SEO/comments/wknba3/serious_how_does_an_seo_analyst_fill_up_an/ijqfkv8/',\n   'retrieved_utc': 1660147458,\n   'score': 1,\n   'score_hidden': True,\n   'send_replies': True,\n   'stickied': False,\n   'subreddit': 'SEO',\n   'subreddit_id': 't5_2qhbx',\n   'subreddit_name_prefixed': 'r/SEO',\n   'subreddit_type': 'public',\n   'top_awarded_type': None,\n   'total_awards_received': 0,\n   'treatment_tags': [],\n   'unrepliable_reason': None},\n  {'all_awardings': [],\n   'archived': False,\n   'associated_award': None,\n   'author': 'alphaweightedtrader',\n   'author_flair_background_color': None,\n   'author_flair_css_class': None,\n   'author_flair_richtext': [],\n   'author_flair_template_id': None,\n   'author_flair_text': None,\n   'author_flair_text_color': None,\n   'author_flair_type': 'text',\n   'author_fullname': 't2_jhhafa9r',\n   'author_patreon_flair': False,\n   'author_premium': True,\n   'body': \"Imo the best way is...\\n\\none front end.  Just one, for all locales.  Externalise all the content (strings, etc), and any images that need localizing (e.g. logo text, etc).  Ofc avoid having images that need localizing.\\n\\nServe all that content from a CMS, not necessarily headless, but maybe easier that way.  Handle the content and the translation in the CMS.  Including for images if relevant.\\n\\nIn the UI, autodetect locale and/or let the user select, fetch the relevant content and display it.  Cookie/localStorage/JS to retain the preference.  Doesn't have to be part of the URL but can be (maybe better for SEO).\\n\\nThis should work pretty much fine for any number of languages.  The only extra complication is for right-to-left languages where you'll need some (small) markup handling, and ofc you'll need to test that it works and looks ok.\\n\\nFor numbers, dates, etc, use libraries to handle formatting.  For \\\\*all\\\\* numbers and dates, there's lots of locale-specific formatting conventions.\\n\\nThis way you have one UI with one set of logic/code/etc to build &amp; debug, and the localization is 'just' a variable.\\n\\nThere's a whole craft around producing properly localized content, and its difficult to be more specific without knowing your UI, stack, or what you're building.\\n\\nSource: 20 years on internationalized platforms for global clients and their customers. Also building a headless CMS.\",\n   'body_sha1': 'ce2b373dbed584b9f85264d61020a3e6cf9370be',\n   'can_gild': True,\n   'collapsed': False,\n   'collapsed_because_crowd_control': None,\n   'collapsed_reason': None,\n   'collapsed_reason_code': None,\n   'comment_type': None,\n   'controversiality': 0,\n   'created_utc': 1660147390,\n   'distinguished': None,\n   'gilded': 0,\n   'gildings': {},\n   'id': 'ijqffi7',\n   'is_submitter': False,\n   'link_id': 't3_wjz8rc',\n   'locked': False,\n   'no_follow': True,\n   'parent_id': 't3_wjz8rc',\n   'permalink': '/r/webdev/comments/wjz8rc/internationalization_on_the_frontend_managed_or/ijqffi7/',\n   'retrieved_utc': 1660147402,\n   'score': 1,\n   'score_hidden': True,\n   'send_replies': True,\n   'stickied': False,\n   'subreddit': 'webdev',\n   'subreddit_id': 't5_2qs0q',\n   'subreddit_name_prefixed': 'r/webdev',\n   'subreddit_type': 'public',\n   'top_awarded_type': None,\n   'total_awards_received': 0,\n   'treatment_tags': [],\n   'unrepliable_reason': None},\n  {'all_awardings': [],\n   'archived': False,\n   'associated_award': None,\n   'author': 'ThePittWolf',\n   'author_flair_background_color': '',\n   'author_flair_css_class': '89b811e6-a92f-11eb-92b4-0e0580462801',\n   'author_flair_richtext': [{'e': 'text', 't': 'Monkey in Space'}],\n   'author_flair_template_id': None,\n   'author_flair_text': 'Monkey in Space',\n   'author_flair_text_color': 'dark',\n   'author_flair_type': 'richtext',\n   'author_fullname': 't2_dsy33',\n   'author_patreon_flair': False,\n   'author_premium': False,\n   'body': 'Can someone explain why his podcasts always always always auto okay after literally any video I play on YT?  I don’t search for his videos or watch them on YouTube.  He has like the best SEO skills in the planet',\n   'body_sha1': '59cbc2f1d84cde418e1b402d00e25aca26f8a100',\n   'can_gild': True,\n   'collapsed': False,\n   'collapsed_because_crowd_control': None,\n   'collapsed_reason': None,\n   'collapsed_reason_code': None,\n   'comment_type': None,\n   'controversiality': 0,\n   'created_utc': 1660147300,\n   'distinguished': None,\n   'gilded': 0,\n   'gildings': {},\n   'id': 'ijqf6uz',\n   'is_submitter': False,\n   'link_id': 't3_wko6d0',\n   'locked': False,\n   'no_follow': False,\n   'parent_id': 't3_wko6d0',\n   'permalink': '/r/JoeRogan/comments/wko6d0/lex_fridman_is_the_new_jre/ijqf6uz/',\n   'retrieved_utc': 1660147312,\n   'score': 1,\n   'score_hidden': True,\n   'send_replies': True,\n   'stickied': False,\n   'subreddit': 'JoeRogan',\n   'subreddit_id': 't5_2s4tv',\n   'subreddit_name_prefixed': 'r/JoeRogan',\n   'subreddit_type': 'public',\n   'top_awarded_type': None,\n   'total_awards_received': 0,\n   'treatment_tags': [],\n   'unrepliable_reason': None},\n  {'all_awardings': [],\n   'archived': False,\n   'associated_award': None,\n   'author': 'uselessusernamewbk',\n   'author_flair_background_color': 'transparent',\n   'author_flair_css_class': None,\n   'author_flair_richtext': [{'a': ':skzoo6:',\n     'e': 'emoji',\n     'u': 'https://emoji.redditmedia.com/dsmsjcgvqgh61_t5_3ozlw/skzoo6'}],\n   'author_flair_template_id': '12614a9c-6edb-11eb-9f0f-0e2ceff3d8cf',\n   'author_flair_text': ':skzoo6:',\n   'author_flair_text_color': 'dark',\n   'author_flair_type': 'richtext',\n   'author_fullname': 't2_dki113sv',\n   'author_patreon_flair': False,\n   'author_premium': False,\n   'body': 'Happy Birthday to Seo Changbin, my first ever kpop bias wrecker!',\n   'body_sha1': '84a10f6b766b5f218c54174a03ba7c8853095e35',\n   'can_gild': True,\n   'collapsed': False,\n   'collapsed_because_crowd_control': None,\n   'collapsed_reason': None,\n   'collapsed_reason_code': None,\n   'comment_type': None,\n   'controversiality': 0,\n   'created_utc': 1660146981,\n   'distinguished': None,\n   'gilded': 0,\n   'gildings': {},\n   'id': 'ijqec14',\n   'is_submitter': False,\n   'link_id': 't3_wkznzx',\n   'locked': False,\n   'no_follow': True,\n   'parent_id': 't3_wkznzx',\n   'permalink': '/r/straykids/comments/wkznzx/220811_happy_birthday_changbin/ijqec14/',\n   'retrieved_utc': 1660146994,\n   'score': 1,\n   'score_hidden': True,\n   'send_replies': True,\n   'stickied': False,\n   'subreddit': 'straykids',\n   'subreddit_id': 't5_3ozlw',\n   'subreddit_name_prefixed': 'r/straykids',\n   'subreddit_type': 'public',\n   'top_awarded_type': None,\n   'total_awards_received': 0,\n   'treatment_tags': [],\n   'unrepliable_reason': None},\n  {'all_awardings': [],\n   'archived': False,\n   'associated_award': None,\n   'author': 'deal-with-it-',\n   'author_flair_background_color': None,\n   'author_flair_css_class': None,\n   'author_flair_richtext': [],\n   'author_flair_template_id': None,\n   'author_flair_text': None,\n   'author_flair_text_color': None,\n   'author_flair_type': 'text',\n   'author_fullname': 't2_iq3fq',\n   'author_patreon_flair': False,\n   'author_premium': False,\n   'body': 'ITT: como fazer SEO para dizer que foi o vídeo que mais apareceu nas pesquisas 😂',\n   'body_sha1': '6067e8a8dc49963732460868db6da52b452ece51',\n   'can_gild': True,\n   'collapsed': False,\n   'collapsed_because_crowd_control': None,\n   'collapsed_reason': None,\n   'collapsed_reason_code': None,\n   'comment_type': None,\n   'controversiality': 0,\n   'created_utc': 1660146780,\n   'distinguished': None,\n   'gilded': 0,\n   'gildings': {},\n   'id': 'ijqdsrw',\n   'is_submitter': False,\n   'link_id': 't3_wkvrdj',\n   'locked': False,\n   'no_follow': True,\n   'parent_id': 't3_wkvrdj',\n   'permalink': '/r/brasilivre/comments/wkvrdj/sentiu/ijqdsrw/',\n   'retrieved_utc': 1660146795,\n   'score': 1,\n   'score_hidden': True,\n   'send_replies': True,\n   'stickied': False,\n   'subreddit': 'brasilivre',\n   'subreddit_id': 't5_351wl',\n   'subreddit_name_prefixed': 'r/brasilivre',\n   'subreddit_type': 'public',\n   'top_awarded_type': None,\n   'total_awards_received': 0,\n   'treatment_tags': [],\n   'unrepliable_reason': None},\n  {'all_awardings': [],\n   'archived': False,\n   'associated_award': None,\n   'author': 'michoguy',\n   'author_flair_background_color': None,\n   'author_flair_css_class': None,\n   'author_flair_richtext': [],\n   'author_flair_template_id': None,\n   'author_flair_text': None,\n   'author_flair_text_color': None,\n   'author_flair_type': 'text',\n   'author_fullname': 't2_8fx7h',\n   'author_patreon_flair': False,\n   'author_premium': False,\n   'body': 'There is a shortage of Contractors right now so you should be in high demand. \\nCall contractors, construction companies, drywall companies and ask them to try you out or refer you. \\nAlso call the smaller carpet/flooring companies and try to get in with one of them. \\nWord of mouth is still one of of the strongest ways to get work so do good work and ask to be referred. \\nMake a cheap but good looking  website (WIX, Square space, etc) with good SEO and try to get listed above everyone else on Google. There are tutorials on how you can do this and should cost minimal amount. \\nAsk your clients if the can leave a Google or Facebook review to rank higher In searches for a 5% discount',\n   'body_sha1': 'ead7b96d5cca9ad95d06c1ebc7354fff1f5baa7d',\n   'can_gild': True,\n   'collapsed': False,\n   'collapsed_because_crowd_control': None,\n   'collapsed_reason': None,\n   'collapsed_reason_code': None,\n   'comment_type': None,\n   'controversiality': 0,\n   'created_utc': 1660146727,\n   'distinguished': None,\n   'gilded': 0,\n   'gildings': {},\n   'id': 'ijqdnqt',\n   'is_submitter': False,\n   'link_id': 't3_wl00kc',\n   'locked': False,\n   'no_follow': True,\n   'parent_id': 't3_wl00kc',\n   'permalink': '/r/DaltonGA/comments/wl00kc/thinking_of_starting_a_small_electrical_business/ijqdnqt/',\n   'retrieved_utc': 1660146739,\n   'score': 1,\n   'score_hidden': False,\n   'send_replies': True,\n   'stickied': False,\n   'subreddit': 'DaltonGA',\n   'subreddit_id': 't5_2uh7q',\n   'subreddit_name_prefixed': 'r/DaltonGA',\n   'subreddit_type': 'public',\n   'top_awarded_type': None,\n   'total_awards_received': 0,\n   'treatment_tags': [],\n   'unrepliable_reason': None},\n  {'all_awardings': [],\n   'archived': False,\n   'associated_award': None,\n   'author': 'LeeKnows_cookie',\n   'author_flair_background_color': 'transparent',\n   'author_flair_css_class': None,\n   'author_flair_richtext': [{'a': ':skzoo3:',\n     'e': 'emoji',\n     'u': 'https://emoji.redditmedia.com/sqeimmhvqgh61_t5_3ozlw/skzoo3'}],\n   'author_flair_template_id': '0bea10d6-6edb-11eb-b5d6-0eefd66258cd',\n   'author_flair_text': ':skzoo3:',\n   'author_flair_text_color': 'dark',\n   'author_flair_type': 'richtext',\n   'author_fullname': 't2_f57nbc1i',\n   'author_patreon_flair': False,\n   'author_premium': False,\n   'body': 'HBD to my talented, beautiful, amazing man of Jutdae.. Seo Changbin!! 🖤🖤',\n   'body_sha1': 'b5c7b7c87054acc893e118354bfd67ed05e7fa30',\n   'can_gild': True,\n   'collapsed': False,\n   'collapsed_because_crowd_control': None,\n   'collapsed_reason': None,\n   'collapsed_reason_code': None,\n   'comment_type': None,\n   'controversiality': 0,\n   'created_utc': 1660146133,\n   'distinguished': None,\n   'gilded': 0,\n   'gildings': {},\n   'id': 'ijqc3l2',\n   'is_submitter': False,\n   'link_id': 't3_wkznzx',\n   'locked': False,\n   'no_follow': True,\n   'parent_id': 't3_wkznzx',\n   'permalink': '/r/straykids/comments/wkznzx/220811_happy_birthday_changbin/ijqc3l2/',\n   'retrieved_utc': 1660146146,\n   'score': 1,\n   'score_hidden': True,\n   'send_replies': True,\n   'stickied': False,\n   'subreddit': 'straykids',\n   'subreddit_id': 't5_3ozlw',\n   'subreddit_name_prefixed': 'r/straykids',\n   'subreddit_type': 'public',\n   'top_awarded_type': None,\n   'total_awards_received': 0,\n   'treatment_tags': [],\n   'unrepliable_reason': None},\n  {'all_awardings': [],\n   'archived': False,\n   'associated_award': None,\n   'author': 'Tommymel1989',\n   'author_flair_background_color': None,\n   'author_flair_css_class': None,\n   'author_flair_richtext': [],\n   'author_flair_template_id': None,\n   'author_flair_text': None,\n   'author_flair_text_color': None,\n   'author_flair_type': 'text',\n   'author_fullname': 't2_pixjs',\n   'author_patreon_flair': False,\n   'author_premium': False,\n   'body': \"Definitely! SEO has so many benefits, and to win at it isn't as scary as it seems. We definitely should have started earlier, and it's made for some great sales for our account managers - highly recommend focusing on mid-difficulty, high-converting terms!\",\n   'body_sha1': '078ebb79913c74004eedc1b3ef6b6db236b1e57a',\n   'can_gild': True,\n   'collapsed': False,\n   'collapsed_because_crowd_control': None,\n   'collapsed_reason': None,\n   'collapsed_reason_code': None,\n   'comment_type': None,\n   'controversiality': 0,\n   'created_utc': 1660146105,\n   'distinguished': None,\n   'gilded': 0,\n   'gildings': {},\n   'id': 'ijqc0yl',\n   'is_submitter': True,\n   'link_id': 't3_wkyx3s',\n   'locked': False,\n   'no_follow': True,\n   'parent_id': 't1_ijqbhvr',\n   'permalink': '/r/sales/comments/wkyx3s/how_seo_increased_our_sales_we_ranked_no1_for_the/ijqc0yl/',\n   'retrieved_utc': 1660146119,\n   'score': 1,\n   'score_hidden': False,\n   'send_replies': True,\n   'stickied': False,\n   'subreddit': 'sales',\n   'subreddit_id': 't5_2qib3',\n   'subreddit_name_prefixed': 'r/sales',\n   'subreddit_type': 'public',\n   'top_awarded_type': None,\n   'total_awards_received': 0,\n   'treatment_tags': [],\n   'unrepliable_reason': None},\n  {'all_awardings': [],\n   'archived': False,\n   'associated_award': None,\n   'author': 'Federer107',\n   'author_flair_background_color': None,\n   'author_flair_css_class': None,\n   'author_flair_richtext': [],\n   'author_flair_template_id': None,\n   'author_flair_text': None,\n   'author_flair_text_color': None,\n   'author_flair_type': 'text',\n   'author_fullname': 't2_1f3e2p',\n   'author_patreon_flair': False,\n   'author_premium': False,\n   'body': 'Sounds good! Thanks for all the information .. yes I will implement this .. see how test results are .. than ask others on the site speed and go from there. \\n\\nI have another blog called OWITY.com and it scores the same for test speeds as my new blog .. both on mobile and desktop .. haven’t gotten any complains to it’s speed and it’s doing decent with SEO. So I’m still debating If I’m gonna do anything \\n\\nBut I think I may try this method and go from there.',\n   'body_sha1': 'ba84a9555344052858c0fd66b852ea831034b1fd',\n   'can_gild': True,\n   'collapsed': False,\n   'collapsed_because_crowd_control': None,\n   'collapsed_reason': None,\n   'collapsed_reason_code': None,\n   'comment_type': None,\n   'controversiality': 0,\n   'created_utc': 1660145638,\n   'distinguished': None,\n   'gilded': 0,\n   'gildings': {},\n   'id': 'ijqasn4',\n   'is_submitter': True,\n   'link_id': 't3_wklwxs',\n   'locked': False,\n   'no_follow': True,\n   'parent_id': 't1_ijq6t7f',\n   'permalink': '/r/Wordpress/comments/wklwxs/website_speed_plugins/ijqasn4/',\n   'retrieved_utc': 1660145653,\n   'score': 1,\n   'score_hidden': False,\n   'send_replies': True,\n   'stickied': False,\n   'subreddit': 'Wordpress',\n   'subreddit_id': 't5_2qhjq',\n   'subreddit_name_prefixed': 'r/Wordpress',\n   'subreddit_type': 'public',\n   'top_awarded_type': None,\n   'total_awards_received': 0,\n   'treatment_tags': [],\n   'unrepliable_reason': None},\n  {'all_awardings': [],\n   'archived': False,\n   'associated_award': None,\n   'author': 'masterxc',\n   'author_flair_background_color': None,\n   'author_flair_css_class': None,\n   'author_flair_richtext': [],\n   'author_flair_template_id': None,\n   'author_flair_text': None,\n   'author_flair_text_color': None,\n   'author_flair_type': 'text',\n   'author_fullname': 't2_b4ld9',\n   'author_patreon_flair': False,\n   'author_premium': False,\n   'body': \"Yeah, it's likely just indexing. Web crawlers can't find pages that aren't published...chances are duckduckgo indexed the page when it was up briefly but Google didn't. Many websites just don't do SEO correctly.\",\n   'body_sha1': '64c8bd8011ab21bca47750de44a624af65c795a0',\n   'can_gild': True,\n   'collapsed': False,\n   'collapsed_because_crowd_control': None,\n   'collapsed_reason': None,\n   'collapsed_reason_code': None,\n   'comment_type': None,\n   'controversiality': 0,\n   'created_utc': 1660144951,\n   'distinguished': None,\n   'gilded': 0,\n   'gildings': {},\n   'id': 'ijq904m',\n   'is_submitter': False,\n   'link_id': 't3_wkhsa8',\n   'locked': False,\n   'no_follow': True,\n   'parent_id': 't1_ijq4pnu',\n   'permalink': '/r/conspiracy/comments/wkhsa8/quick_google_enable_damage_control_mode/ijq904m/',\n   'retrieved_utc': 1660144967,\n   'score': 1,\n   'score_hidden': True,\n   'send_replies': True,\n   'stickied': False,\n   'subreddit': 'conspiracy',\n   'subreddit_id': 't5_2qh4r',\n   'subreddit_name_prefixed': 'r/conspiracy',\n   'subreddit_type': 'public',\n   'top_awarded_type': None,\n   'total_awards_received': 0,\n   'treatment_tags': [],\n   'unrepliable_reason': None},\n  {'all_awardings': [],\n   'archived': False,\n   'associated_award': None,\n   'author': 'just_an_incarnation',\n   'author_flair_background_color': None,\n   'author_flair_css_class': None,\n   'author_flair_richtext': [],\n   'author_flair_template_id': None,\n   'author_flair_text': None,\n   'author_flair_text_color': None,\n   'author_flair_type': 'text',\n   'author_fullname': 't2_8s60w7vm',\n   'author_patreon_flair': False,\n   'author_premium': False,\n   'body': \"You have two options\\n\\n1. Learn SEO really fast and take it over yourself and spend a few hours a day trying to perfect your SEO, give or take a few hours depending on your competition \\n\\n2. Replace the consultancy you we're using with some people who know what they're doing, who do more than just throw Links at it\\n\\nOption one won't get you any more rankings for a few months at best, as it takes for you to onboard SEO and learn what really works and doesn't with some trial and error. It runs the risk of you being able to learn SEO fast enough to get any rankings past your competitors, well not destroying the whole thing.\\n\\nI would recommend a good mastermind in that sense as they will guide you\\n\\nOption two runs the risk of the consultancy you hire having no idea what they're doing and still damaging your SEO, either short-term or long-term like I was saying for the people above.\\n\\nSo before you spend money on links you're going to have to spend a little bit of money on general SEO either learning it or hiring another consultancy before you just throw Links at it\\n\\nI hope that helps. If you need any more help just go ahead and message me directly, I'd be happy to help you out further :-)\",\n   'body_sha1': '604f38b408eda6f0fb829effc77a331a631d13b5',\n   'can_gild': True,\n   'collapsed': False,\n   'collapsed_because_crowd_control': None,\n   'collapsed_reason': None,\n   'collapsed_reason_code': None,\n   'comment_type': None,\n   'controversiality': 0,\n   'created_utc': 1660144604,\n   'distinguished': None,\n   'gilded': 0,\n   'gildings': {},\n   'id': 'ijq83hb',\n   'is_submitter': False,\n   'link_id': 't3_wj89k2',\n   'locked': False,\n   'no_follow': True,\n   'parent_id': 't1_ijq0gr5',\n   'permalink': '/r/SEO/comments/wj89k2/best_seo_techniques_or_rather_which_are_the_only/ijq83hb/',\n   'retrieved_utc': 1660144615,\n   'score': 1,\n   'score_hidden': True,\n   'send_replies': True,\n   'stickied': False,\n   'subreddit': 'SEO',\n   'subreddit_id': 't5_2qhbx',\n   'subreddit_name_prefixed': 'r/SEO',\n   'subreddit_type': 'public',\n   'top_awarded_type': None,\n   'total_awards_received': 0,\n   'treatment_tags': [],\n   'unrepliable_reason': None},\n  {'all_awardings': [],\n   'archived': False,\n   'associated_award': None,\n   'author': 'PicklePrickleRickle',\n   'author_flair_background_color': None,\n   'author_flair_css_class': None,\n   'author_flair_richtext': [],\n   'author_flair_template_id': None,\n   'author_flair_text': None,\n   'author_flair_text_color': None,\n   'author_flair_type': 'text',\n   'author_fullname': 't2_bom80nf',\n   'author_patreon_flair': False,\n   'author_premium': False,\n   'body': \"Amazing! I honestly have no idea how to DM you... it's for Cape Town Suicide Prevention Day. Could you possibly message Vanessa at wspd.ct@gmail.com? She's the main organiser. I did a short course and set up the website but honestly it's tragic and the SEO is worse 🙈\",\n   'body_sha1': 'e54e5f7002d3fc3d1b42f490067c473e82f95a0b',\n   'can_gild': True,\n   'collapsed': False,\n   'collapsed_because_crowd_control': None,\n   'collapsed_reason': None,\n   'collapsed_reason_code': None,\n   'comment_type': None,\n   'controversiality': 0,\n   'created_utc': 1660144411,\n   'distinguished': None,\n   'gilded': 0,\n   'gildings': {},\n   'id': 'ijq7llu',\n   'is_submitter': False,\n   'link_id': 't3_wkvl48',\n   'locked': False,\n   'no_follow': True,\n   'parent_id': 't1_ijq6c52',\n   'permalink': '/r/capetown/comments/wkvl48/does_anyone_know_of_someone_in_need_of_a_website/ijq7llu/',\n   'retrieved_utc': 1660144425,\n   'score': 1,\n   'score_hidden': False,\n   'send_replies': True,\n   'stickied': False,\n   'subreddit': 'capetown',\n   'subreddit_id': 't5_2r3ap',\n   'subreddit_name_prefixed': 'r/capetown',\n   'subreddit_type': 'public',\n   'top_awarded_type': None,\n   'total_awards_received': 0,\n   'treatment_tags': [],\n   'unrepliable_reason': None},\n  {'all_awardings': [],\n   'archived': False,\n   'associated_award': None,\n   'author': 'srutatechnologies',\n   'author_flair_background_color': None,\n   'author_flair_css_class': None,\n   'author_flair_richtext': [],\n   'author_flair_template_id': None,\n   'author_flair_text': None,\n   'author_flair_text_color': None,\n   'author_flair_type': 'text',\n   'author_fullname': 't2_54jeedtu',\n   'author_patreon_flair': False,\n   'author_premium': False,\n   'body': 'No not really I have seen seo team and digital marketing team works hard to promote brand.',\n   'body_sha1': 'd0d19003cffeb51deab705971b34a7a549ee68d3',\n   'can_gild': True,\n   'collapsed': False,\n   'collapsed_because_crowd_control': None,\n   'collapsed_reason': None,\n   'collapsed_reason_code': None,\n   'comment_type': None,\n   'controversiality': 0,\n   'created_utc': 1660143786,\n   'distinguished': None,\n   'gilded': 0,\n   'gildings': {},\n   'id': 'ijq5zze',\n   'is_submitter': False,\n   'link_id': 't3_cgnyla',\n   'locked': False,\n   'no_follow': True,\n   'parent_id': 't1_i1wtdcl',\n   'permalink': '/r/SEO_Digital_Marketing/comments/cgnyla/some_social_media_marketing_stats_that_businesses/ijq5zze/',\n   'retrieved_utc': 1660143804,\n   'score': 1,\n   'score_hidden': False,\n   'send_replies': True,\n   'stickied': False,\n   'subreddit': 'SEO_Digital_Marketing',\n   'subreddit_id': 't5_3j43f',\n   'subreddit_name_prefixed': 'r/SEO_Digital_Marketing',\n   'subreddit_type': 'restricted',\n   'top_awarded_type': None,\n   'total_awards_received': 0,\n   'treatment_tags': [],\n   'unrepliable_reason': None},\n  {'all_awardings': [],\n   'archived': False,\n   'associated_award': None,\n   'author': 'dead-vernon',\n   'author_flair_background_color': None,\n   'author_flair_css_class': None,\n   'author_flair_richtext': [],\n   'author_flair_template_id': None,\n   'author_flair_text': None,\n   'author_flair_text_color': None,\n   'author_flair_type': 'text',\n   'author_fullname': 't2_8l31ffcy',\n   'author_patreon_flair': False,\n   'author_premium': False,\n   'body': 'You need to optimise for \"scraping emails from instagram\" and not your brand as their ain\\'t no one searching for \"instareaper\". \\n\\nAlso fix your site load speed, your on page SEO, the thin content etc. \\n\\nBut maybe, instead, focus on a business that doesn\\'t offer illegal services.',\n   'body_sha1': '267e8cb06c2d05b1505e589dea6e3a887a066fd9',\n   'can_gild': True,\n   'collapsed': False,\n   'collapsed_because_crowd_control': None,\n   'collapsed_reason': None,\n   'collapsed_reason_code': None,\n   'comment_type': None,\n   'controversiality': 0,\n   'created_utc': 1660143684,\n   'distinguished': None,\n   'gilded': 0,\n   'gildings': {},\n   'id': 'ijq5qqd',\n   'is_submitter': False,\n   'link_id': 't3_wke64o',\n   'locked': False,\n   'no_follow': True,\n   'parent_id': 't3_wke64o',\n   'permalink': '/r/SEO/comments/wke64o/does_anyone_have_an_idea_what_happened/ijq5qqd/',\n   'retrieved_utc': 1660143696,\n   'score': 1,\n   'score_hidden': True,\n   'send_replies': True,\n   'stickied': False,\n   'subreddit': 'SEO',\n   'subreddit_id': 't5_2qhbx',\n   'subreddit_name_prefixed': 'r/SEO',\n   'subreddit_type': 'public',\n   'top_awarded_type': None,\n   'total_awards_received': 0,\n   'treatment_tags': [],\n   'unrepliable_reason': None},\n  {'all_awardings': [],\n   'archived': False,\n   'associated_award': None,\n   'author': '_ourania_',\n   'author_flair_background_color': None,\n   'author_flair_css_class': None,\n   'author_flair_richtext': [],\n   'author_flair_template_id': None,\n   'author_flair_text': None,\n   'author_flair_text_color': None,\n   'author_flair_type': 'text',\n   'author_fullname': 't2_56ekddxb',\n   'author_patreon_flair': False,\n   'author_premium': False,\n   'body': 'I’m actually disturbed at the SEO takeover they’ve done on Google and social media if you try to search anything about Kyle. It’s all of these bs satellite sites/bots pushing the same keyword packed article about Kyle, you can’t find any info on the allegations at all. I still have not been able to find what people on Reddit are referring to, and no one has linked.',\n   'body_sha1': '3a4c4d1f926d540d4258ec14bb3ec805c41ba03f',\n   'can_gild': True,\n   'collapsed': False,\n   'collapsed_because_crowd_control': None,\n   'collapsed_reason': None,\n   'collapsed_reason_code': None,\n   'comment_type': None,\n   'controversiality': 0,\n   'created_utc': 1660143605,\n   'distinguished': None,\n   'gilded': 0,\n   'gildings': {},\n   'id': 'ijq5j81',\n   'is_submitter': False,\n   'link_id': 't3_wkvwd2',\n   'locked': False,\n   'no_follow': True,\n   'parent_id': 't3_wkvwd2',\n   'permalink': '/r/LoveIslandUSA/comments/wkvwd2/kyle_and_li_production/ijq5j81/',\n   'retrieved_utc': 1660143618,\n   'score': 1,\n   'score_hidden': False,\n   'send_replies': True,\n   'stickied': False,\n   'subreddit': 'LoveIslandUSA',\n   'subreddit_id': 't5_11v5r4',\n   'subreddit_name_prefixed': 'r/LoveIslandUSA',\n   'subreddit_type': 'public',\n   'top_awarded_type': None,\n   'total_awards_received': 0,\n   'treatment_tags': [],\n   'unrepliable_reason': None}]}"
     },
     "execution_count": 2,
     "metadata": {},
     "output_type": "execute_result"
    }
   ],
   "source": [
    "import requests\n",
    "query =\"seo\"\n",
    "url=f\"https://api.pushshift.io/reddit/search/comment/?q={query}\"\n",
    "request = requests.get(url)\n",
    "json_response = request.json()\n",
    "json_response"
   ],
   "metadata": {
    "collapsed": false,
    "pycharm": {
     "name": "#%%\n"
    }
   }
  },
  {
   "cell_type": "code",
   "execution_count": 3,
   "outputs": [],
   "source": [
    "def get_pushshift_data(data_type, **kwargs):\n",
    "\n",
    "    base_url = f\"https://api.pushshift.io/reddit/search/{data_type}/\"\n",
    "    payload = kwargs\n",
    "    request = requests.get(base_url, params=payload)\n",
    "    return request.json()"
   ],
   "metadata": {
    "collapsed": false,
    "pycharm": {
     "name": "#%%\n"
    }
   }
  },
  {
   "cell_type": "code",
   "execution_count": 4,
   "outputs": [],
   "source": [
    "data_type=\"comment\"     # give me comments, use \"submission\" to publish something\n",
    "query=\"python\"          # Add your query\n",
    "duration=\"30d\"          # Select the timeframe. Epoch value or Integer + \"s,m,h,d\" (i.e. \"second\", \"minute\", \"hour\", \"day\")\n",
    "size=1000               # maximum 1000 comments\n",
    "sort_type=\"score\"       # Sort by score (Accepted: \"score\", \"num_comments\", \"created_utc\")\n",
    "sort=\"desc\"             # sort descending\n",
    "aggs=\"subreddit\"        #\"author\", \"link_id\", \"created_utc\", \"subreddit\""
   ],
   "metadata": {
    "collapsed": false,
    "pycharm": {
     "name": "#%%\n"
    }
   }
  },
  {
   "cell_type": "code",
   "execution_count": 5,
   "outputs": [],
   "source": [
    "data=get_pushshift_data(data_type=data_type,\n",
    "                   q=query,\n",
    "                   after=duration,\n",
    "                   size=size,\n",
    "                   aggs=aggs)"
   ],
   "metadata": {
    "collapsed": false,
    "pycharm": {
     "name": "#%%\n"
    }
   }
  },
  {
   "cell_type": "code",
   "execution_count": 18,
   "outputs": [],
   "source": [
    "import requests\n",
    "\n",
    "limit = 10\n",
    "timeframe = 'month' #hour, day, week, month, year, all\n",
    "listing = 'top' # controversial, best, hot, new, random, rising, top\n",
    "\n",
    "def get_reddit(subreddit,listing,limit,timeframe):\n",
    "    try:\n",
    "        base_url = f'https://www.reddit.com/r/{subreddit}/{listing}.json?limit={limit}&t={timeframe}'\n",
    "        request = requests.get(base_url, headers = {'User-agent': 'yourbot'})\n",
    "    except:\n",
    "        print('An Error Occured')\n",
    "    return request.json()\n",
    "\n"
   ],
   "metadata": {
    "collapsed": false,
    "pycharm": {
     "name": "#%%\n"
    }
   }
  },
  {
   "cell_type": "markdown",
   "source": [
    "'SuicideWatch',"
   ],
   "metadata": {
    "collapsed": false
   }
  },
  {
   "cell_type": "markdown",
   "source": [],
   "metadata": {
    "collapsed": false
   }
  },
  {
   "cell_type": "code",
   "execution_count": 22,
   "outputs": [],
   "source": [
    "r = get_reddit('suicide',listing,limit,timeframe)"
   ],
   "metadata": {
    "collapsed": false,
    "pycharm": {
     "name": "#%%\n"
    }
   }
  },
  {
   "cell_type": "code",
   "execution_count": 23,
   "outputs": [
    {
     "data": {
      "text/plain": "{'reason': 'private', 'message': 'Forbidden', 'error': 403}"
     },
     "execution_count": 23,
     "metadata": {},
     "output_type": "execute_result"
    }
   ],
   "source": [
    "r"
   ],
   "metadata": {
    "collapsed": false,
    "pycharm": {
     "name": "#%%\n"
    }
   }
  },
  {
   "cell_type": "code",
   "execution_count": 25,
   "outputs": [
    {
     "name": "stdout",
     "output_type": "stream",
     "text": [
      "depression\n",
      "suicidewatch\n",
      "anxiety\n",
      "bpd\n",
      "lonely\n",
      "ptsd\n",
      "opiates\n",
      "offmychest\n",
      "bipolarreddit\n",
      "sad\n",
      "TrueOffMyChest\n"
     ]
    }
   ],
   "source": [
    "arr = []\n",
    "subreddit_arr = ['depression','suicidewatch','anxiety','bpd','lonely','ptsd','opiates','offmychest','bipolarreddit','sad','TrueOffMyChest']\n",
    "\n",
    "for sub in subreddit_arr:\n",
    "    print(sub)\n",
    "    r = get_reddit(sub,listing,limit,timeframe)\n",
    "    for i in range(len(r['data']['children'])):\n",
    "        arr+=[r['data']['children'][i]['data']['selftext']]"
   ],
   "metadata": {
    "collapsed": false,
    "pycharm": {
     "name": "#%%\n"
    }
   }
  },
  {
   "cell_type": "markdown",
   "source": [],
   "metadata": {
    "collapsed": false
   }
  },
  {
   "cell_type": "code",
   "execution_count": 26,
   "outputs": [],
   "source": [
    "import pandas as pd\n",
    "dict = {'text':arr}"
   ],
   "metadata": {
    "collapsed": false,
    "pycharm": {
     "name": "#%%\n"
    }
   }
  },
  {
   "cell_type": "code",
   "execution_count": 27,
   "outputs": [],
   "source": [
    "df=pd.DataFrame(dict)"
   ],
   "metadata": {
    "collapsed": false,
    "pycharm": {
     "name": "#%%\n"
    }
   }
  },
  {
   "cell_type": "code",
   "execution_count": 72,
   "outputs": [],
   "source": [
    "df.to_csv('pretrain_test')"
   ],
   "metadata": {
    "collapsed": false,
    "pycharm": {
     "name": "#%%\n"
    }
   }
  },
  {
   "cell_type": "code",
   "execution_count": 66,
   "outputs": [],
   "source": [
    "import datasets\n",
    "\n",
    "ds = datasets.Dataset.from_dict(dict)"
   ],
   "metadata": {
    "collapsed": false,
    "pycharm": {
     "name": "#%%\n"
    }
   }
  },
  {
   "cell_type": "code",
   "execution_count": null,
   "outputs": [],
   "source": [
    "import tokenizers\n",
    "tokenizers.ByteLevel\n"
   ],
   "metadata": {
    "collapsed": false,
    "pycharm": {
     "name": "#%%\n"
    }
   }
  },
  {
   "cell_type": "code",
   "execution_count": 73,
   "outputs": [
    {
     "ename": "AttributeError",
     "evalue": "'BertTokenizer' object has no attribute 'train'",
     "output_type": "error",
     "traceback": [
      "\u001B[0;31m---------------------------------------------------------------------------\u001B[0m",
      "\u001B[0;31mAttributeError\u001B[0m                            Traceback (most recent call last)",
      "Input \u001B[0;32mIn [73]\u001B[0m, in \u001B[0;36m<cell line: 4>\u001B[0;34m()\u001B[0m\n\u001B[1;32m      1\u001B[0m \u001B[38;5;28;01mfrom\u001B[39;00m \u001B[38;5;21;01mtransformers\u001B[39;00m \u001B[38;5;28;01mimport\u001B[39;00m BertTokenizer\n\u001B[1;32m      3\u001B[0m tokenizer \u001B[38;5;241m=\u001B[39m BertTokenizer\u001B[38;5;241m.\u001B[39mfrom_pretrained(\u001B[38;5;124m'\u001B[39m\u001B[38;5;124mprajjwal1/bert-tiny\u001B[39m\u001B[38;5;124m'\u001B[39m)\n\u001B[0;32m----> 4\u001B[0m \u001B[43mtokenizer\u001B[49m\u001B[38;5;241;43m.\u001B[39;49m\u001B[43mtrain\u001B[49m(files\u001B[38;5;241m=\u001B[39m\u001B[38;5;124m'\u001B[39m\u001B[38;5;124mpretrain_test\u001B[39m\u001B[38;5;124m'\u001B[39m, vocab_size\u001B[38;5;241m=\u001B[39m\u001B[38;5;241m30_522\u001B[39m, min_frequency\u001B[38;5;241m=\u001B[39m\u001B[38;5;241m2\u001B[39m,\n\u001B[1;32m      5\u001B[0m                 special_tokens\u001B[38;5;241m=\u001B[39m[\u001B[38;5;124m'\u001B[39m\u001B[38;5;124m<s>\u001B[39m\u001B[38;5;124m'\u001B[39m, \u001B[38;5;124m'\u001B[39m\u001B[38;5;124m<pad>\u001B[39m\u001B[38;5;124m'\u001B[39m, \u001B[38;5;124m'\u001B[39m\u001B[38;5;124m</s>\u001B[39m\u001B[38;5;124m'\u001B[39m, \u001B[38;5;124m'\u001B[39m\u001B[38;5;124m<unk>\u001B[39m\u001B[38;5;124m'\u001B[39m, \u001B[38;5;124m'\u001B[39m\u001B[38;5;124m<mask>\u001B[39m\u001B[38;5;124m'\u001B[39m])\n",
      "\u001B[0;31mAttributeError\u001B[0m: 'BertTokenizer' object has no attribute 'train'"
     ]
    }
   ],
   "source": [
    "# from transformers import RobertaTokenizer\n",
    "\n",
    "\n",
    "# tokenizer.train(files='pretrain_test', vocab_size=30_522, min_frequency=2,\n",
    "#                 special_tokens=['<s>', '<pad>', '</s>', '<unk>', '<mask>'])"
   ],
   "metadata": {
    "collapsed": false,
    "pycharm": {
     "name": "#%%\n"
    }
   }
  }
 ],
 "metadata": {
  "kernelspec": {
   "display_name": "Python 3",
   "language": "python",
   "name": "python3"
  },
  "language_info": {
   "codemirror_mode": {
    "name": "ipython",
    "version": 2
   },
   "file_extension": ".py",
   "mimetype": "text/x-python",
   "name": "python",
   "nbconvert_exporter": "python",
   "pygments_lexer": "ipython2",
   "version": "2.7.6"
  }
 },
 "nbformat": 4,
 "nbformat_minor": 0
}