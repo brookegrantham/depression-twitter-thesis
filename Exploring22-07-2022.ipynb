{
 "cells": [
  {
   "cell_type": "code",
   "execution_count": 2,
   "outputs": [],
   "source": [
    "import pandas as pd\n",
    "import os\n",
    "import json\n",
    "from tqdm import tqdm\n",
    "import glob"
   ],
   "metadata": {
    "collapsed": false,
    "pycharm": {
     "name": "#%%\n"
    }
   }
  },
  {
   "cell_type": "code",
   "execution_count": 7,
   "outputs": [],
   "source": [
    "\n",
    "conditions = pd.read_csv('/Users/brookegrantham/Documents/DSP/anonymized_user_info_by_chunk.csv')\n",
    "df_conditions = pd.DataFrame(conditions)\n",
    "filenames = glob.glob('/Users/brookegrantham/Documents/DSP/shared_task_data/*/*.tweets')"
   ],
   "metadata": {
    "collapsed": false,
    "pycharm": {
     "name": "#%%\n"
    }
   }
  },
  {
   "cell_type": "code",
   "execution_count": null,
   "outputs": [],
   "source": [
    "# count = 0\n",
    "#\n",
    "# for _ in tqdm(filenames):\n",
    "#     with open(_, encoding='utf-8') as file:\n",
    "#\n",
    "#         temp_df = pd.DataFrame(json.loads(file.readline()))\n",
    "#         condition = df_conditions.loc[df_conditions['anonymized_screen_name'] == temp_df['user']['screen_name']]['condition'].item()\n",
    "#         username = temp_df['user']['screen_name']\n",
    "#\n",
    "#         for line in file:\n",
    "#             try:\n",
    "#                 data = pd.DataFrame(json.loads(line))\n",
    "#                 tweets = pd.concat([tweets, pd.DataFrame({'text':[data['text']['screen_name']],\n",
    "#                                                           'username': [username],\n",
    "#                                                           'condition': [condition]})])\n",
    "#             except:\n",
    "#                 print(line)\n",
    "#                 count+=1\n",
    "#                 pass\n",
    "# print('Total number of dropped lines is:', count)"
   ],
   "metadata": {
    "collapsed": false,
    "pycharm": {
     "name": "#%%\n",
     "is_executing": true
    }
   }
  },
  {
   "cell_type": "code",
   "execution_count": 15,
   "outputs": [
    {
     "name": "stderr",
     "output_type": "stream",
     "text": [
      "100%|██████████| 30/30 [02:42<00:00,  5.40s/it]\n"
     ]
    }
   ],
   "source": [
    "tweets_dir = '/Users/brookegrantham/Documents/DSP/shared_task_data/'\n",
    "\n",
    "for i in tqdm(range(60,90)):\n",
    "    filenames = glob.glob(f'{tweets_dir}/{i}/*.tweets')\n",
    "\n",
    "    all_tweets = []\n",
    "\n",
    "    for filename in filenames:\n",
    "        with open(filename, encoding='utf-8', errors='replace') as f:\n",
    "            json_lines = f.readlines()\n",
    "            all_tweets += [{'filename': filename, **json.loads(x)} for x in json_lines]\n",
    "\n",
    "    tweets_df = pd.DataFrame(all_tweets)\n",
    "    tweets_df['username'] = tweets_df['user'].apply(lambda d: d.get('screen_name'))\n",
    "\n",
    "    tweets_df = tweets_df.merge(df_conditions[['anonymized_screen_name', 'condition']], left_on='username', right_on='anonymized_screen_name', how='left')\n",
    "    tweets_df = tweets_df[['username', 'condition', 'text']]\n",
    "    tweets_df.to_csv(f'{i}_conv.csv', index=False, errors='replace')\n"
   ],
   "metadata": {
    "collapsed": false,
    "pycharm": {
     "name": "#%%\n"
    }
   }
  },
  {
   "cell_type": "markdown",
   "source": [
    "Haha turns out it goes training set 0-50 and test set 60-89"
   ],
   "metadata": {
    "collapsed": false,
    "pycharm": {
     "name": "#%% md\n"
    }
   }
  },
  {
   "cell_type": "markdown",
   "source": [],
   "metadata": {
    "collapsed": false
   }
  },
  {
   "cell_type": "code",
   "execution_count": 46,
   "outputs": [],
   "source": [
    "import csv\n",
    "filenames2 = glob.glob('*_conv.csv')\n",
    "\n",
    "final_tweets = []\n",
    "for filename in filenames2:\n",
    "    with open(filename) as f:\n",
    "        reader = csv.reader(f)\n",
    "        final_tweets += list(reader)"
   ],
   "metadata": {
    "collapsed": false,
    "pycharm": {
     "name": "#%%\n"
    }
   }
  },
  {
   "cell_type": "code",
   "execution_count": 47,
   "outputs": [],
   "source": [
    "temp_df = pd.DataFrame(final_tweets)"
   ],
   "metadata": {
    "collapsed": false,
    "pycharm": {
     "name": "#%%\n"
    }
   }
  },
  {
   "cell_type": "code",
   "execution_count": 74,
   "outputs": [
    {
     "data": {
      "text/plain": "               username   condition  \\\n1        puTtjUFpRciDHX     control   \n2        puTtjUFpRciDHX     control   \n3        puTtjUFpRciDHX     control   \n4        puTtjUFpRciDHX     control   \n5        puTtjUFpRciDHX     control   \n...                 ...         ...   \n4034200  oiEx1JBNkiVqGa  depression   \n4034201  oiEx1JBNkiVqGa  depression   \n4034202  oiEx1JBNkiVqGa  depression   \n4034203  oiEx1JBNkiVqGa  depression   \n4034204  oiEx1JBNkiVqGa  depression   \n\n                                                      text  \n1        RT @w3BAUZRi: Hoes be 15 looking 20.\\n\\nI be n...  \n2        All i'm thinking bout is money i'll leave the ...  \n3                                      @sI6UT_PskVAZ1I7 fb  \n4                                           @fO3aX4BnZG fb  \n5                         @okLAE3IXeny dnt worry boug that  \n...                                                    ...  \n4034200  Reba McEntire is the best!!! \"No matter what f...  \n4034201  RT @nD_h: It keeps getting better!! We got ove...  \n4034202  RT @nKX5elH1s5Iy5: Consider me a smile in an o...  \n4034203  RT @b9IuO9i9Yxzz: Hey guys can you please retw...  \n4034204  RT @tI8tNV_meCWSx: TWEET and RETWEET about @nD...  \n\n[4034124 rows x 3 columns]",
      "text/html": "<div>\n<style scoped>\n    .dataframe tbody tr th:only-of-type {\n        vertical-align: middle;\n    }\n\n    .dataframe tbody tr th {\n        vertical-align: top;\n    }\n\n    .dataframe thead th {\n        text-align: right;\n    }\n</style>\n<table border=\"1\" class=\"dataframe\">\n  <thead>\n    <tr style=\"text-align: right;\">\n      <th></th>\n      <th>username</th>\n      <th>condition</th>\n      <th>text</th>\n    </tr>\n  </thead>\n  <tbody>\n    <tr>\n      <th>1</th>\n      <td>puTtjUFpRciDHX</td>\n      <td>control</td>\n      <td>RT @w3BAUZRi: Hoes be 15 looking 20.\\n\\nI be n...</td>\n    </tr>\n    <tr>\n      <th>2</th>\n      <td>puTtjUFpRciDHX</td>\n      <td>control</td>\n      <td>All i'm thinking bout is money i'll leave the ...</td>\n    </tr>\n    <tr>\n      <th>3</th>\n      <td>puTtjUFpRciDHX</td>\n      <td>control</td>\n      <td>@sI6UT_PskVAZ1I7 fb</td>\n    </tr>\n    <tr>\n      <th>4</th>\n      <td>puTtjUFpRciDHX</td>\n      <td>control</td>\n      <td>@fO3aX4BnZG fb</td>\n    </tr>\n    <tr>\n      <th>5</th>\n      <td>puTtjUFpRciDHX</td>\n      <td>control</td>\n      <td>@okLAE3IXeny dnt worry boug that</td>\n    </tr>\n    <tr>\n      <th>...</th>\n      <td>...</td>\n      <td>...</td>\n      <td>...</td>\n    </tr>\n    <tr>\n      <th>4034200</th>\n      <td>oiEx1JBNkiVqGa</td>\n      <td>depression</td>\n      <td>Reba McEntire is the best!!! \"No matter what f...</td>\n    </tr>\n    <tr>\n      <th>4034201</th>\n      <td>oiEx1JBNkiVqGa</td>\n      <td>depression</td>\n      <td>RT @nD_h: It keeps getting better!! We got ove...</td>\n    </tr>\n    <tr>\n      <th>4034202</th>\n      <td>oiEx1JBNkiVqGa</td>\n      <td>depression</td>\n      <td>RT @nKX5elH1s5Iy5: Consider me a smile in an o...</td>\n    </tr>\n    <tr>\n      <th>4034203</th>\n      <td>oiEx1JBNkiVqGa</td>\n      <td>depression</td>\n      <td>RT @b9IuO9i9Yxzz: Hey guys can you please retw...</td>\n    </tr>\n    <tr>\n      <th>4034204</th>\n      <td>oiEx1JBNkiVqGa</td>\n      <td>depression</td>\n      <td>RT @tI8tNV_meCWSx: TWEET and RETWEET about @nD...</td>\n    </tr>\n  </tbody>\n</table>\n<p>4034124 rows × 3 columns</p>\n</div>"
     },
     "execution_count": 74,
     "metadata": {},
     "output_type": "execute_result"
    }
   ],
   "source": [
    "temp_df"
   ],
   "metadata": {
    "collapsed": false,
    "pycharm": {
     "name": "#%%\n"
    }
   }
  },
  {
   "cell_type": "code",
   "execution_count": 60,
   "outputs": [],
   "source": [
    "temp_df = temp_df.rename(columns={0:'username', 1:'condition', 2:'text'})"
   ],
   "metadata": {
    "collapsed": false,
    "pycharm": {
     "name": "#%%\n"
    }
   }
  },
  {
   "cell_type": "code",
   "execution_count": 67,
   "outputs": [],
   "source": [
    "temp_df = temp_df[temp_df.username!='username']"
   ],
   "metadata": {
    "collapsed": false,
    "pycharm": {
     "name": "#%%\n"
    }
   }
  },
  {
   "cell_type": "code",
   "execution_count": 76,
   "outputs": [
    {
     "name": "stdout",
     "output_type": "stream",
     "text": [
      "Number of users with depression: 1132270\n",
      "Number of users with ptsd: 919368\n",
      "Number of control: 1978143\n"
     ]
    }
   ],
   "source": [
    "print( 'Number of users with depression:', len(temp_df[temp_df.condition=='depression']))\n",
    "print( 'Number of users with ptsd:', len(temp_df[temp_df.condition=='ptsd']))\n",
    "print( 'Number of control:', len(temp_df[temp_df.condition=='control']))"
   ],
   "metadata": {
    "collapsed": false,
    "pycharm": {
     "name": "#%%\n"
    }
   }
  },
  {
   "cell_type": "code",
   "execution_count": 4,
   "outputs": [],
   "source": [
    "temp_df = pd.read_csv('all_tweets')"
   ],
   "metadata": {
    "collapsed": false,
    "pycharm": {
     "name": "#%%\n"
    }
   }
  },
  {
   "cell_type": "code",
   "execution_count": 12,
   "outputs": [],
   "source": [
    "temp_df = temp_df[['username', 'condition', 'text']]"
   ],
   "metadata": {
    "collapsed": false,
    "pycharm": {
     "name": "#%%\n"
    }
   }
  },
  {
   "cell_type": "code",
   "execution_count": 13,
   "outputs": [],
   "source": [
    "temp_df.to_csv('all_tweets', index=False, errors='replace')"
   ],
   "metadata": {
    "collapsed": false,
    "pycharm": {
     "name": "#%%\n"
    }
   }
  },
  {
   "cell_type": "code",
   "execution_count": 16,
   "outputs": [],
   "source": [
    "from sklearn.model_selection import train_test_split\n",
    "\n",
    "training_tweets, temp_tweets, training_labels, temp_labels = train_test_split(temp_df['text'],temp_df['condition'], test_size=0.3, random_state=123)\n",
    "val_tweets, test_tweets,val_labels, test_labels = train_test_split(temp_tweets, temp_labels, test_size=(1/3), random_state=123)"
   ],
   "metadata": {
    "collapsed": false,
    "pycharm": {
     "name": "#%%\n"
    }
   }
  },
  {
   "cell_type": "code",
   "execution_count": null,
   "outputs": [],
   "source": [],
   "metadata": {
    "collapsed": false,
    "pycharm": {
     "name": "#%%\n"
    }
   }
  },
  {
   "cell_type": "code",
   "execution_count": null,
   "outputs": [],
   "source": [],
   "metadata": {
    "collapsed": false,
    "pycharm": {
     "name": "#%%\n"
    }
   }
  },
  {
   "cell_type": "code",
   "execution_count": null,
   "outputs": [],
   "source": [],
   "metadata": {
    "collapsed": false,
    "pycharm": {
     "name": "#%%\n"
    }
   }
  },
  {
   "cell_type": "markdown",
   "source": [],
   "metadata": {
    "collapsed": false,
    "pycharm": {
     "name": "#%% md\n"
    }
   }
  }
 ],
 "metadata": {
  "kernelspec": {
   "display_name": "Python 3",
   "language": "python",
   "name": "python3"
  },
  "language_info": {
   "codemirror_mode": {
    "name": "ipython",
    "version": 2
   },
   "file_extension": ".py",
   "mimetype": "text/x-python",
   "name": "python",
   "nbconvert_exporter": "python",
   "pygments_lexer": "ipython2",
   "version": "2.7.6"
  }
 },
 "nbformat": 4,
 "nbformat_minor": 0
}