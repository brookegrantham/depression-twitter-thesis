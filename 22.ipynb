{
 "cells": [
  {
   "cell_type": "markdown",
   "metadata": {
    "collapsed": true,
    "pycharm": {
     "name": "#%% md\n"
    }
   },
   "source": [
    "**11/07/2022 Data Exploring**\n",
    "- Count tweets\n",
    "- Calculate proportions\n",
    "- Examples"
   ]
  },
  {
   "cell_type": "code",
   "execution_count": 1,
   "outputs": [],
   "source": [
    "import pandas as pd\n",
    "import os\n",
    "import json\n",
    "from tqdm import tqdm"
   ],
   "metadata": {
    "collapsed": false,
    "pycharm": {
     "name": "#%%\n"
    }
   }
  },
  {
   "cell_type": "code",
   "execution_count": 87,
   "outputs": [],
   "source": [
    "path = '/Users/brookegrantham/Documents/DSP/shared_task_data/final_training_data/'\n",
    "key = {\n",
    "    'text':[],\n",
    "    'username':[],\n",
    "    'condition':[]\n",
    "}\n",
    "tweets = pd.DataFrame(key)\n",
    "\n",
    "conditions = pd.read_csv('/Users/brookegrantham/Documents/DSP/anonymized_user_info_by_chunk.csv')\n",
    "df_conditions = pd.DataFrame(conditions)\n"
   ],
   "metadata": {
    "collapsed": false,
    "pycharm": {
     "name": "#%%\n"
    }
   }
  },
  {
   "cell_type": "code",
   "execution_count": null,
   "outputs": [],
   "source": [
    "for i in range(1):\n",
    "    f = []\n",
    "    count = 0\n",
    "    for (dirpath, dirnames,filenames) in os.walk(path+str(i)):\n",
    "        f.extend(filenames)\n",
    "    for _ in f:\n",
    "        with open(path+str(i)+'/'+_, encoding='utf-8') as file:\n",
    "\n",
    "            temp_df = pd.DataFrame(json.loads(file.readline()))\n",
    "            condition = df_conditions.loc[df_conditions['anonymized_screen_name'] == temp_df['user']['screen_name']]['condition'].item()\n",
    "            username = temp_df['user']['screen_name']\n",
    "\n",
    "            for line in file:\n",
    "                try:\n",
    "                    data = pd.DataFrame(json.loads(line))\n",
    "                    tweets = pd.concat([tweets, pd.DataFrame({'text':[data['text']['screen_name']],\n",
    "                                                              'username': [username],\n",
    "                                                              'condition': [condition]})])\n",
    "                except:\n",
    "                    print(line)\n",
    "                    count+=1\n",
    "                    pass\n",
    "    print('Total number of dropped tweets for set' , i , 'is: ' , count)"
   ],
   "metadata": {
    "collapsed": false,
    "pycharm": {
     "name": "#%%\n",
     "is_executing": true
    }
   }
  },
  {
   "cell_type": "code",
   "execution_count": 40,
   "outputs": [],
   "source": [
    "## TESTING\n",
    "with open('/Users/brookegrantham/Documents/DSP/shared_task_data/final_training_data/0/bdGih71WJ.tweets', encoding='utf-8') as file:\n",
    "    for line in file:\n",
    "        tweets = pd.DataFrame(json.loads(file.readline()))\n"
   ],
   "metadata": {
    "collapsed": false,
    "pycharm": {
     "name": "#%%\n"
    }
   }
  },
  {
   "cell_type": "code",
   "execution_count": 32,
   "outputs": [
    {
     "data": {
      "text/plain": "'bdGih71WJ'"
     },
     "execution_count": 32,
     "metadata": {},
     "output_type": "execute_result"
    }
   ],
   "source": [
    "tweets['user']['screen_name']"
   ],
   "metadata": {
    "collapsed": false,
    "pycharm": {
     "name": "#%%\n"
    }
   }
  },
  {
   "cell_type": "code",
   "execution_count": 35,
   "outputs": [
    {
     "data": {
      "text/plain": "'@jWhz50rJX @hSqMdDFwQ28X @khMjuXSmsP 😂😂😂😂'"
     },
     "execution_count": 35,
     "metadata": {},
     "output_type": "execute_result"
    }
   ],
   "source": [
    "tweets['text']['screen_name']"
   ],
   "metadata": {
    "collapsed": false,
    "pycharm": {
     "name": "#%%\n"
    }
   }
  },
  {
   "cell_type": "markdown",
   "source": [],
   "metadata": {
    "collapsed": false
   }
  },
  {
   "cell_type": "code",
   "execution_count": 9,
   "outputs": [
    {
     "name": "stdout",
     "output_type": "stream",
     "text": [
      "60\n",
      "61\n",
      "62\n",
      "63\n",
      "64\n",
      "65\n",
      "66\n",
      "67\n",
      "68\n",
      "69\n",
      "70\n"
     ]
    }
   ],
   "source": [
    "## TODO\n",
    "path = '/Users/brookegrantham/Documents/DSP/shared_task_data/final_testing_data/'\n",
    "test = pd.DataFrame()\n",
    "for i in range(60,71):\n",
    "    f = []\n",
    "    for (dirpath, dirnames,filenames) in os.walk(path+str(i)):\n",
    "        f.extend(filenames)\n",
    "    for _ in f:\n",
    "        try:\n",
    "            test = pd.concat([test,pd.read_json(path+str(i)+'/'+_, lines=True)], ignore_index=True)\n",
    "        except:\n",
    "            pass\n",
    "    print(i)"
   ],
   "metadata": {
    "collapsed": false,
    "pycharm": {
     "name": "#%%\n"
    }
   }
  }
 ],
 "metadata": {
  "kernelspec": {
   "display_name": "Python 3",
   "language": "python",
   "name": "python3"
  },
  "language_info": {
   "codemirror_mode": {
    "name": "ipython",
    "version": 2
   },
   "file_extension": ".py",
   "mimetype": "text/x-python",
   "name": "python",
   "nbconvert_exporter": "python",
   "pygments_lexer": "ipython2",
   "version": "2.7.6"
  }
 },
 "nbformat": 4,
 "nbformat_minor": 0
}