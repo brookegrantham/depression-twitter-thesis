{
 "cells": [
  {
   "cell_type": "markdown",
   "metadata": {
    "collapsed": true,
    "pycharm": {
     "name": "#%% md\n"
    }
   },
   "source": [
    "**11/07/2022 Data Exploring**\n",
    "- Count tweets\n",
    "- Calculate proportions\n",
    "- Examples"
   ]
  },
  {
   "cell_type": "code",
   "execution_count": 1,
   "outputs": [],
   "source": [
    "import pandas as pd\n",
    "import os\n",
    "import json\n",
    "from tqdm import tqdm"
   ],
   "metadata": {
    "collapsed": false,
    "pycharm": {
     "name": "#%%\n"
    }
   }
  },
  {
   "cell_type": "code",
   "execution_count": 87,
   "outputs": [],
   "source": [
    "path = '/Users/brookegrantham/Documents/DSP/shared_task_data/final_training_data/'\n",
    "key = {\n",
    "    'text':[],\n",
    "    'username':[],\n",
    "    'condition':[]\n",
    "}\n",
    "tweets = pd.DataFrame(key)\n",
    "\n",
    "conditions = pd.read_csv('/Users/brookegrantham/Documents/DSP/anonymized_user_info_by_chunk.csv')\n",
    "df_conditions = pd.DataFrame(conditions)\n"
   ],
   "metadata": {
    "collapsed": false,
    "pycharm": {
     "name": "#%%\n"
    }
   }
  },
  {
   "cell_type": "code",
   "execution_count": null,
   "outputs": [],
   "source": [
    "for i in range(1):\n",
    "    f = []\n",
    "    count = 0\n",
    "    for (dirpath, dirnames,filenames) in os.walk(path+str(i)):\n",
    "        f.extend(filenames)\n",
    "    for _ in f:\n",
    "        with open(path+str(i)+'/'+_, encoding='utf-8') as file:\n",
    "            for line in file:\n",
    "                try:\n",
    "                    data = pd.DataFrame(json.loads(line))\n",
    "                    tweets = pd.concat([tweets, pd.DataFrame({'text':[data['text']['screen_name']],\n",
    "                                                              'username': [data['user']['screen_name']],\n",
    "                                                              'condition': [df_conditions.loc[df_conditions.index[df_conditions['anonymized_screen_name'] == data['user']['screen_name']]]['condition']]})])\n",
    "                except:\n",
    "                    print(line)\n",
    "                    count+=1\n",
    "                    pass\n",
    "    print(i)\n",
    "    print('Total number of dropped tweets for set' + i + 'is: ' + count)"
   ],
   "metadata": {
    "collapsed": false,
    "pycharm": {
     "name": "#%%\n",
     "is_executing": true
    }
   }
  },
  {
   "cell_type": "code",
   "execution_count": 40,
   "outputs": [],
   "source": [
    "with open('/Users/brookegrantham/Documents/DSP/shared_task_data/final_training_data/0/bdGih71WJ.tweets', encoding='utf-8') as file:\n",
    "    for line in file:\n",
    "        tweets = pd.DataFrame(json.loads(file.readline()))\n"
   ],
   "metadata": {
    "collapsed": false,
    "pycharm": {
     "name": "#%%\n"
    }
   }
  },
  {
   "cell_type": "code",
   "execution_count": 32,
   "outputs": [
    {
     "data": {
      "text/plain": "'bdGih71WJ'"
     },
     "execution_count": 32,
     "metadata": {},
     "output_type": "execute_result"
    }
   ],
   "source": [
    "tweets['user']['screen_name']"
   ],
   "metadata": {
    "collapsed": false,
    "pycharm": {
     "name": "#%%\n"
    }
   }
  },
  {
   "cell_type": "code",
   "execution_count": 35,
   "outputs": [
    {
     "data": {
      "text/plain": "'@jWhz50rJX @hSqMdDFwQ28X @khMjuXSmsP 😂😂😂😂'"
     },
     "execution_count": 35,
     "metadata": {},
     "output_type": "execute_result"
    }
   ],
   "source": [
    "tweets['text']['screen_name']"
   ],
   "metadata": {
    "collapsed": false,
    "pycharm": {
     "name": "#%%\n"
    }
   }
  },
  {
   "cell_type": "code",
   "execution_count": 45,
   "outputs": [],
   "source": [
    "key = {\n",
    "    'text':[],\n",
    "    'username':[],\n",
    "    'condition':[]\n",
    "}"
   ],
   "metadata": {
    "collapsed": false,
    "pycharm": {
     "name": "#%%\n"
    }
   }
  },
  {
   "cell_type": "code",
   "execution_count": 63,
   "outputs": [
    {
     "data": {
      "text/plain": "  text username condition\n0   hi       hi        hi",
      "text/html": "<div>\n<style scoped>\n    .dataframe tbody tr th:only-of-type {\n        vertical-align: middle;\n    }\n\n    .dataframe tbody tr th {\n        vertical-align: top;\n    }\n\n    .dataframe thead th {\n        text-align: right;\n    }\n</style>\n<table border=\"1\" class=\"dataframe\">\n  <thead>\n    <tr style=\"text-align: right;\">\n      <th></th>\n      <th>text</th>\n      <th>username</th>\n      <th>condition</th>\n    </tr>\n  </thead>\n  <tbody>\n    <tr>\n      <th>0</th>\n      <td>hi</td>\n      <td>hi</td>\n      <td>hi</td>\n    </tr>\n  </tbody>\n</table>\n</div>"
     },
     "execution_count": 63,
     "metadata": {},
     "output_type": "execute_result"
    }
   ],
   "source": [
    "df = pd.DataFrame(key)\n",
    "df = pd.concat([df, pd.DataFrame({'text':[tweets['text']['screen_name']],'username': [tweets['user']['screen_name']], 'condition':[df_conditions.loc[df_conditions.index[df_conditions['anonymized_screen_name'] == tweets['user']['screen_name']]]['condition']]})])\n",
    "df"
   ],
   "metadata": {
    "collapsed": false,
    "pycharm": {
     "name": "#%%\n"
    }
   }
  },
  {
   "cell_type": "code",
   "execution_count": 85,
   "outputs": [
    {
     "data": {
      "text/plain": "14    ptsd\nName: condition, dtype: object"
     },
     "execution_count": 85,
     "metadata": {},
     "output_type": "execute_result"
    }
   ],
   "source": [
    "\n",
    "df_conditions.loc[df_conditions.index[df_conditions['anonymized_screen_name'] == tweets['user']['screen_name']]]['condition']\n"
   ],
   "metadata": {
    "collapsed": false,
    "pycharm": {
     "name": "#%%\n"
    }
   }
  },
  {
   "cell_type": "code",
   "execution_count": 4,
   "outputs": [
    {
     "ename": "UnicodeEncodeError",
     "evalue": "'utf-8' codec can't encode character '\\ude2b' in position 64: surrogates not allowed",
     "output_type": "error",
     "traceback": [
      "\u001B[0;31m---------------------------------------------------------------------------\u001B[0m",
      "\u001B[0;31mUnicodeEncodeError\u001B[0m                        Traceback (most recent call last)",
      "Input \u001B[0;32mIn [4]\u001B[0m, in \u001B[0;36m<cell line: 1>\u001B[0;34m()\u001B[0m\n\u001B[0;32m----> 1\u001B[0m \u001B[43mtweets\u001B[49m\u001B[38;5;241;43m.\u001B[39;49m\u001B[43mto_csv\u001B[49m\u001B[43m(\u001B[49m\u001B[38;5;124;43m'\u001B[39;49m\u001B[38;5;124;43m/Users/brookegrantham/Documents/DSP/twitter_training_set\u001B[39;49m\u001B[38;5;124;43m'\u001B[39;49m\u001B[43m)\u001B[49m\n",
      "File \u001B[0;32m~/Documents/Data Science MSc 2021-2022/PyInt/lib/python3.9/site-packages/pandas/core/generic.py:3551\u001B[0m, in \u001B[0;36mNDFrame.to_csv\u001B[0;34m(self, path_or_buf, sep, na_rep, float_format, columns, header, index, index_label, mode, encoding, compression, quoting, quotechar, line_terminator, chunksize, date_format, doublequote, escapechar, decimal, errors, storage_options)\u001B[0m\n\u001B[1;32m   3540\u001B[0m df \u001B[38;5;241m=\u001B[39m \u001B[38;5;28mself\u001B[39m \u001B[38;5;28;01mif\u001B[39;00m \u001B[38;5;28misinstance\u001B[39m(\u001B[38;5;28mself\u001B[39m, ABCDataFrame) \u001B[38;5;28;01melse\u001B[39;00m \u001B[38;5;28mself\u001B[39m\u001B[38;5;241m.\u001B[39mto_frame()\n\u001B[1;32m   3542\u001B[0m formatter \u001B[38;5;241m=\u001B[39m DataFrameFormatter(\n\u001B[1;32m   3543\u001B[0m     frame\u001B[38;5;241m=\u001B[39mdf,\n\u001B[1;32m   3544\u001B[0m     header\u001B[38;5;241m=\u001B[39mheader,\n\u001B[0;32m   (...)\u001B[0m\n\u001B[1;32m   3548\u001B[0m     decimal\u001B[38;5;241m=\u001B[39mdecimal,\n\u001B[1;32m   3549\u001B[0m )\n\u001B[0;32m-> 3551\u001B[0m \u001B[38;5;28;01mreturn\u001B[39;00m \u001B[43mDataFrameRenderer\u001B[49m\u001B[43m(\u001B[49m\u001B[43mformatter\u001B[49m\u001B[43m)\u001B[49m\u001B[38;5;241;43m.\u001B[39;49m\u001B[43mto_csv\u001B[49m\u001B[43m(\u001B[49m\n\u001B[1;32m   3552\u001B[0m \u001B[43m    \u001B[49m\u001B[43mpath_or_buf\u001B[49m\u001B[43m,\u001B[49m\n\u001B[1;32m   3553\u001B[0m \u001B[43m    \u001B[49m\u001B[43mline_terminator\u001B[49m\u001B[38;5;241;43m=\u001B[39;49m\u001B[43mline_terminator\u001B[49m\u001B[43m,\u001B[49m\n\u001B[1;32m   3554\u001B[0m \u001B[43m    \u001B[49m\u001B[43msep\u001B[49m\u001B[38;5;241;43m=\u001B[39;49m\u001B[43msep\u001B[49m\u001B[43m,\u001B[49m\n\u001B[1;32m   3555\u001B[0m \u001B[43m    \u001B[49m\u001B[43mencoding\u001B[49m\u001B[38;5;241;43m=\u001B[39;49m\u001B[43mencoding\u001B[49m\u001B[43m,\u001B[49m\n\u001B[1;32m   3556\u001B[0m \u001B[43m    \u001B[49m\u001B[43merrors\u001B[49m\u001B[38;5;241;43m=\u001B[39;49m\u001B[43merrors\u001B[49m\u001B[43m,\u001B[49m\n\u001B[1;32m   3557\u001B[0m \u001B[43m    \u001B[49m\u001B[43mcompression\u001B[49m\u001B[38;5;241;43m=\u001B[39;49m\u001B[43mcompression\u001B[49m\u001B[43m,\u001B[49m\n\u001B[1;32m   3558\u001B[0m \u001B[43m    \u001B[49m\u001B[43mquoting\u001B[49m\u001B[38;5;241;43m=\u001B[39;49m\u001B[43mquoting\u001B[49m\u001B[43m,\u001B[49m\n\u001B[1;32m   3559\u001B[0m \u001B[43m    \u001B[49m\u001B[43mcolumns\u001B[49m\u001B[38;5;241;43m=\u001B[39;49m\u001B[43mcolumns\u001B[49m\u001B[43m,\u001B[49m\n\u001B[1;32m   3560\u001B[0m \u001B[43m    \u001B[49m\u001B[43mindex_label\u001B[49m\u001B[38;5;241;43m=\u001B[39;49m\u001B[43mindex_label\u001B[49m\u001B[43m,\u001B[49m\n\u001B[1;32m   3561\u001B[0m \u001B[43m    \u001B[49m\u001B[43mmode\u001B[49m\u001B[38;5;241;43m=\u001B[39;49m\u001B[43mmode\u001B[49m\u001B[43m,\u001B[49m\n\u001B[1;32m   3562\u001B[0m \u001B[43m    \u001B[49m\u001B[43mchunksize\u001B[49m\u001B[38;5;241;43m=\u001B[39;49m\u001B[43mchunksize\u001B[49m\u001B[43m,\u001B[49m\n\u001B[1;32m   3563\u001B[0m \u001B[43m    \u001B[49m\u001B[43mquotechar\u001B[49m\u001B[38;5;241;43m=\u001B[39;49m\u001B[43mquotechar\u001B[49m\u001B[43m,\u001B[49m\n\u001B[1;32m   3564\u001B[0m \u001B[43m    \u001B[49m\u001B[43mdate_format\u001B[49m\u001B[38;5;241;43m=\u001B[39;49m\u001B[43mdate_format\u001B[49m\u001B[43m,\u001B[49m\n\u001B[1;32m   3565\u001B[0m \u001B[43m    \u001B[49m\u001B[43mdoublequote\u001B[49m\u001B[38;5;241;43m=\u001B[39;49m\u001B[43mdoublequote\u001B[49m\u001B[43m,\u001B[49m\n\u001B[1;32m   3566\u001B[0m \u001B[43m    \u001B[49m\u001B[43mescapechar\u001B[49m\u001B[38;5;241;43m=\u001B[39;49m\u001B[43mescapechar\u001B[49m\u001B[43m,\u001B[49m\n\u001B[1;32m   3567\u001B[0m \u001B[43m    \u001B[49m\u001B[43mstorage_options\u001B[49m\u001B[38;5;241;43m=\u001B[39;49m\u001B[43mstorage_options\u001B[49m\u001B[43m,\u001B[49m\n\u001B[1;32m   3568\u001B[0m \u001B[43m\u001B[49m\u001B[43m)\u001B[49m\n",
      "File \u001B[0;32m~/Documents/Data Science MSc 2021-2022/PyInt/lib/python3.9/site-packages/pandas/io/formats/format.py:1180\u001B[0m, in \u001B[0;36mDataFrameRenderer.to_csv\u001B[0;34m(self, path_or_buf, encoding, sep, columns, index_label, mode, compression, quoting, quotechar, line_terminator, chunksize, date_format, doublequote, escapechar, errors, storage_options)\u001B[0m\n\u001B[1;32m   1159\u001B[0m     created_buffer \u001B[38;5;241m=\u001B[39m \u001B[38;5;28;01mFalse\u001B[39;00m\n\u001B[1;32m   1161\u001B[0m csv_formatter \u001B[38;5;241m=\u001B[39m CSVFormatter(\n\u001B[1;32m   1162\u001B[0m     path_or_buf\u001B[38;5;241m=\u001B[39mpath_or_buf,\n\u001B[1;32m   1163\u001B[0m     line_terminator\u001B[38;5;241m=\u001B[39mline_terminator,\n\u001B[0;32m   (...)\u001B[0m\n\u001B[1;32m   1178\u001B[0m     formatter\u001B[38;5;241m=\u001B[39m\u001B[38;5;28mself\u001B[39m\u001B[38;5;241m.\u001B[39mfmt,\n\u001B[1;32m   1179\u001B[0m )\n\u001B[0;32m-> 1180\u001B[0m \u001B[43mcsv_formatter\u001B[49m\u001B[38;5;241;43m.\u001B[39;49m\u001B[43msave\u001B[49m\u001B[43m(\u001B[49m\u001B[43m)\u001B[49m\n\u001B[1;32m   1182\u001B[0m \u001B[38;5;28;01mif\u001B[39;00m created_buffer:\n\u001B[1;32m   1183\u001B[0m     \u001B[38;5;28;01massert\u001B[39;00m \u001B[38;5;28misinstance\u001B[39m(path_or_buf, StringIO)\n",
      "File \u001B[0;32m~/Documents/Data Science MSc 2021-2022/PyInt/lib/python3.9/site-packages/pandas/io/formats/csvs.py:261\u001B[0m, in \u001B[0;36mCSVFormatter.save\u001B[0;34m(self)\u001B[0m\n\u001B[1;32m    241\u001B[0m \u001B[38;5;28;01mwith\u001B[39;00m get_handle(\n\u001B[1;32m    242\u001B[0m     \u001B[38;5;28mself\u001B[39m\u001B[38;5;241m.\u001B[39mfilepath_or_buffer,\n\u001B[1;32m    243\u001B[0m     \u001B[38;5;28mself\u001B[39m\u001B[38;5;241m.\u001B[39mmode,\n\u001B[0;32m   (...)\u001B[0m\n\u001B[1;32m    249\u001B[0m \n\u001B[1;32m    250\u001B[0m     \u001B[38;5;66;03m# Note: self.encoding is irrelevant here\u001B[39;00m\n\u001B[1;32m    251\u001B[0m     \u001B[38;5;28mself\u001B[39m\u001B[38;5;241m.\u001B[39mwriter \u001B[38;5;241m=\u001B[39m csvlib\u001B[38;5;241m.\u001B[39mwriter(\n\u001B[1;32m    252\u001B[0m         handles\u001B[38;5;241m.\u001B[39mhandle,\n\u001B[1;32m    253\u001B[0m         lineterminator\u001B[38;5;241m=\u001B[39m\u001B[38;5;28mself\u001B[39m\u001B[38;5;241m.\u001B[39mline_terminator,\n\u001B[0;32m   (...)\u001B[0m\n\u001B[1;32m    258\u001B[0m         quotechar\u001B[38;5;241m=\u001B[39m\u001B[38;5;28mself\u001B[39m\u001B[38;5;241m.\u001B[39mquotechar,\n\u001B[1;32m    259\u001B[0m     )\n\u001B[0;32m--> 261\u001B[0m     \u001B[38;5;28;43mself\u001B[39;49m\u001B[38;5;241;43m.\u001B[39;49m\u001B[43m_save\u001B[49m\u001B[43m(\u001B[49m\u001B[43m)\u001B[49m\n",
      "File \u001B[0;32m~/Documents/Data Science MSc 2021-2022/PyInt/lib/python3.9/site-packages/pandas/io/formats/csvs.py:266\u001B[0m, in \u001B[0;36mCSVFormatter._save\u001B[0;34m(self)\u001B[0m\n\u001B[1;32m    264\u001B[0m \u001B[38;5;28;01mif\u001B[39;00m \u001B[38;5;28mself\u001B[39m\u001B[38;5;241m.\u001B[39m_need_to_save_header:\n\u001B[1;32m    265\u001B[0m     \u001B[38;5;28mself\u001B[39m\u001B[38;5;241m.\u001B[39m_save_header()\n\u001B[0;32m--> 266\u001B[0m \u001B[38;5;28;43mself\u001B[39;49m\u001B[38;5;241;43m.\u001B[39;49m\u001B[43m_save_body\u001B[49m\u001B[43m(\u001B[49m\u001B[43m)\u001B[49m\n",
      "File \u001B[0;32m~/Documents/Data Science MSc 2021-2022/PyInt/lib/python3.9/site-packages/pandas/io/formats/csvs.py:304\u001B[0m, in \u001B[0;36mCSVFormatter._save_body\u001B[0;34m(self)\u001B[0m\n\u001B[1;32m    302\u001B[0m \u001B[38;5;28;01mif\u001B[39;00m start_i \u001B[38;5;241m>\u001B[39m\u001B[38;5;241m=\u001B[39m end_i:\n\u001B[1;32m    303\u001B[0m     \u001B[38;5;28;01mbreak\u001B[39;00m\n\u001B[0;32m--> 304\u001B[0m \u001B[38;5;28;43mself\u001B[39;49m\u001B[38;5;241;43m.\u001B[39;49m\u001B[43m_save_chunk\u001B[49m\u001B[43m(\u001B[49m\u001B[43mstart_i\u001B[49m\u001B[43m,\u001B[49m\u001B[43m \u001B[49m\u001B[43mend_i\u001B[49m\u001B[43m)\u001B[49m\n",
      "File \u001B[0;32m~/Documents/Data Science MSc 2021-2022/PyInt/lib/python3.9/site-packages/pandas/io/formats/csvs.py:315\u001B[0m, in \u001B[0;36mCSVFormatter._save_chunk\u001B[0;34m(self, start_i, end_i)\u001B[0m\n\u001B[1;32m    312\u001B[0m data \u001B[38;5;241m=\u001B[39m [res\u001B[38;5;241m.\u001B[39miget_values(i) \u001B[38;5;28;01mfor\u001B[39;00m i \u001B[38;5;129;01min\u001B[39;00m \u001B[38;5;28mrange\u001B[39m(\u001B[38;5;28mlen\u001B[39m(res\u001B[38;5;241m.\u001B[39mitems))]\n\u001B[1;32m    314\u001B[0m ix \u001B[38;5;241m=\u001B[39m \u001B[38;5;28mself\u001B[39m\u001B[38;5;241m.\u001B[39mdata_index[slicer]\u001B[38;5;241m.\u001B[39m_format_native_types(\u001B[38;5;241m*\u001B[39m\u001B[38;5;241m*\u001B[39m\u001B[38;5;28mself\u001B[39m\u001B[38;5;241m.\u001B[39m_number_format)\n\u001B[0;32m--> 315\u001B[0m \u001B[43mlibwriters\u001B[49m\u001B[38;5;241;43m.\u001B[39;49m\u001B[43mwrite_csv_rows\u001B[49m\u001B[43m(\u001B[49m\n\u001B[1;32m    316\u001B[0m \u001B[43m    \u001B[49m\u001B[43mdata\u001B[49m\u001B[43m,\u001B[49m\n\u001B[1;32m    317\u001B[0m \u001B[43m    \u001B[49m\u001B[43mix\u001B[49m\u001B[43m,\u001B[49m\n\u001B[1;32m    318\u001B[0m \u001B[43m    \u001B[49m\u001B[38;5;28;43mself\u001B[39;49m\u001B[38;5;241;43m.\u001B[39;49m\u001B[43mnlevels\u001B[49m\u001B[43m,\u001B[49m\n\u001B[1;32m    319\u001B[0m \u001B[43m    \u001B[49m\u001B[38;5;28;43mself\u001B[39;49m\u001B[38;5;241;43m.\u001B[39;49m\u001B[43mcols\u001B[49m\u001B[43m,\u001B[49m\n\u001B[1;32m    320\u001B[0m \u001B[43m    \u001B[49m\u001B[38;5;28;43mself\u001B[39;49m\u001B[38;5;241;43m.\u001B[39;49m\u001B[43mwriter\u001B[49m\u001B[43m,\u001B[49m\n\u001B[1;32m    321\u001B[0m \u001B[43m\u001B[49m\u001B[43m)\u001B[49m\n",
      "File \u001B[0;32mpandas/_libs/writers.pyx:55\u001B[0m, in \u001B[0;36mpandas._libs.writers.write_csv_rows\u001B[0;34m()\u001B[0m\n",
      "\u001B[0;31mUnicodeEncodeError\u001B[0m: 'utf-8' codec can't encode character '\\ude2b' in position 64: surrogates not allowed"
     ]
    }
   ],
   "source": [
    "tweets.to_csv('/Users/brookegrantham/Documents/DSP/twitter_training_set')"
   ],
   "metadata": {
    "collapsed": false,
    "pycharm": {
     "name": "#%%\n"
    }
   }
  },
  {
   "cell_type": "markdown",
   "source": [],
   "metadata": {
    "collapsed": false
   }
  },
  {
   "cell_type": "code",
   "execution_count": 3,
   "outputs": [
    {
     "name": "stdout",
     "output_type": "stream",
     "text": [
      "11\n",
      "12\n",
      "13\n",
      "14\n",
      "15\n",
      "16\n",
      "17\n",
      "18\n",
      "19\n",
      "20\n"
     ]
    }
   ],
   "source": [
    "tweets2 = pd.DataFrame()\n",
    "for i in range(11,21):\n",
    "    f = []\n",
    "    for (dirpath, dirnames,filenames) in os.walk(path+str(i)):\n",
    "        f.extend(filenames)\n",
    "    for _ in f:\n",
    "        try:\n",
    "            tweets2 = pd.concat([tweets2,pd.read_json(path+str(i)+'/'+_, lines=True)], ignore_index=True)\n",
    "        except:\n",
    "            pass\n",
    "    print(i)"
   ],
   "metadata": {
    "collapsed": false,
    "pycharm": {
     "name": "#%%\n"
    }
   }
  },
  {
   "cell_type": "code",
   "execution_count": 4,
   "outputs": [
    {
     "name": "stdout",
     "output_type": "stream",
     "text": [
      "21\n",
      "22\n",
      "23\n",
      "24\n",
      "25\n",
      "26\n",
      "27\n",
      "28\n",
      "29\n",
      "30\n"
     ]
    }
   ],
   "source": [
    "tweets3 = pd.DataFrame()\n",
    "for i in range(21,31):\n",
    "    f = []\n",
    "    for (dirpath, dirnames,filenames) in os.walk(path+str(i)):\n",
    "        f.extend(filenames)\n",
    "    for _ in f:\n",
    "        try:\n",
    "            tweets3 = pd.concat([tweets3,pd.read_json(path+str(i)+'/'+_, lines=True)], ignore_index=True)\n",
    "        except:\n",
    "            pass\n",
    "    print(i)"
   ],
   "metadata": {
    "collapsed": false,
    "pycharm": {
     "name": "#%%\n"
    }
   }
  },
  {
   "cell_type": "code",
   "execution_count": 5,
   "outputs": [
    {
     "name": "stdout",
     "output_type": "stream",
     "text": [
      "31\n",
      "32\n",
      "33\n",
      "34\n",
      "35\n",
      "36\n",
      "37\n",
      "38\n",
      "39\n",
      "40\n"
     ]
    }
   ],
   "source": [
    "tweets4 = pd.DataFrame()\n",
    "for i in range(31,41):\n",
    "    f = []\n",
    "    for (dirpath, dirnames,filenames) in os.walk(path+str(i)):\n",
    "        f.extend(filenames)\n",
    "    for _ in f:\n",
    "        try:\n",
    "            tweets4 = pd.concat([tweets4,pd.read_json(path+str(i)+'/'+_, lines=True)], ignore_index=True)\n",
    "        except:\n",
    "            pass\n",
    "    print(i)"
   ],
   "metadata": {
    "collapsed": false,
    "pycharm": {
     "name": "#%%\n"
    }
   }
  },
  {
   "cell_type": "code",
   "execution_count": 6,
   "outputs": [
    {
     "name": "stdout",
     "output_type": "stream",
     "text": [
      "41\n",
      "42\n",
      "43\n",
      "44\n",
      "45\n",
      "46\n",
      "47\n",
      "48\n",
      "49\n",
      "50\n"
     ]
    }
   ],
   "source": [
    "tweets5 = pd.DataFrame()\n",
    "for i in range(41,51):\n",
    "    f = []\n",
    "    for (dirpath, dirnames,filenames) in os.walk(path+str(i)):\n",
    "        f.extend(filenames)\n",
    "    for _ in f:\n",
    "        try:\n",
    "            tweets5 = pd.concat([tweets5,pd.read_json(path+str(i)+'/'+_, lines=True)], ignore_index=True)\n",
    "        except:\n",
    "            pass\n",
    "    print(i)"
   ],
   "metadata": {
    "collapsed": false,
    "pycharm": {
     "name": "#%%\n"
    }
   }
  },
  {
   "cell_type": "code",
   "execution_count": 7,
   "outputs": [],
   "source": [
    "frames = [tweets,tweets2,tweets3,tweets4]\n",
    "training_set = pd.concat(frames)"
   ],
   "metadata": {
    "collapsed": false,
    "pycharm": {
     "name": "#%%\n"
    }
   }
  },
  {
   "cell_type": "code",
   "execution_count": 10,
   "outputs": [
    {
     "data": {
      "text/plain": "        truncated                                               text  \\\n0           False  @hFcZ7G8i hi Luke! please follow @dQWXaUYIdUrz...   \n1           False  @hFcZ7G8i hi Luke! please follow @dQWXaUYIdUrz...   \n2           False  @hFcZ7G8i hi Luke! please follow @dQWXaUYIdUrz...   \n3           False  @hFcZ7G8i hi Luke! please follow @dQWXaUYIdUrz...   \n4           False  @hFcZ7G8i hi Luke! please follow @dQWXaUYIdUrz...   \n...           ...                                                ...   \n435553      False                         Please report @/gagascunty   \n435554      False  RT @tLM1: SO EXCITED TO PLAY TODAYYYYY :) I'm ...   \n435555      False                                            Cory :(   \n435556      False  I forgot what my history homework is and my fr...   \n435557      False         @vTgS0crXBDU2O THIS MUST BE SO AWKWARD NOW   \n\n        in_reply_to_status_id                   id  favorite_count  retweeted  \\\n0                         NaN  1530998916955283220               0      False   \n1                         NaN  2013480163991707391               0      False   \n2                         NaN  9172836907438803528               0      False   \n3                         NaN  6595595489617756207               0      False   \n4                         NaN  7302765045335348001               0      False   \n...                       ...                  ...             ...        ...   \n435553                    NaN  8020374129285438403               1      False   \n435554                    NaN  6748599470050782481               0      False   \n435555                    NaN  1735584633473287852               0      False   \n435556                    NaN  6058955949582580604               0      False   \n435557                    NaN  1801783596329866645               0      False   \n\n                                                 entities  \\\n0       {'symbols': [], 'user_mentions': [{'indices': ...   \n1       {'symbols': [], 'user_mentions': [{'indices': ...   \n2       {'symbols': [], 'user_mentions': [{'indices': ...   \n3       {'symbols': [], 'user_mentions': [{'indices': ...   \n4       {'symbols': [], 'user_mentions': [{'indices': ...   \n...                                                   ...   \n435553  {'symbols': [], 'user_mentions': [], 'hashtags...   \n435554  {'symbols': [], 'user_mentions': [{'indices': ...   \n435555  {'symbols': [], 'user_mentions': [], 'hashtags...   \n435556  {'symbols': [], 'user_mentions': [], 'hashtags...   \n435557  {'symbols': [], 'user_mentions': [{'indices': ...   \n\n       in_reply_to_screen_name               id_str  retweet_count  ...  \\\n0                     hFcZ7G8i  1530998916955283200              0  ...   \n1                     hFcZ7G8i  2013480163991707392              0  ...   \n2                     hFcZ7G8i  9172836907438803968              0  ...   \n3                     hFcZ7G8i  6595595489617756160              0  ...   \n4                     hFcZ7G8i  7302765045335348224              0  ...   \n...                        ...                  ...            ...  ...   \n435553                    None  8020374129285438464              0  ...   \n435554                    None  6748599470050782208           4921  ...   \n435555                    None  1735584633473287936              0  ...   \n435556                    None  6058955949582580736              0  ...   \n435557                    None  1801783596329866752              1  ...   \n\n                                   screen_name_statistics  \\\n0       {'has_underscore': False, 'contains_swear': Fa...   \n1       {'has_underscore': False, 'contains_swear': Fa...   \n2       {'has_underscore': False, 'contains_swear': Fa...   \n3       {'has_underscore': False, 'contains_swear': Fa...   \n4       {'has_underscore': False, 'contains_swear': Fa...   \n...                                                   ...   \n435553  {'has_underscore': False, 'contains_swear': Fa...   \n435554  {'has_underscore': False, 'contains_swear': Fa...   \n435555  {'has_underscore': False, 'contains_swear': Fa...   \n435556  {'has_underscore': False, 'contains_swear': Fa...   \n435557  {'has_underscore': False, 'contains_swear': Fa...   \n\n                                                     user geo  \\\n0       {'verified': False, 'geo_enabled': False, 'fol... NaN   \n1       {'verified': False, 'geo_enabled': False, 'fol... NaN   \n2       {'verified': False, 'geo_enabled': False, 'fol... NaN   \n3       {'verified': False, 'geo_enabled': False, 'fol... NaN   \n4       {'verified': False, 'geo_enabled': False, 'fol... NaN   \n...                                                   ...  ..   \n435553  {'verified': False, 'geo_enabled': False, 'fol... NaN   \n435554  {'verified': False, 'geo_enabled': False, 'fol... NaN   \n435555  {'verified': False, 'geo_enabled': False, 'fol... NaN   \n435556  {'verified': False, 'geo_enabled': False, 'fol... NaN   \n435557  {'verified': False, 'geo_enabled': False, 'fol... NaN   \n\n        in_reply_to_user_id_str  lang                created_at  \\\n0                  4.522456e+18    en 2013-04-25 16:36:21+00:00   \n1                  4.522456e+18    en 2013-04-25 16:36:06+00:00   \n2                  4.522456e+18    en 2013-04-25 16:36:04+00:00   \n3                  4.522456e+18    en 2013-04-25 16:35:24+00:00   \n4                  4.522456e+18    en 2013-04-25 16:35:20+00:00   \n...                         ...   ...                       ...   \n435553                      NaN    en 2013-09-23 01:36:17+00:00   \n435554                      NaN    en 2013-09-23 01:34:59+00:00   \n435555                      NaN    vi 2013-09-23 01:17:27+00:00   \n435556                      NaN    en 2013-09-23 01:06:09+00:00   \n435557                      NaN    en 2013-09-23 01:04:20+00:00   \n\n       in_reply_to_status_id_str  place  possibly_sensitive  \\\n0                            NaN    NaN                 NaN   \n1                            NaN    NaN                 NaN   \n2                            NaN    NaN                 NaN   \n3                            NaN    NaN                 NaN   \n4                            NaN    NaN                 NaN   \n...                          ...    ...                 ...   \n435553                       NaN    NaN                 NaN   \n435554                       NaN    NaN                 NaN   \n435555                       NaN    NaN                 NaN   \n435556                       NaN    NaN                 NaN   \n435557                       NaN    NaN                 NaN   \n\n                                         retweeted_status  \n0                                                     NaN  \n1                                                     NaN  \n2                                                     NaN  \n3                                                     NaN  \n4                                                     NaN  \n...                                                   ...  \n435553                                                NaN  \n435554  {'truncated': False, 'text': 'SO EXCITED TO PL...  \n435555                                                NaN  \n435556                                                NaN  \n435557                                                NaN  \n\n[1822035 rows x 21 columns]",
      "text/html": "<div>\n<style scoped>\n    .dataframe tbody tr th:only-of-type {\n        vertical-align: middle;\n    }\n\n    .dataframe tbody tr th {\n        vertical-align: top;\n    }\n\n    .dataframe thead th {\n        text-align: right;\n    }\n</style>\n<table border=\"1\" class=\"dataframe\">\n  <thead>\n    <tr style=\"text-align: right;\">\n      <th></th>\n      <th>truncated</th>\n      <th>text</th>\n      <th>in_reply_to_status_id</th>\n      <th>id</th>\n      <th>favorite_count</th>\n      <th>retweeted</th>\n      <th>entities</th>\n      <th>in_reply_to_screen_name</th>\n      <th>id_str</th>\n      <th>retweet_count</th>\n      <th>...</th>\n      <th>screen_name_statistics</th>\n      <th>user</th>\n      <th>geo</th>\n      <th>in_reply_to_user_id_str</th>\n      <th>lang</th>\n      <th>created_at</th>\n      <th>in_reply_to_status_id_str</th>\n      <th>place</th>\n      <th>possibly_sensitive</th>\n      <th>retweeted_status</th>\n    </tr>\n  </thead>\n  <tbody>\n    <tr>\n      <th>0</th>\n      <td>False</td>\n      <td>@hFcZ7G8i hi Luke! please follow @dQWXaUYIdUrz...</td>\n      <td>NaN</td>\n      <td>1530998916955283220</td>\n      <td>0</td>\n      <td>False</td>\n      <td>{'symbols': [], 'user_mentions': [{'indices': ...</td>\n      <td>hFcZ7G8i</td>\n      <td>1530998916955283200</td>\n      <td>0</td>\n      <td>...</td>\n      <td>{'has_underscore': False, 'contains_swear': Fa...</td>\n      <td>{'verified': False, 'geo_enabled': False, 'fol...</td>\n      <td>NaN</td>\n      <td>4.522456e+18</td>\n      <td>en</td>\n      <td>2013-04-25 16:36:21+00:00</td>\n      <td>NaN</td>\n      <td>NaN</td>\n      <td>NaN</td>\n      <td>NaN</td>\n    </tr>\n    <tr>\n      <th>1</th>\n      <td>False</td>\n      <td>@hFcZ7G8i hi Luke! please follow @dQWXaUYIdUrz...</td>\n      <td>NaN</td>\n      <td>2013480163991707391</td>\n      <td>0</td>\n      <td>False</td>\n      <td>{'symbols': [], 'user_mentions': [{'indices': ...</td>\n      <td>hFcZ7G8i</td>\n      <td>2013480163991707392</td>\n      <td>0</td>\n      <td>...</td>\n      <td>{'has_underscore': False, 'contains_swear': Fa...</td>\n      <td>{'verified': False, 'geo_enabled': False, 'fol...</td>\n      <td>NaN</td>\n      <td>4.522456e+18</td>\n      <td>en</td>\n      <td>2013-04-25 16:36:06+00:00</td>\n      <td>NaN</td>\n      <td>NaN</td>\n      <td>NaN</td>\n      <td>NaN</td>\n    </tr>\n    <tr>\n      <th>2</th>\n      <td>False</td>\n      <td>@hFcZ7G8i hi Luke! please follow @dQWXaUYIdUrz...</td>\n      <td>NaN</td>\n      <td>9172836907438803528</td>\n      <td>0</td>\n      <td>False</td>\n      <td>{'symbols': [], 'user_mentions': [{'indices': ...</td>\n      <td>hFcZ7G8i</td>\n      <td>9172836907438803968</td>\n      <td>0</td>\n      <td>...</td>\n      <td>{'has_underscore': False, 'contains_swear': Fa...</td>\n      <td>{'verified': False, 'geo_enabled': False, 'fol...</td>\n      <td>NaN</td>\n      <td>4.522456e+18</td>\n      <td>en</td>\n      <td>2013-04-25 16:36:04+00:00</td>\n      <td>NaN</td>\n      <td>NaN</td>\n      <td>NaN</td>\n      <td>NaN</td>\n    </tr>\n    <tr>\n      <th>3</th>\n      <td>False</td>\n      <td>@hFcZ7G8i hi Luke! please follow @dQWXaUYIdUrz...</td>\n      <td>NaN</td>\n      <td>6595595489617756207</td>\n      <td>0</td>\n      <td>False</td>\n      <td>{'symbols': [], 'user_mentions': [{'indices': ...</td>\n      <td>hFcZ7G8i</td>\n      <td>6595595489617756160</td>\n      <td>0</td>\n      <td>...</td>\n      <td>{'has_underscore': False, 'contains_swear': Fa...</td>\n      <td>{'verified': False, 'geo_enabled': False, 'fol...</td>\n      <td>NaN</td>\n      <td>4.522456e+18</td>\n      <td>en</td>\n      <td>2013-04-25 16:35:24+00:00</td>\n      <td>NaN</td>\n      <td>NaN</td>\n      <td>NaN</td>\n      <td>NaN</td>\n    </tr>\n    <tr>\n      <th>4</th>\n      <td>False</td>\n      <td>@hFcZ7G8i hi Luke! please follow @dQWXaUYIdUrz...</td>\n      <td>NaN</td>\n      <td>7302765045335348001</td>\n      <td>0</td>\n      <td>False</td>\n      <td>{'symbols': [], 'user_mentions': [{'indices': ...</td>\n      <td>hFcZ7G8i</td>\n      <td>7302765045335348224</td>\n      <td>0</td>\n      <td>...</td>\n      <td>{'has_underscore': False, 'contains_swear': Fa...</td>\n      <td>{'verified': False, 'geo_enabled': False, 'fol...</td>\n      <td>NaN</td>\n      <td>4.522456e+18</td>\n      <td>en</td>\n      <td>2013-04-25 16:35:20+00:00</td>\n      <td>NaN</td>\n      <td>NaN</td>\n      <td>NaN</td>\n      <td>NaN</td>\n    </tr>\n    <tr>\n      <th>...</th>\n      <td>...</td>\n      <td>...</td>\n      <td>...</td>\n      <td>...</td>\n      <td>...</td>\n      <td>...</td>\n      <td>...</td>\n      <td>...</td>\n      <td>...</td>\n      <td>...</td>\n      <td>...</td>\n      <td>...</td>\n      <td>...</td>\n      <td>...</td>\n      <td>...</td>\n      <td>...</td>\n      <td>...</td>\n      <td>...</td>\n      <td>...</td>\n      <td>...</td>\n      <td>...</td>\n    </tr>\n    <tr>\n      <th>435553</th>\n      <td>False</td>\n      <td>Please report @/gagascunty</td>\n      <td>NaN</td>\n      <td>8020374129285438403</td>\n      <td>1</td>\n      <td>False</td>\n      <td>{'symbols': [], 'user_mentions': [], 'hashtags...</td>\n      <td>None</td>\n      <td>8020374129285438464</td>\n      <td>0</td>\n      <td>...</td>\n      <td>{'has_underscore': False, 'contains_swear': Fa...</td>\n      <td>{'verified': False, 'geo_enabled': False, 'fol...</td>\n      <td>NaN</td>\n      <td>NaN</td>\n      <td>en</td>\n      <td>2013-09-23 01:36:17+00:00</td>\n      <td>NaN</td>\n      <td>NaN</td>\n      <td>NaN</td>\n      <td>NaN</td>\n    </tr>\n    <tr>\n      <th>435554</th>\n      <td>False</td>\n      <td>RT @tLM1: SO EXCITED TO PLAY TODAYYYYY :) I'm ...</td>\n      <td>NaN</td>\n      <td>6748599470050782481</td>\n      <td>0</td>\n      <td>False</td>\n      <td>{'symbols': [], 'user_mentions': [{'indices': ...</td>\n      <td>None</td>\n      <td>6748599470050782208</td>\n      <td>4921</td>\n      <td>...</td>\n      <td>{'has_underscore': False, 'contains_swear': Fa...</td>\n      <td>{'verified': False, 'geo_enabled': False, 'fol...</td>\n      <td>NaN</td>\n      <td>NaN</td>\n      <td>en</td>\n      <td>2013-09-23 01:34:59+00:00</td>\n      <td>NaN</td>\n      <td>NaN</td>\n      <td>NaN</td>\n      <td>{'truncated': False, 'text': 'SO EXCITED TO PL...</td>\n    </tr>\n    <tr>\n      <th>435555</th>\n      <td>False</td>\n      <td>Cory :(</td>\n      <td>NaN</td>\n      <td>1735584633473287852</td>\n      <td>0</td>\n      <td>False</td>\n      <td>{'symbols': [], 'user_mentions': [], 'hashtags...</td>\n      <td>None</td>\n      <td>1735584633473287936</td>\n      <td>0</td>\n      <td>...</td>\n      <td>{'has_underscore': False, 'contains_swear': Fa...</td>\n      <td>{'verified': False, 'geo_enabled': False, 'fol...</td>\n      <td>NaN</td>\n      <td>NaN</td>\n      <td>vi</td>\n      <td>2013-09-23 01:17:27+00:00</td>\n      <td>NaN</td>\n      <td>NaN</td>\n      <td>NaN</td>\n      <td>NaN</td>\n    </tr>\n    <tr>\n      <th>435556</th>\n      <td>False</td>\n      <td>I forgot what my history homework is and my fr...</td>\n      <td>NaN</td>\n      <td>6058955949582580604</td>\n      <td>0</td>\n      <td>False</td>\n      <td>{'symbols': [], 'user_mentions': [], 'hashtags...</td>\n      <td>None</td>\n      <td>6058955949582580736</td>\n      <td>0</td>\n      <td>...</td>\n      <td>{'has_underscore': False, 'contains_swear': Fa...</td>\n      <td>{'verified': False, 'geo_enabled': False, 'fol...</td>\n      <td>NaN</td>\n      <td>NaN</td>\n      <td>en</td>\n      <td>2013-09-23 01:06:09+00:00</td>\n      <td>NaN</td>\n      <td>NaN</td>\n      <td>NaN</td>\n      <td>NaN</td>\n    </tr>\n    <tr>\n      <th>435557</th>\n      <td>False</td>\n      <td>@vTgS0crXBDU2O THIS MUST BE SO AWKWARD NOW</td>\n      <td>NaN</td>\n      <td>1801783596329866645</td>\n      <td>0</td>\n      <td>False</td>\n      <td>{'symbols': [], 'user_mentions': [{'indices': ...</td>\n      <td>None</td>\n      <td>1801783596329866752</td>\n      <td>1</td>\n      <td>...</td>\n      <td>{'has_underscore': False, 'contains_swear': Fa...</td>\n      <td>{'verified': False, 'geo_enabled': False, 'fol...</td>\n      <td>NaN</td>\n      <td>NaN</td>\n      <td>en</td>\n      <td>2013-09-23 01:04:20+00:00</td>\n      <td>NaN</td>\n      <td>NaN</td>\n      <td>NaN</td>\n      <td>NaN</td>\n    </tr>\n  </tbody>\n</table>\n<p>1822035 rows × 21 columns</p>\n</div>"
     },
     "execution_count": 10,
     "metadata": {},
     "output_type": "execute_result"
    }
   ],
   "source": [
    "validation_set = tweets5"
   ],
   "metadata": {
    "collapsed": false,
    "pycharm": {
     "name": "#%%\n"
    }
   }
  },
  {
   "cell_type": "code",
   "execution_count": 9,
   "outputs": [
    {
     "name": "stdout",
     "output_type": "stream",
     "text": [
      "60\n",
      "61\n",
      "62\n",
      "63\n",
      "64\n",
      "65\n",
      "66\n",
      "67\n",
      "68\n",
      "69\n",
      "70\n"
     ]
    }
   ],
   "source": [
    "path = '/Users/brookegrantham/Documents/DSP/shared_task_data/final_testing_data/'\n",
    "train1 = pd.DataFrame()\n",
    "for i in range(60,71):\n",
    "    f = []\n",
    "    for (dirpath, dirnames,filenames) in os.walk(path+str(i)):\n",
    "        f.extend(filenames)\n",
    "    for _ in f:\n",
    "        try:\n",
    "            train1 = pd.concat([train1,pd.read_json(path+str(i)+'/'+_, lines=True)], ignore_index=True)\n",
    "        except:\n",
    "            pass\n",
    "    print(i)"
   ],
   "metadata": {
    "collapsed": false,
    "pycharm": {
     "name": "#%%\n"
    }
   }
  },
  {
   "cell_type": "code",
   "execution_count": 11,
   "outputs": [
    {
     "name": "stdout",
     "output_type": "stream",
     "text": [
      "71\n",
      "72\n",
      "73\n",
      "74\n",
      "75\n",
      "76\n",
      "77\n",
      "78\n",
      "79\n",
      "80\n"
     ]
    }
   ],
   "source": [
    "train2 = pd.DataFrame()\n",
    "for i in range(71,81):\n",
    "    f = []\n",
    "    for (dirpath, dirnames,filenames) in os.walk(path+str(i)):\n",
    "        f.extend(filenames)\n",
    "    for _ in f:\n",
    "        try:\n",
    "            train2 = pd.concat([train2,pd.read_json(path+str(i)+'/'+_, lines=True)], ignore_index=True)\n",
    "        except:\n",
    "            pass\n",
    "    print(i)"
   ],
   "metadata": {
    "collapsed": false,
    "pycharm": {
     "name": "#%%\n"
    }
   }
  },
  {
   "cell_type": "code",
   "execution_count": 12,
   "outputs": [
    {
     "name": "stdout",
     "output_type": "stream",
     "text": [
      "81\n",
      "82\n",
      "83\n",
      "84\n",
      "85\n",
      "86\n",
      "87\n",
      "88\n",
      "89\n"
     ]
    }
   ],
   "source": [
    "train3 = pd.DataFrame()\n",
    "for i in range(81,90):\n",
    "    f = []\n",
    "    for (dirpath, dirnames,filenames) in os.walk(path+str(i)):\n",
    "        f.extend(filenames)\n",
    "    for _ in f:\n",
    "        try:\n",
    "            train3 = pd.concat([train3,pd.read_json(path+str(i)+'/'+_, lines=True)], ignore_index=True)\n",
    "        except:\n",
    "            pass\n",
    "    print(i)"
   ],
   "metadata": {
    "collapsed": false,
    "pycharm": {
     "name": "#%%\n"
    }
   }
  },
  {
   "cell_type": "code",
   "execution_count": 14,
   "outputs": [],
   "source": [
    "frames2 = [train1, train2,train3]\n",
    "test_set = pd.concat(frames2)"
   ],
   "metadata": {
    "collapsed": false,
    "pycharm": {
     "name": "#%%\n"
    }
   }
  },
  {
   "cell_type": "code",
   "execution_count": 15,
   "outputs": [
    {
     "data": {
      "text/plain": "        truncated                                               text  \\\n0           False  @qvdj3Rhgbf \"a short history of nearly everyth...   \n1           False  RT @ikM6QmyEeByqCc: Of note: We just had massi...   \n2           False     RT @m1BrR: Good Morning http://t.co/GXr9z8r3kt   \n3           False  RT @v4WGIC0_ssKdM6: Great chart:  http://t.co/...   \n4           False  Of the $422bn of loans made in the year to dat...   \n...           ...                                                ...   \n413304      False  RT @vH60BLh_ddB: Cute kiddie valentines make e...   \n413305      False  Icarus Project guide on kickstarter: \"Mindful ...   \n413306      False  Finished \"Garp\" by John Irving. I've read enou...   \n413307      False  Twitter: the perfect platform to help me hone ...   \n413308      False  At least if the room is empty, I don't get sta...   \n\n        in_reply_to_status_id                   id  favorite_count  retweeted  \\\n0                2.397601e+18  4031465155652966265               0      False   \n1                         NaN  8812414595236264794               0      False   \n2                         NaN  1393785356559441994               0      False   \n3                         NaN  1147937680786919255               0      False   \n4                         NaN  5916960197646843241               0      False   \n...                       ...                  ...             ...        ...   \n413304                    NaN  5417829564191116075               0      False   \n413305                    NaN  5699466370400660565               0      False   \n413306                    NaN  1981114375914615942               0      False   \n413307                    NaN  1377874712523277375               0      False   \n413308                    NaN  5780627303924552979               0      False   \n\n                                                 entities  \\\n0       {'symbols': [], 'user_mentions': [{'indices': ...   \n1       {'symbols': [], 'user_mentions': [{'indices': ...   \n2       {'symbols': [], 'user_mentions': [{'indices': ...   \n3       {'symbols': [], 'user_mentions': [{'indices': ...   \n4       {'symbols': [], 'user_mentions': [], 'hashtags...   \n...                                                   ...   \n413304  {'symbols': [], 'user_mentions': [{'indices': ...   \n413305  {'symbols': [], 'user_mentions': [], 'hashtags...   \n413306  {'symbols': [], 'user_mentions': [], 'hashtags...   \n413307  {'symbols': [], 'user_mentions': [], 'hashtags...   \n413308  {'symbols': [], 'user_mentions': [], 'hashtags...   \n\n       in_reply_to_screen_name               id_str  retweet_count  ...  \\\n0                   qvdj3Rhgbf  4031465155652966400              0  ...   \n1                         None  8812414595236264960              2  ...   \n2                         None  1393785356559441920              2  ...   \n3                         None  1147937680786919296              4  ...   \n4                         None  5916960197646842880              0  ...   \n...                        ...                  ...            ...  ...   \n413304                    None  5417829564191116288              1  ...   \n413305                    None  5699466370400660480              0  ...   \n413306                    None  1981114375914616064              0  ...   \n413307                    None  1377874712523277312              0  ...   \n413308                    None  5780627303924552704              0  ...   \n\n                                   screen_name_statistics  \\\n0       {'has_underscore': True, 'contains_swear': Fal...   \n1       {'has_underscore': True, 'contains_swear': Fal...   \n2       {'has_underscore': True, 'contains_swear': Fal...   \n3       {'has_underscore': True, 'contains_swear': Fal...   \n4       {'has_underscore': True, 'contains_swear': Fal...   \n...                                                   ...   \n413304  {'has_underscore': True, 'contains_swear': Fal...   \n413305  {'has_underscore': True, 'contains_swear': Fal...   \n413306  {'has_underscore': True, 'contains_swear': Fal...   \n413307  {'has_underscore': True, 'contains_swear': Fal...   \n413308  {'has_underscore': True, 'contains_swear': Fal...   \n\n                                                     user geo  \\\n0       {'verified': False, 'geo_enabled': False, 'fol... NaN   \n1       {'verified': False, 'geo_enabled': False, 'fol... NaN   \n2       {'verified': False, 'geo_enabled': False, 'fol... NaN   \n3       {'verified': False, 'geo_enabled': False, 'fol... NaN   \n4       {'verified': False, 'geo_enabled': False, 'fol... NaN   \n...                                                   ...  ..   \n413304  {'verified': False, 'geo_enabled': False, 'fol... NaN   \n413305  {'verified': False, 'geo_enabled': False, 'fol... NaN   \n413306  {'verified': False, 'geo_enabled': False, 'fol... NaN   \n413307  {'verified': False, 'geo_enabled': False, 'fol... NaN   \n413308  {'verified': False, 'geo_enabled': False, 'fol... NaN   \n\n        in_reply_to_user_id_str  lang                created_at  \\\n0                  2.541051e+18    en 2013-11-20 09:41:24+00:00   \n1                           NaN    en 2013-11-20 09:40:36+00:00   \n2                           NaN    en 2013-11-20 07:15:38+00:00   \n3                           NaN    en 2013-11-20 03:16:18+00:00   \n4                           NaN    en 2013-11-20 02:33:43+00:00   \n...                         ...   ...                       ...   \n413304                      NaN    en 2012-02-15 01:25:36+00:00   \n413305                      NaN    en 2012-02-14 03:59:42+00:00   \n413306                      NaN    en 2012-02-14 01:06:22+00:00   \n413307                      NaN    en 2012-02-13 23:44:56+00:00   \n413308                      NaN    en 2012-02-13 02:01:51+00:00   \n\n       in_reply_to_status_id_str  place  \\\n0                   2.397601e+18    NaN   \n1                            NaN    NaN   \n2                            NaN    NaN   \n3                            NaN    NaN   \n4                            NaN    NaN   \n...                          ...    ...   \n413304                       NaN    NaN   \n413305                       NaN    NaN   \n413306                       NaN    NaN   \n413307                       NaN    NaN   \n413308                       NaN    NaN   \n\n                                         retweeted_status possibly_sensitive  \n0                                                     NaN                NaN  \n1       {'truncated': False, 'text': 'Of note: We just...                NaN  \n2       {'truncated': False, 'text': 'Good Morning htt...                0.0  \n3       {'truncated': False, 'text': 'Great chart:  ht...                0.0  \n4                                                     NaN                NaN  \n...                                                   ...                ...  \n413304  {'truncated': False, 'text': 'Cute kiddie vale...                NaN  \n413305                                                NaN                0.0  \n413306                                                NaN                NaN  \n413307                                                NaN                NaN  \n413308                                                NaN                NaN  \n\n[1305351 rows x 21 columns]",
      "text/html": "<div>\n<style scoped>\n    .dataframe tbody tr th:only-of-type {\n        vertical-align: middle;\n    }\n\n    .dataframe tbody tr th {\n        vertical-align: top;\n    }\n\n    .dataframe thead th {\n        text-align: right;\n    }\n</style>\n<table border=\"1\" class=\"dataframe\">\n  <thead>\n    <tr style=\"text-align: right;\">\n      <th></th>\n      <th>truncated</th>\n      <th>text</th>\n      <th>in_reply_to_status_id</th>\n      <th>id</th>\n      <th>favorite_count</th>\n      <th>retweeted</th>\n      <th>entities</th>\n      <th>in_reply_to_screen_name</th>\n      <th>id_str</th>\n      <th>retweet_count</th>\n      <th>...</th>\n      <th>screen_name_statistics</th>\n      <th>user</th>\n      <th>geo</th>\n      <th>in_reply_to_user_id_str</th>\n      <th>lang</th>\n      <th>created_at</th>\n      <th>in_reply_to_status_id_str</th>\n      <th>place</th>\n      <th>retweeted_status</th>\n      <th>possibly_sensitive</th>\n    </tr>\n  </thead>\n  <tbody>\n    <tr>\n      <th>0</th>\n      <td>False</td>\n      <td>@qvdj3Rhgbf \"a short history of nearly everyth...</td>\n      <td>2.397601e+18</td>\n      <td>4031465155652966265</td>\n      <td>0</td>\n      <td>False</td>\n      <td>{'symbols': [], 'user_mentions': [{'indices': ...</td>\n      <td>qvdj3Rhgbf</td>\n      <td>4031465155652966400</td>\n      <td>0</td>\n      <td>...</td>\n      <td>{'has_underscore': True, 'contains_swear': Fal...</td>\n      <td>{'verified': False, 'geo_enabled': False, 'fol...</td>\n      <td>NaN</td>\n      <td>2.541051e+18</td>\n      <td>en</td>\n      <td>2013-11-20 09:41:24+00:00</td>\n      <td>2.397601e+18</td>\n      <td>NaN</td>\n      <td>NaN</td>\n      <td>NaN</td>\n    </tr>\n    <tr>\n      <th>1</th>\n      <td>False</td>\n      <td>RT @ikM6QmyEeByqCc: Of note: We just had massi...</td>\n      <td>NaN</td>\n      <td>8812414595236264794</td>\n      <td>0</td>\n      <td>False</td>\n      <td>{'symbols': [], 'user_mentions': [{'indices': ...</td>\n      <td>None</td>\n      <td>8812414595236264960</td>\n      <td>2</td>\n      <td>...</td>\n      <td>{'has_underscore': True, 'contains_swear': Fal...</td>\n      <td>{'verified': False, 'geo_enabled': False, 'fol...</td>\n      <td>NaN</td>\n      <td>NaN</td>\n      <td>en</td>\n      <td>2013-11-20 09:40:36+00:00</td>\n      <td>NaN</td>\n      <td>NaN</td>\n      <td>{'truncated': False, 'text': 'Of note: We just...</td>\n      <td>NaN</td>\n    </tr>\n    <tr>\n      <th>2</th>\n      <td>False</td>\n      <td>RT @m1BrR: Good Morning http://t.co/GXr9z8r3kt</td>\n      <td>NaN</td>\n      <td>1393785356559441994</td>\n      <td>0</td>\n      <td>False</td>\n      <td>{'symbols': [], 'user_mentions': [{'indices': ...</td>\n      <td>None</td>\n      <td>1393785356559441920</td>\n      <td>2</td>\n      <td>...</td>\n      <td>{'has_underscore': True, 'contains_swear': Fal...</td>\n      <td>{'verified': False, 'geo_enabled': False, 'fol...</td>\n      <td>NaN</td>\n      <td>NaN</td>\n      <td>en</td>\n      <td>2013-11-20 07:15:38+00:00</td>\n      <td>NaN</td>\n      <td>NaN</td>\n      <td>{'truncated': False, 'text': 'Good Morning htt...</td>\n      <td>0.0</td>\n    </tr>\n    <tr>\n      <th>3</th>\n      <td>False</td>\n      <td>RT @v4WGIC0_ssKdM6: Great chart:  http://t.co/...</td>\n      <td>NaN</td>\n      <td>1147937680786919255</td>\n      <td>0</td>\n      <td>False</td>\n      <td>{'symbols': [], 'user_mentions': [{'indices': ...</td>\n      <td>None</td>\n      <td>1147937680786919296</td>\n      <td>4</td>\n      <td>...</td>\n      <td>{'has_underscore': True, 'contains_swear': Fal...</td>\n      <td>{'verified': False, 'geo_enabled': False, 'fol...</td>\n      <td>NaN</td>\n      <td>NaN</td>\n      <td>en</td>\n      <td>2013-11-20 03:16:18+00:00</td>\n      <td>NaN</td>\n      <td>NaN</td>\n      <td>{'truncated': False, 'text': 'Great chart:  ht...</td>\n      <td>0.0</td>\n    </tr>\n    <tr>\n      <th>4</th>\n      <td>False</td>\n      <td>Of the $422bn of loans made in the year to dat...</td>\n      <td>NaN</td>\n      <td>5916960197646843241</td>\n      <td>0</td>\n      <td>False</td>\n      <td>{'symbols': [], 'user_mentions': [], 'hashtags...</td>\n      <td>None</td>\n      <td>5916960197646842880</td>\n      <td>0</td>\n      <td>...</td>\n      <td>{'has_underscore': True, 'contains_swear': Fal...</td>\n      <td>{'verified': False, 'geo_enabled': False, 'fol...</td>\n      <td>NaN</td>\n      <td>NaN</td>\n      <td>en</td>\n      <td>2013-11-20 02:33:43+00:00</td>\n      <td>NaN</td>\n      <td>NaN</td>\n      <td>NaN</td>\n      <td>NaN</td>\n    </tr>\n    <tr>\n      <th>...</th>\n      <td>...</td>\n      <td>...</td>\n      <td>...</td>\n      <td>...</td>\n      <td>...</td>\n      <td>...</td>\n      <td>...</td>\n      <td>...</td>\n      <td>...</td>\n      <td>...</td>\n      <td>...</td>\n      <td>...</td>\n      <td>...</td>\n      <td>...</td>\n      <td>...</td>\n      <td>...</td>\n      <td>...</td>\n      <td>...</td>\n      <td>...</td>\n      <td>...</td>\n      <td>...</td>\n    </tr>\n    <tr>\n      <th>413304</th>\n      <td>False</td>\n      <td>RT @vH60BLh_ddB: Cute kiddie valentines make e...</td>\n      <td>NaN</td>\n      <td>5417829564191116075</td>\n      <td>0</td>\n      <td>False</td>\n      <td>{'symbols': [], 'user_mentions': [{'indices': ...</td>\n      <td>None</td>\n      <td>5417829564191116288</td>\n      <td>1</td>\n      <td>...</td>\n      <td>{'has_underscore': True, 'contains_swear': Fal...</td>\n      <td>{'verified': False, 'geo_enabled': False, 'fol...</td>\n      <td>NaN</td>\n      <td>NaN</td>\n      <td>en</td>\n      <td>2012-02-15 01:25:36+00:00</td>\n      <td>NaN</td>\n      <td>NaN</td>\n      <td>{'truncated': False, 'text': 'Cute kiddie vale...</td>\n      <td>NaN</td>\n    </tr>\n    <tr>\n      <th>413305</th>\n      <td>False</td>\n      <td>Icarus Project guide on kickstarter: \"Mindful ...</td>\n      <td>NaN</td>\n      <td>5699466370400660565</td>\n      <td>0</td>\n      <td>False</td>\n      <td>{'symbols': [], 'user_mentions': [], 'hashtags...</td>\n      <td>None</td>\n      <td>5699466370400660480</td>\n      <td>0</td>\n      <td>...</td>\n      <td>{'has_underscore': True, 'contains_swear': Fal...</td>\n      <td>{'verified': False, 'geo_enabled': False, 'fol...</td>\n      <td>NaN</td>\n      <td>NaN</td>\n      <td>en</td>\n      <td>2012-02-14 03:59:42+00:00</td>\n      <td>NaN</td>\n      <td>NaN</td>\n      <td>NaN</td>\n      <td>0.0</td>\n    </tr>\n    <tr>\n      <th>413306</th>\n      <td>False</td>\n      <td>Finished \"Garp\" by John Irving. I've read enou...</td>\n      <td>NaN</td>\n      <td>1981114375914615942</td>\n      <td>0</td>\n      <td>False</td>\n      <td>{'symbols': [], 'user_mentions': [], 'hashtags...</td>\n      <td>None</td>\n      <td>1981114375914616064</td>\n      <td>0</td>\n      <td>...</td>\n      <td>{'has_underscore': True, 'contains_swear': Fal...</td>\n      <td>{'verified': False, 'geo_enabled': False, 'fol...</td>\n      <td>NaN</td>\n      <td>NaN</td>\n      <td>en</td>\n      <td>2012-02-14 01:06:22+00:00</td>\n      <td>NaN</td>\n      <td>NaN</td>\n      <td>NaN</td>\n      <td>NaN</td>\n    </tr>\n    <tr>\n      <th>413307</th>\n      <td>False</td>\n      <td>Twitter: the perfect platform to help me hone ...</td>\n      <td>NaN</td>\n      <td>1377874712523277375</td>\n      <td>0</td>\n      <td>False</td>\n      <td>{'symbols': [], 'user_mentions': [], 'hashtags...</td>\n      <td>None</td>\n      <td>1377874712523277312</td>\n      <td>0</td>\n      <td>...</td>\n      <td>{'has_underscore': True, 'contains_swear': Fal...</td>\n      <td>{'verified': False, 'geo_enabled': False, 'fol...</td>\n      <td>NaN</td>\n      <td>NaN</td>\n      <td>en</td>\n      <td>2012-02-13 23:44:56+00:00</td>\n      <td>NaN</td>\n      <td>NaN</td>\n      <td>NaN</td>\n      <td>NaN</td>\n    </tr>\n    <tr>\n      <th>413308</th>\n      <td>False</td>\n      <td>At least if the room is empty, I don't get sta...</td>\n      <td>NaN</td>\n      <td>5780627303924552979</td>\n      <td>0</td>\n      <td>False</td>\n      <td>{'symbols': [], 'user_mentions': [], 'hashtags...</td>\n      <td>None</td>\n      <td>5780627303924552704</td>\n      <td>0</td>\n      <td>...</td>\n      <td>{'has_underscore': True, 'contains_swear': Fal...</td>\n      <td>{'verified': False, 'geo_enabled': False, 'fol...</td>\n      <td>NaN</td>\n      <td>NaN</td>\n      <td>en</td>\n      <td>2012-02-13 02:01:51+00:00</td>\n      <td>NaN</td>\n      <td>NaN</td>\n      <td>NaN</td>\n      <td>NaN</td>\n    </tr>\n  </tbody>\n</table>\n<p>1305351 rows × 21 columns</p>\n</div>"
     },
     "execution_count": 15,
     "metadata": {},
     "output_type": "execute_result"
    }
   ],
   "source": [
    "test_set"
   ],
   "metadata": {
    "collapsed": false,
    "pycharm": {
     "name": "#%%\n"
    }
   }
  },
  {
   "cell_type": "code",
   "execution_count": 22,
   "outputs": [],
   "source": [
    "training_set = training_set.reset_index()"
   ],
   "metadata": {
    "collapsed": false,
    "pycharm": {
     "name": "#%%\n"
    }
   }
  },
  {
   "cell_type": "code",
   "execution_count": 26,
   "outputs": [
    {
     "ename": "UnicodeEncodeError",
     "evalue": "'utf-8' codec can't encode character '\\ude2b' in position 71: surrogates not allowed",
     "output_type": "error",
     "traceback": [
      "\u001B[0;31m---------------------------------------------------------------------------\u001B[0m",
      "\u001B[0;31mUnicodeEncodeError\u001B[0m                        Traceback (most recent call last)",
      "Input \u001B[0;32mIn [26]\u001B[0m, in \u001B[0;36m<cell line: 1>\u001B[0;34m()\u001B[0m\n\u001B[0;32m----> 1\u001B[0m \u001B[43mtraining_set\u001B[49m\u001B[38;5;241;43m.\u001B[39;49m\u001B[43mto_csv\u001B[49m\u001B[43m(\u001B[49m\u001B[38;5;124;43m'\u001B[39;49m\u001B[38;5;124;43m/Users/brookegrantham/Documents/DSP/twitter_training_set\u001B[39;49m\u001B[38;5;124;43m'\u001B[39;49m\u001B[43m)\u001B[49m\n",
      "File \u001B[0;32m~/Documents/Data Science MSc 2021-2022/PyInt/lib/python3.9/site-packages/pandas/core/generic.py:3551\u001B[0m, in \u001B[0;36mNDFrame.to_csv\u001B[0;34m(self, path_or_buf, sep, na_rep, float_format, columns, header, index, index_label, mode, encoding, compression, quoting, quotechar, line_terminator, chunksize, date_format, doublequote, escapechar, decimal, errors, storage_options)\u001B[0m\n\u001B[1;32m   3540\u001B[0m df \u001B[38;5;241m=\u001B[39m \u001B[38;5;28mself\u001B[39m \u001B[38;5;28;01mif\u001B[39;00m \u001B[38;5;28misinstance\u001B[39m(\u001B[38;5;28mself\u001B[39m, ABCDataFrame) \u001B[38;5;28;01melse\u001B[39;00m \u001B[38;5;28mself\u001B[39m\u001B[38;5;241m.\u001B[39mto_frame()\n\u001B[1;32m   3542\u001B[0m formatter \u001B[38;5;241m=\u001B[39m DataFrameFormatter(\n\u001B[1;32m   3543\u001B[0m     frame\u001B[38;5;241m=\u001B[39mdf,\n\u001B[1;32m   3544\u001B[0m     header\u001B[38;5;241m=\u001B[39mheader,\n\u001B[0;32m   (...)\u001B[0m\n\u001B[1;32m   3548\u001B[0m     decimal\u001B[38;5;241m=\u001B[39mdecimal,\n\u001B[1;32m   3549\u001B[0m )\n\u001B[0;32m-> 3551\u001B[0m \u001B[38;5;28;01mreturn\u001B[39;00m \u001B[43mDataFrameRenderer\u001B[49m\u001B[43m(\u001B[49m\u001B[43mformatter\u001B[49m\u001B[43m)\u001B[49m\u001B[38;5;241;43m.\u001B[39;49m\u001B[43mto_csv\u001B[49m\u001B[43m(\u001B[49m\n\u001B[1;32m   3552\u001B[0m \u001B[43m    \u001B[49m\u001B[43mpath_or_buf\u001B[49m\u001B[43m,\u001B[49m\n\u001B[1;32m   3553\u001B[0m \u001B[43m    \u001B[49m\u001B[43mline_terminator\u001B[49m\u001B[38;5;241;43m=\u001B[39;49m\u001B[43mline_terminator\u001B[49m\u001B[43m,\u001B[49m\n\u001B[1;32m   3554\u001B[0m \u001B[43m    \u001B[49m\u001B[43msep\u001B[49m\u001B[38;5;241;43m=\u001B[39;49m\u001B[43msep\u001B[49m\u001B[43m,\u001B[49m\n\u001B[1;32m   3555\u001B[0m \u001B[43m    \u001B[49m\u001B[43mencoding\u001B[49m\u001B[38;5;241;43m=\u001B[39;49m\u001B[43mencoding\u001B[49m\u001B[43m,\u001B[49m\n\u001B[1;32m   3556\u001B[0m \u001B[43m    \u001B[49m\u001B[43merrors\u001B[49m\u001B[38;5;241;43m=\u001B[39;49m\u001B[43merrors\u001B[49m\u001B[43m,\u001B[49m\n\u001B[1;32m   3557\u001B[0m \u001B[43m    \u001B[49m\u001B[43mcompression\u001B[49m\u001B[38;5;241;43m=\u001B[39;49m\u001B[43mcompression\u001B[49m\u001B[43m,\u001B[49m\n\u001B[1;32m   3558\u001B[0m \u001B[43m    \u001B[49m\u001B[43mquoting\u001B[49m\u001B[38;5;241;43m=\u001B[39;49m\u001B[43mquoting\u001B[49m\u001B[43m,\u001B[49m\n\u001B[1;32m   3559\u001B[0m \u001B[43m    \u001B[49m\u001B[43mcolumns\u001B[49m\u001B[38;5;241;43m=\u001B[39;49m\u001B[43mcolumns\u001B[49m\u001B[43m,\u001B[49m\n\u001B[1;32m   3560\u001B[0m \u001B[43m    \u001B[49m\u001B[43mindex_label\u001B[49m\u001B[38;5;241;43m=\u001B[39;49m\u001B[43mindex_label\u001B[49m\u001B[43m,\u001B[49m\n\u001B[1;32m   3561\u001B[0m \u001B[43m    \u001B[49m\u001B[43mmode\u001B[49m\u001B[38;5;241;43m=\u001B[39;49m\u001B[43mmode\u001B[49m\u001B[43m,\u001B[49m\n\u001B[1;32m   3562\u001B[0m \u001B[43m    \u001B[49m\u001B[43mchunksize\u001B[49m\u001B[38;5;241;43m=\u001B[39;49m\u001B[43mchunksize\u001B[49m\u001B[43m,\u001B[49m\n\u001B[1;32m   3563\u001B[0m \u001B[43m    \u001B[49m\u001B[43mquotechar\u001B[49m\u001B[38;5;241;43m=\u001B[39;49m\u001B[43mquotechar\u001B[49m\u001B[43m,\u001B[49m\n\u001B[1;32m   3564\u001B[0m \u001B[43m    \u001B[49m\u001B[43mdate_format\u001B[49m\u001B[38;5;241;43m=\u001B[39;49m\u001B[43mdate_format\u001B[49m\u001B[43m,\u001B[49m\n\u001B[1;32m   3565\u001B[0m \u001B[43m    \u001B[49m\u001B[43mdoublequote\u001B[49m\u001B[38;5;241;43m=\u001B[39;49m\u001B[43mdoublequote\u001B[49m\u001B[43m,\u001B[49m\n\u001B[1;32m   3566\u001B[0m \u001B[43m    \u001B[49m\u001B[43mescapechar\u001B[49m\u001B[38;5;241;43m=\u001B[39;49m\u001B[43mescapechar\u001B[49m\u001B[43m,\u001B[49m\n\u001B[1;32m   3567\u001B[0m \u001B[43m    \u001B[49m\u001B[43mstorage_options\u001B[49m\u001B[38;5;241;43m=\u001B[39;49m\u001B[43mstorage_options\u001B[49m\u001B[43m,\u001B[49m\n\u001B[1;32m   3568\u001B[0m \u001B[43m\u001B[49m\u001B[43m)\u001B[49m\n",
      "File \u001B[0;32m~/Documents/Data Science MSc 2021-2022/PyInt/lib/python3.9/site-packages/pandas/io/formats/format.py:1180\u001B[0m, in \u001B[0;36mDataFrameRenderer.to_csv\u001B[0;34m(self, path_or_buf, encoding, sep, columns, index_label, mode, compression, quoting, quotechar, line_terminator, chunksize, date_format, doublequote, escapechar, errors, storage_options)\u001B[0m\n\u001B[1;32m   1159\u001B[0m     created_buffer \u001B[38;5;241m=\u001B[39m \u001B[38;5;28;01mFalse\u001B[39;00m\n\u001B[1;32m   1161\u001B[0m csv_formatter \u001B[38;5;241m=\u001B[39m CSVFormatter(\n\u001B[1;32m   1162\u001B[0m     path_or_buf\u001B[38;5;241m=\u001B[39mpath_or_buf,\n\u001B[1;32m   1163\u001B[0m     line_terminator\u001B[38;5;241m=\u001B[39mline_terminator,\n\u001B[0;32m   (...)\u001B[0m\n\u001B[1;32m   1178\u001B[0m     formatter\u001B[38;5;241m=\u001B[39m\u001B[38;5;28mself\u001B[39m\u001B[38;5;241m.\u001B[39mfmt,\n\u001B[1;32m   1179\u001B[0m )\n\u001B[0;32m-> 1180\u001B[0m \u001B[43mcsv_formatter\u001B[49m\u001B[38;5;241;43m.\u001B[39;49m\u001B[43msave\u001B[49m\u001B[43m(\u001B[49m\u001B[43m)\u001B[49m\n\u001B[1;32m   1182\u001B[0m \u001B[38;5;28;01mif\u001B[39;00m created_buffer:\n\u001B[1;32m   1183\u001B[0m     \u001B[38;5;28;01massert\u001B[39;00m \u001B[38;5;28misinstance\u001B[39m(path_or_buf, StringIO)\n",
      "File \u001B[0;32m~/Documents/Data Science MSc 2021-2022/PyInt/lib/python3.9/site-packages/pandas/io/formats/csvs.py:261\u001B[0m, in \u001B[0;36mCSVFormatter.save\u001B[0;34m(self)\u001B[0m\n\u001B[1;32m    241\u001B[0m \u001B[38;5;28;01mwith\u001B[39;00m get_handle(\n\u001B[1;32m    242\u001B[0m     \u001B[38;5;28mself\u001B[39m\u001B[38;5;241m.\u001B[39mfilepath_or_buffer,\n\u001B[1;32m    243\u001B[0m     \u001B[38;5;28mself\u001B[39m\u001B[38;5;241m.\u001B[39mmode,\n\u001B[0;32m   (...)\u001B[0m\n\u001B[1;32m    249\u001B[0m \n\u001B[1;32m    250\u001B[0m     \u001B[38;5;66;03m# Note: self.encoding is irrelevant here\u001B[39;00m\n\u001B[1;32m    251\u001B[0m     \u001B[38;5;28mself\u001B[39m\u001B[38;5;241m.\u001B[39mwriter \u001B[38;5;241m=\u001B[39m csvlib\u001B[38;5;241m.\u001B[39mwriter(\n\u001B[1;32m    252\u001B[0m         handles\u001B[38;5;241m.\u001B[39mhandle,\n\u001B[1;32m    253\u001B[0m         lineterminator\u001B[38;5;241m=\u001B[39m\u001B[38;5;28mself\u001B[39m\u001B[38;5;241m.\u001B[39mline_terminator,\n\u001B[0;32m   (...)\u001B[0m\n\u001B[1;32m    258\u001B[0m         quotechar\u001B[38;5;241m=\u001B[39m\u001B[38;5;28mself\u001B[39m\u001B[38;5;241m.\u001B[39mquotechar,\n\u001B[1;32m    259\u001B[0m     )\n\u001B[0;32m--> 261\u001B[0m     \u001B[38;5;28;43mself\u001B[39;49m\u001B[38;5;241;43m.\u001B[39;49m\u001B[43m_save\u001B[49m\u001B[43m(\u001B[49m\u001B[43m)\u001B[49m\n",
      "File \u001B[0;32m~/Documents/Data Science MSc 2021-2022/PyInt/lib/python3.9/site-packages/pandas/io/formats/csvs.py:266\u001B[0m, in \u001B[0;36mCSVFormatter._save\u001B[0;34m(self)\u001B[0m\n\u001B[1;32m    264\u001B[0m \u001B[38;5;28;01mif\u001B[39;00m \u001B[38;5;28mself\u001B[39m\u001B[38;5;241m.\u001B[39m_need_to_save_header:\n\u001B[1;32m    265\u001B[0m     \u001B[38;5;28mself\u001B[39m\u001B[38;5;241m.\u001B[39m_save_header()\n\u001B[0;32m--> 266\u001B[0m \u001B[38;5;28;43mself\u001B[39;49m\u001B[38;5;241;43m.\u001B[39;49m\u001B[43m_save_body\u001B[49m\u001B[43m(\u001B[49m\u001B[43m)\u001B[49m\n",
      "File \u001B[0;32m~/Documents/Data Science MSc 2021-2022/PyInt/lib/python3.9/site-packages/pandas/io/formats/csvs.py:304\u001B[0m, in \u001B[0;36mCSVFormatter._save_body\u001B[0;34m(self)\u001B[0m\n\u001B[1;32m    302\u001B[0m \u001B[38;5;28;01mif\u001B[39;00m start_i \u001B[38;5;241m>\u001B[39m\u001B[38;5;241m=\u001B[39m end_i:\n\u001B[1;32m    303\u001B[0m     \u001B[38;5;28;01mbreak\u001B[39;00m\n\u001B[0;32m--> 304\u001B[0m \u001B[38;5;28;43mself\u001B[39;49m\u001B[38;5;241;43m.\u001B[39;49m\u001B[43m_save_chunk\u001B[49m\u001B[43m(\u001B[49m\u001B[43mstart_i\u001B[49m\u001B[43m,\u001B[49m\u001B[43m \u001B[49m\u001B[43mend_i\u001B[49m\u001B[43m)\u001B[49m\n",
      "File \u001B[0;32m~/Documents/Data Science MSc 2021-2022/PyInt/lib/python3.9/site-packages/pandas/io/formats/csvs.py:315\u001B[0m, in \u001B[0;36mCSVFormatter._save_chunk\u001B[0;34m(self, start_i, end_i)\u001B[0m\n\u001B[1;32m    312\u001B[0m data \u001B[38;5;241m=\u001B[39m [res\u001B[38;5;241m.\u001B[39miget_values(i) \u001B[38;5;28;01mfor\u001B[39;00m i \u001B[38;5;129;01min\u001B[39;00m \u001B[38;5;28mrange\u001B[39m(\u001B[38;5;28mlen\u001B[39m(res\u001B[38;5;241m.\u001B[39mitems))]\n\u001B[1;32m    314\u001B[0m ix \u001B[38;5;241m=\u001B[39m \u001B[38;5;28mself\u001B[39m\u001B[38;5;241m.\u001B[39mdata_index[slicer]\u001B[38;5;241m.\u001B[39m_format_native_types(\u001B[38;5;241m*\u001B[39m\u001B[38;5;241m*\u001B[39m\u001B[38;5;28mself\u001B[39m\u001B[38;5;241m.\u001B[39m_number_format)\n\u001B[0;32m--> 315\u001B[0m \u001B[43mlibwriters\u001B[49m\u001B[38;5;241;43m.\u001B[39;49m\u001B[43mwrite_csv_rows\u001B[49m\u001B[43m(\u001B[49m\n\u001B[1;32m    316\u001B[0m \u001B[43m    \u001B[49m\u001B[43mdata\u001B[49m\u001B[43m,\u001B[49m\n\u001B[1;32m    317\u001B[0m \u001B[43m    \u001B[49m\u001B[43mix\u001B[49m\u001B[43m,\u001B[49m\n\u001B[1;32m    318\u001B[0m \u001B[43m    \u001B[49m\u001B[38;5;28;43mself\u001B[39;49m\u001B[38;5;241;43m.\u001B[39;49m\u001B[43mnlevels\u001B[49m\u001B[43m,\u001B[49m\n\u001B[1;32m    319\u001B[0m \u001B[43m    \u001B[49m\u001B[38;5;28;43mself\u001B[39;49m\u001B[38;5;241;43m.\u001B[39;49m\u001B[43mcols\u001B[49m\u001B[43m,\u001B[49m\n\u001B[1;32m    320\u001B[0m \u001B[43m    \u001B[49m\u001B[38;5;28;43mself\u001B[39;49m\u001B[38;5;241;43m.\u001B[39;49m\u001B[43mwriter\u001B[49m\u001B[43m,\u001B[49m\n\u001B[1;32m    321\u001B[0m \u001B[43m\u001B[49m\u001B[43m)\u001B[49m\n",
      "File \u001B[0;32mpandas/_libs/writers.pyx:55\u001B[0m, in \u001B[0;36mpandas._libs.writers.write_csv_rows\u001B[0;34m()\u001B[0m\n",
      "\u001B[0;31mUnicodeEncodeError\u001B[0m: 'utf-8' codec can't encode character '\\ude2b' in position 71: surrogates not allowed"
     ]
    }
   ],
   "source": [
    "training_set.to_json('/Users/brookegrantham/Documents/DSP/twitter_training_set')"
   ],
   "metadata": {
    "collapsed": false,
    "pycharm": {
     "name": "#%%\n"
    }
   }
  },
  {
   "cell_type": "code",
   "execution_count": 17,
   "outputs": [],
   "source": [
    "validation_set.to_json('/Users/brookegrantham/Documents/DSP/twitter_validation_set')"
   ],
   "metadata": {
    "collapsed": false,
    "pycharm": {
     "name": "#%%\n"
    }
   }
  },
  {
   "cell_type": "code",
   "execution_count": 27,
   "outputs": [],
   "source": [
    "test_set = test_set.reset_index()"
   ],
   "metadata": {
    "collapsed": false,
    "pycharm": {
     "name": "#%%\n"
    }
   }
  },
  {
   "cell_type": "code",
   "execution_count": 28,
   "outputs": [
    {
     "ename": "UnicodeEncodeError",
     "evalue": "'utf-8' codec can't encode character '\\udf81' in position 155: surrogates not allowed",
     "output_type": "error",
     "traceback": [
      "\u001B[0;31m---------------------------------------------------------------------------\u001B[0m",
      "\u001B[0;31mUnicodeEncodeError\u001B[0m                        Traceback (most recent call last)",
      "Input \u001B[0;32mIn [28]\u001B[0m, in \u001B[0;36m<cell line: 1>\u001B[0;34m()\u001B[0m\n\u001B[0;32m----> 1\u001B[0m \u001B[43mtest_set\u001B[49m\u001B[38;5;241;43m.\u001B[39;49m\u001B[43mto_csv\u001B[49m\u001B[43m(\u001B[49m\u001B[38;5;124;43m'\u001B[39;49m\u001B[38;5;124;43m/Users/brookegrantham/Documents/DSP/twitter_test_set\u001B[39;49m\u001B[38;5;124;43m'\u001B[39;49m\u001B[43m)\u001B[49m\n",
      "File \u001B[0;32m~/Documents/Data Science MSc 2021-2022/PyInt/lib/python3.9/site-packages/pandas/core/generic.py:3551\u001B[0m, in \u001B[0;36mNDFrame.to_csv\u001B[0;34m(self, path_or_buf, sep, na_rep, float_format, columns, header, index, index_label, mode, encoding, compression, quoting, quotechar, line_terminator, chunksize, date_format, doublequote, escapechar, decimal, errors, storage_options)\u001B[0m\n\u001B[1;32m   3540\u001B[0m df \u001B[38;5;241m=\u001B[39m \u001B[38;5;28mself\u001B[39m \u001B[38;5;28;01mif\u001B[39;00m \u001B[38;5;28misinstance\u001B[39m(\u001B[38;5;28mself\u001B[39m, ABCDataFrame) \u001B[38;5;28;01melse\u001B[39;00m \u001B[38;5;28mself\u001B[39m\u001B[38;5;241m.\u001B[39mto_frame()\n\u001B[1;32m   3542\u001B[0m formatter \u001B[38;5;241m=\u001B[39m DataFrameFormatter(\n\u001B[1;32m   3543\u001B[0m     frame\u001B[38;5;241m=\u001B[39mdf,\n\u001B[1;32m   3544\u001B[0m     header\u001B[38;5;241m=\u001B[39mheader,\n\u001B[0;32m   (...)\u001B[0m\n\u001B[1;32m   3548\u001B[0m     decimal\u001B[38;5;241m=\u001B[39mdecimal,\n\u001B[1;32m   3549\u001B[0m )\n\u001B[0;32m-> 3551\u001B[0m \u001B[38;5;28;01mreturn\u001B[39;00m \u001B[43mDataFrameRenderer\u001B[49m\u001B[43m(\u001B[49m\u001B[43mformatter\u001B[49m\u001B[43m)\u001B[49m\u001B[38;5;241;43m.\u001B[39;49m\u001B[43mto_csv\u001B[49m\u001B[43m(\u001B[49m\n\u001B[1;32m   3552\u001B[0m \u001B[43m    \u001B[49m\u001B[43mpath_or_buf\u001B[49m\u001B[43m,\u001B[49m\n\u001B[1;32m   3553\u001B[0m \u001B[43m    \u001B[49m\u001B[43mline_terminator\u001B[49m\u001B[38;5;241;43m=\u001B[39;49m\u001B[43mline_terminator\u001B[49m\u001B[43m,\u001B[49m\n\u001B[1;32m   3554\u001B[0m \u001B[43m    \u001B[49m\u001B[43msep\u001B[49m\u001B[38;5;241;43m=\u001B[39;49m\u001B[43msep\u001B[49m\u001B[43m,\u001B[49m\n\u001B[1;32m   3555\u001B[0m \u001B[43m    \u001B[49m\u001B[43mencoding\u001B[49m\u001B[38;5;241;43m=\u001B[39;49m\u001B[43mencoding\u001B[49m\u001B[43m,\u001B[49m\n\u001B[1;32m   3556\u001B[0m \u001B[43m    \u001B[49m\u001B[43merrors\u001B[49m\u001B[38;5;241;43m=\u001B[39;49m\u001B[43merrors\u001B[49m\u001B[43m,\u001B[49m\n\u001B[1;32m   3557\u001B[0m \u001B[43m    \u001B[49m\u001B[43mcompression\u001B[49m\u001B[38;5;241;43m=\u001B[39;49m\u001B[43mcompression\u001B[49m\u001B[43m,\u001B[49m\n\u001B[1;32m   3558\u001B[0m \u001B[43m    \u001B[49m\u001B[43mquoting\u001B[49m\u001B[38;5;241;43m=\u001B[39;49m\u001B[43mquoting\u001B[49m\u001B[43m,\u001B[49m\n\u001B[1;32m   3559\u001B[0m \u001B[43m    \u001B[49m\u001B[43mcolumns\u001B[49m\u001B[38;5;241;43m=\u001B[39;49m\u001B[43mcolumns\u001B[49m\u001B[43m,\u001B[49m\n\u001B[1;32m   3560\u001B[0m \u001B[43m    \u001B[49m\u001B[43mindex_label\u001B[49m\u001B[38;5;241;43m=\u001B[39;49m\u001B[43mindex_label\u001B[49m\u001B[43m,\u001B[49m\n\u001B[1;32m   3561\u001B[0m \u001B[43m    \u001B[49m\u001B[43mmode\u001B[49m\u001B[38;5;241;43m=\u001B[39;49m\u001B[43mmode\u001B[49m\u001B[43m,\u001B[49m\n\u001B[1;32m   3562\u001B[0m \u001B[43m    \u001B[49m\u001B[43mchunksize\u001B[49m\u001B[38;5;241;43m=\u001B[39;49m\u001B[43mchunksize\u001B[49m\u001B[43m,\u001B[49m\n\u001B[1;32m   3563\u001B[0m \u001B[43m    \u001B[49m\u001B[43mquotechar\u001B[49m\u001B[38;5;241;43m=\u001B[39;49m\u001B[43mquotechar\u001B[49m\u001B[43m,\u001B[49m\n\u001B[1;32m   3564\u001B[0m \u001B[43m    \u001B[49m\u001B[43mdate_format\u001B[49m\u001B[38;5;241;43m=\u001B[39;49m\u001B[43mdate_format\u001B[49m\u001B[43m,\u001B[49m\n\u001B[1;32m   3565\u001B[0m \u001B[43m    \u001B[49m\u001B[43mdoublequote\u001B[49m\u001B[38;5;241;43m=\u001B[39;49m\u001B[43mdoublequote\u001B[49m\u001B[43m,\u001B[49m\n\u001B[1;32m   3566\u001B[0m \u001B[43m    \u001B[49m\u001B[43mescapechar\u001B[49m\u001B[38;5;241;43m=\u001B[39;49m\u001B[43mescapechar\u001B[49m\u001B[43m,\u001B[49m\n\u001B[1;32m   3567\u001B[0m \u001B[43m    \u001B[49m\u001B[43mstorage_options\u001B[49m\u001B[38;5;241;43m=\u001B[39;49m\u001B[43mstorage_options\u001B[49m\u001B[43m,\u001B[49m\n\u001B[1;32m   3568\u001B[0m \u001B[43m\u001B[49m\u001B[43m)\u001B[49m\n",
      "File \u001B[0;32m~/Documents/Data Science MSc 2021-2022/PyInt/lib/python3.9/site-packages/pandas/io/formats/format.py:1180\u001B[0m, in \u001B[0;36mDataFrameRenderer.to_csv\u001B[0;34m(self, path_or_buf, encoding, sep, columns, index_label, mode, compression, quoting, quotechar, line_terminator, chunksize, date_format, doublequote, escapechar, errors, storage_options)\u001B[0m\n\u001B[1;32m   1159\u001B[0m     created_buffer \u001B[38;5;241m=\u001B[39m \u001B[38;5;28;01mFalse\u001B[39;00m\n\u001B[1;32m   1161\u001B[0m csv_formatter \u001B[38;5;241m=\u001B[39m CSVFormatter(\n\u001B[1;32m   1162\u001B[0m     path_or_buf\u001B[38;5;241m=\u001B[39mpath_or_buf,\n\u001B[1;32m   1163\u001B[0m     line_terminator\u001B[38;5;241m=\u001B[39mline_terminator,\n\u001B[0;32m   (...)\u001B[0m\n\u001B[1;32m   1178\u001B[0m     formatter\u001B[38;5;241m=\u001B[39m\u001B[38;5;28mself\u001B[39m\u001B[38;5;241m.\u001B[39mfmt,\n\u001B[1;32m   1179\u001B[0m )\n\u001B[0;32m-> 1180\u001B[0m \u001B[43mcsv_formatter\u001B[49m\u001B[38;5;241;43m.\u001B[39;49m\u001B[43msave\u001B[49m\u001B[43m(\u001B[49m\u001B[43m)\u001B[49m\n\u001B[1;32m   1182\u001B[0m \u001B[38;5;28;01mif\u001B[39;00m created_buffer:\n\u001B[1;32m   1183\u001B[0m     \u001B[38;5;28;01massert\u001B[39;00m \u001B[38;5;28misinstance\u001B[39m(path_or_buf, StringIO)\n",
      "File \u001B[0;32m~/Documents/Data Science MSc 2021-2022/PyInt/lib/python3.9/site-packages/pandas/io/formats/csvs.py:261\u001B[0m, in \u001B[0;36mCSVFormatter.save\u001B[0;34m(self)\u001B[0m\n\u001B[1;32m    241\u001B[0m \u001B[38;5;28;01mwith\u001B[39;00m get_handle(\n\u001B[1;32m    242\u001B[0m     \u001B[38;5;28mself\u001B[39m\u001B[38;5;241m.\u001B[39mfilepath_or_buffer,\n\u001B[1;32m    243\u001B[0m     \u001B[38;5;28mself\u001B[39m\u001B[38;5;241m.\u001B[39mmode,\n\u001B[0;32m   (...)\u001B[0m\n\u001B[1;32m    249\u001B[0m \n\u001B[1;32m    250\u001B[0m     \u001B[38;5;66;03m# Note: self.encoding is irrelevant here\u001B[39;00m\n\u001B[1;32m    251\u001B[0m     \u001B[38;5;28mself\u001B[39m\u001B[38;5;241m.\u001B[39mwriter \u001B[38;5;241m=\u001B[39m csvlib\u001B[38;5;241m.\u001B[39mwriter(\n\u001B[1;32m    252\u001B[0m         handles\u001B[38;5;241m.\u001B[39mhandle,\n\u001B[1;32m    253\u001B[0m         lineterminator\u001B[38;5;241m=\u001B[39m\u001B[38;5;28mself\u001B[39m\u001B[38;5;241m.\u001B[39mline_terminator,\n\u001B[0;32m   (...)\u001B[0m\n\u001B[1;32m    258\u001B[0m         quotechar\u001B[38;5;241m=\u001B[39m\u001B[38;5;28mself\u001B[39m\u001B[38;5;241m.\u001B[39mquotechar,\n\u001B[1;32m    259\u001B[0m     )\n\u001B[0;32m--> 261\u001B[0m     \u001B[38;5;28;43mself\u001B[39;49m\u001B[38;5;241;43m.\u001B[39;49m\u001B[43m_save\u001B[49m\u001B[43m(\u001B[49m\u001B[43m)\u001B[49m\n",
      "File \u001B[0;32m~/Documents/Data Science MSc 2021-2022/PyInt/lib/python3.9/site-packages/pandas/io/formats/csvs.py:266\u001B[0m, in \u001B[0;36mCSVFormatter._save\u001B[0;34m(self)\u001B[0m\n\u001B[1;32m    264\u001B[0m \u001B[38;5;28;01mif\u001B[39;00m \u001B[38;5;28mself\u001B[39m\u001B[38;5;241m.\u001B[39m_need_to_save_header:\n\u001B[1;32m    265\u001B[0m     \u001B[38;5;28mself\u001B[39m\u001B[38;5;241m.\u001B[39m_save_header()\n\u001B[0;32m--> 266\u001B[0m \u001B[38;5;28;43mself\u001B[39;49m\u001B[38;5;241;43m.\u001B[39;49m\u001B[43m_save_body\u001B[49m\u001B[43m(\u001B[49m\u001B[43m)\u001B[49m\n",
      "File \u001B[0;32m~/Documents/Data Science MSc 2021-2022/PyInt/lib/python3.9/site-packages/pandas/io/formats/csvs.py:304\u001B[0m, in \u001B[0;36mCSVFormatter._save_body\u001B[0;34m(self)\u001B[0m\n\u001B[1;32m    302\u001B[0m \u001B[38;5;28;01mif\u001B[39;00m start_i \u001B[38;5;241m>\u001B[39m\u001B[38;5;241m=\u001B[39m end_i:\n\u001B[1;32m    303\u001B[0m     \u001B[38;5;28;01mbreak\u001B[39;00m\n\u001B[0;32m--> 304\u001B[0m \u001B[38;5;28;43mself\u001B[39;49m\u001B[38;5;241;43m.\u001B[39;49m\u001B[43m_save_chunk\u001B[49m\u001B[43m(\u001B[49m\u001B[43mstart_i\u001B[49m\u001B[43m,\u001B[49m\u001B[43m \u001B[49m\u001B[43mend_i\u001B[49m\u001B[43m)\u001B[49m\n",
      "File \u001B[0;32m~/Documents/Data Science MSc 2021-2022/PyInt/lib/python3.9/site-packages/pandas/io/formats/csvs.py:315\u001B[0m, in \u001B[0;36mCSVFormatter._save_chunk\u001B[0;34m(self, start_i, end_i)\u001B[0m\n\u001B[1;32m    312\u001B[0m data \u001B[38;5;241m=\u001B[39m [res\u001B[38;5;241m.\u001B[39miget_values(i) \u001B[38;5;28;01mfor\u001B[39;00m i \u001B[38;5;129;01min\u001B[39;00m \u001B[38;5;28mrange\u001B[39m(\u001B[38;5;28mlen\u001B[39m(res\u001B[38;5;241m.\u001B[39mitems))]\n\u001B[1;32m    314\u001B[0m ix \u001B[38;5;241m=\u001B[39m \u001B[38;5;28mself\u001B[39m\u001B[38;5;241m.\u001B[39mdata_index[slicer]\u001B[38;5;241m.\u001B[39m_format_native_types(\u001B[38;5;241m*\u001B[39m\u001B[38;5;241m*\u001B[39m\u001B[38;5;28mself\u001B[39m\u001B[38;5;241m.\u001B[39m_number_format)\n\u001B[0;32m--> 315\u001B[0m \u001B[43mlibwriters\u001B[49m\u001B[38;5;241;43m.\u001B[39;49m\u001B[43mwrite_csv_rows\u001B[49m\u001B[43m(\u001B[49m\n\u001B[1;32m    316\u001B[0m \u001B[43m    \u001B[49m\u001B[43mdata\u001B[49m\u001B[43m,\u001B[49m\n\u001B[1;32m    317\u001B[0m \u001B[43m    \u001B[49m\u001B[43mix\u001B[49m\u001B[43m,\u001B[49m\n\u001B[1;32m    318\u001B[0m \u001B[43m    \u001B[49m\u001B[38;5;28;43mself\u001B[39;49m\u001B[38;5;241;43m.\u001B[39;49m\u001B[43mnlevels\u001B[49m\u001B[43m,\u001B[49m\n\u001B[1;32m    319\u001B[0m \u001B[43m    \u001B[49m\u001B[38;5;28;43mself\u001B[39;49m\u001B[38;5;241;43m.\u001B[39;49m\u001B[43mcols\u001B[49m\u001B[43m,\u001B[49m\n\u001B[1;32m    320\u001B[0m \u001B[43m    \u001B[49m\u001B[38;5;28;43mself\u001B[39;49m\u001B[38;5;241;43m.\u001B[39;49m\u001B[43mwriter\u001B[49m\u001B[43m,\u001B[49m\n\u001B[1;32m    321\u001B[0m \u001B[43m\u001B[49m\u001B[43m)\u001B[49m\n",
      "File \u001B[0;32mpandas/_libs/writers.pyx:55\u001B[0m, in \u001B[0;36mpandas._libs.writers.write_csv_rows\u001B[0;34m()\u001B[0m\n",
      "\u001B[0;31mUnicodeEncodeError\u001B[0m: 'utf-8' codec can't encode character '\\udf81' in position 155: surrogates not allowed"
     ]
    }
   ],
   "source": [
    "test_set.to_csv('/Users/brookegrantham/Documents/DSP/twitter_test_set')"
   ],
   "metadata": {
    "collapsed": false,
    "pycharm": {
     "name": "#%%\n"
    }
   }
  },
  {
   "cell_type": "code",
   "execution_count": 19,
   "outputs": [
    {
     "data": {
      "text/plain": "1822035"
     },
     "execution_count": 19,
     "metadata": {},
     "output_type": "execute_result"
    }
   ],
   "source": [
    "len(training_set)"
   ],
   "metadata": {
    "collapsed": false,
    "pycharm": {
     "name": "#%%\n"
    }
   }
  },
  {
   "cell_type": "code",
   "execution_count": 20,
   "outputs": [
    {
     "data": {
      "text/plain": "445663"
     },
     "execution_count": 20,
     "metadata": {},
     "output_type": "execute_result"
    }
   ],
   "source": [
    "len(validation_set)"
   ],
   "metadata": {
    "collapsed": false,
    "pycharm": {
     "name": "#%%\n"
    }
   }
  },
  {
   "cell_type": "code",
   "execution_count": 21,
   "outputs": [
    {
     "data": {
      "text/plain": "1305351"
     },
     "execution_count": 21,
     "metadata": {},
     "output_type": "execute_result"
    }
   ],
   "source": [
    "len(test_set)"
   ],
   "metadata": {
    "collapsed": false,
    "pycharm": {
     "name": "#%%\n"
    }
   }
  }
 ],
 "metadata": {
  "kernelspec": {
   "display_name": "Python 3",
   "language": "python",
   "name": "python3"
  },
  "language_info": {
   "codemirror_mode": {
    "name": "ipython",
    "version": 2
   },
   "file_extension": ".py",
   "mimetype": "text/x-python",
   "name": "python",
   "nbconvert_exporter": "python",
   "pygments_lexer": "ipython2",
   "version": "2.7.6"
  }
 },
 "nbformat": 4,
 "nbformat_minor": 0
}