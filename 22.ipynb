{
 "cells": [
  {
   "cell_type": "code",
   "execution_count": 2,
   "outputs": [],
   "source": [
    "import pandas as pd\n",
    "import os\n",
    "import json\n",
    "from tqdm import tqdm\n",
    "import glob"
   ],
   "metadata": {
    "collapsed": false,
    "pycharm": {
     "name": "#%%\n"
    }
   }
  },
  {
   "cell_type": "code",
   "execution_count": 3,
   "outputs": [],
   "source": [
    "path = '/Users/brookegrantham/Documents/DSP/shared_task_data/final_training_data/'\n",
    "key = {\n",
    "    'text':[],\n",
    "    'username':[],\n",
    "    'condition':[]\n",
    "}\n",
    "tweets = pd.DataFrame(key)\n",
    "\n",
    "conditions = pd.read_csv('/Users/brookegrantham/Documents/DSP/anonymized_user_info_by_chunk.csv')\n",
    "df_conditions = pd.DataFrame(conditions)\n",
    "filenames = glob.glob('/Users/brookegrantham/Documents/DSP/shared_task_data/final_training_data/*/*.tweets')"
   ],
   "metadata": {
    "collapsed": false,
    "pycharm": {
     "name": "#%%\n"
    }
   }
  },
  {
   "cell_type": "code",
   "execution_count": null,
   "outputs": [],
   "source": [
    "count = 0\n",
    "\n",
    "for _ in tqdm(filenames):\n",
    "    with open(_, encoding='utf-8') as file:\n",
    "\n",
    "        temp_df = pd.DataFrame(json.loads(file.readline()))\n",
    "        condition = df_conditions.loc[df_conditions['anonymized_screen_name'] == temp_df['user']['screen_name']]['condition'].item()\n",
    "        username = temp_df['user']['screen_name']\n",
    "\n",
    "        for line in file:\n",
    "            try:\n",
    "                data = pd.DataFrame(json.loads(line))\n",
    "                tweets = pd.concat([tweets, pd.DataFrame({'text':[data['text']['screen_name']],\n",
    "                                                          'username': [username],\n",
    "                                                          'condition': [condition]})])\n",
    "            except:\n",
    "                print(line)\n",
    "                count+=1\n",
    "                pass\n",
    "print('Total number of dropped lines is:', count)"
   ],
   "metadata": {
    "collapsed": false,
    "pycharm": {
     "name": "#%%\n",
     "is_executing": true
    }
   }
  },
  {
   "cell_type": "code",
   "execution_count": null,
   "outputs": [],
   "source": [
    "tweets_dir = '/Users/brookegrantham/Documents/DSP/shared_task_data/final_training_data/'\n",
    "\n",
    "\n",
    "filenames = glob.glob(f\"{tweets_dir}/*/*.tweets\")\n",
    "\n",
    "all_tweets = []\n",
    "\n",
    "for filename in tqdm(filenames):\n",
    "    with open(filename, encoding=\"utf-8\", errors=\"replace\") as f:\n",
    "        json_lines = f.readlines()\n",
    "        all_tweets += [{\"filename\": filename, **json.loads(x)} for x in json_lines]\n",
    "\n",
    "tweets_df = pd.DataFrame(all_tweets)\n",
    "tweets_df[\"username\"] = tweets_df[\"user\"].apply(lambda d: d.get(\"screen_name\"))\n",
    "\n",
    "tweets_df = tweets_df[[\"username\", \"text\", \"condition\"]]\n",
    "tweets_df = tweets_df.merge(df_conditions[[\"anonymized_screen_name\", \"condition\"]], left_on='username', right_on='anonymized_screen_name', how='left')\n",
    "tweets_df.to_csv(f\"training_files.csv\", index=False, errors=\"replace\")\n"
   ],
   "metadata": {
    "collapsed": false,
    "pycharm": {
     "name": "#%%\n",
     "is_executing": true
    }
   }
  },
  {
   "cell_type": "code",
   "execution_count": 40,
   "outputs": [],
   "source": [
    "## TESTING\n",
    "with open('/Users/brookegrantham/Documents/DSP/shared_task_data/final_training_data/0/bdGih71WJ.tweets', encoding='utf-8') as file:\n",
    "    for line in file:\n",
    "        tweets = pd.DataFrame(json.loads(file.readline()))\n"
   ],
   "metadata": {
    "collapsed": false,
    "pycharm": {
     "name": "#%%\n"
    }
   }
  },
  {
   "cell_type": "code",
   "execution_count": 32,
   "outputs": [
    {
     "data": {
      "text/plain": "'bdGih71WJ'"
     },
     "execution_count": 32,
     "metadata": {},
     "output_type": "execute_result"
    }
   ],
   "source": [
    "tweets['user']['screen_name']"
   ],
   "metadata": {
    "collapsed": false,
    "pycharm": {
     "name": "#%%\n"
    }
   }
  },
  {
   "cell_type": "code",
   "execution_count": 35,
   "outputs": [
    {
     "data": {
      "text/plain": "'@jWhz50rJX @hSqMdDFwQ28X @khMjuXSmsP 😂😂😂😂'"
     },
     "execution_count": 35,
     "metadata": {},
     "output_type": "execute_result"
    }
   ],
   "source": [
    "tweets['text']['screen_name']"
   ],
   "metadata": {
    "collapsed": false,
    "pycharm": {
     "name": "#%%\n"
    }
   }
  },
  {
   "cell_type": "markdown",
   "source": [],
   "metadata": {
    "collapsed": false
   }
  },
  {
   "cell_type": "code",
   "execution_count": 142,
   "outputs": [
    {
     "name": "stdout",
     "output_type": "stream",
     "text": [
      "xMZSqgcL0pH.tweets\n",
      "ybrXJSpkJVC.tweets\n",
      "xApwCLbrTp.tweets\n",
      "x97VyB5h.tweets\n",
      "60\n",
      "wjK4EwJYXcxPT.tweets\n",
      "w83rIQnb.tweets\n",
      "61\n",
      "vctzYPWi3eq_1bk.tweets\n",
      "v29fw6JibbdVc8U.tweets\n",
      "vqzZo5fUnE.tweets\n",
      "62\n",
      "ubNzj1B.tweets\n",
      "uytPRMEb2m_MfoP.tweets\n",
      "uKyn8hVbxyadzkP.tweets\n",
      "63\n",
      "uAYNfjer5H4.tweets\n",
      "tEmoVx09S8aOk.tweets\n",
      "u3RTeHM8q.tweets\n",
      "tLCucLjaBx.tweets\n",
      "64\n",
      "tAloaCyj6Wq.tweets\n",
      "spF2J2YgIW7JO.tweets\n",
      "sgh85pBVTrOI5.tweets\n",
      "65\n",
      "sXIw9sMWwZDQ7r.tweets\n",
      "66\n",
      "qcT_GzQexkzeW.tweets\n",
      "rBVfsiEIe2Eax.tweets\n",
      "rRc2rBlMLq3wb.tweets\n",
      "qsTnIEM38MleGyd.tweets\n",
      "67\n",
      "q5tE5dA6xiDnQ.tweets\n",
      "puQ8jNoUobokH.tweets\n",
      "68\n",
      "pLwkcIQ1KPKKNLE.tweets\n",
      "69\n",
      "oJBU65HkIKJ.tweets\n",
      "ntoNO5fTDPAMIG.tweets\n",
      "oLqi3pCtEJskQ.tweets\n",
      "70\n"
     ]
    }
   ],
   "source": [
    "## TODO\n",
    "path = '/Users/brookegrantham/Documents/DSP/shared_task_data/final_testing_data/'\n",
    "test = pd.DataFrame()\n",
    "for i in range(60,71):\n",
    "    f = []\n",
    "    for (dirpath, dirnames,filenames) in os.walk(path+str(i)):\n",
    "        f.extend(filenames)\n",
    "    for _ in f:\n",
    "        try:\n",
    "            test = pd.concat([test,pd.read_json(path+str(i)+'/'+_, lines=True)], ignore_index=True)\n",
    "            test = pd.DataFrame()\n",
    "        except:\n",
    "            print(_)\n",
    "            pass\n",
    "    print(i)"
   ],
   "metadata": {
    "collapsed": false,
    "pycharm": {
     "name": "#%%\n"
    }
   }
  }
 ],
 "metadata": {
  "kernelspec": {
   "display_name": "Python 3",
   "language": "python",
   "name": "python3"
  },
  "language_info": {
   "codemirror_mode": {
    "name": "ipython",
    "version": 2
   },
   "file_extension": ".py",
   "mimetype": "text/x-python",
   "name": "python",
   "nbconvert_exporter": "python",
   "pygments_lexer": "ipython2",
   "version": "2.7.6"
  }
 },
 "nbformat": 4,
 "nbformat_minor": 0
}