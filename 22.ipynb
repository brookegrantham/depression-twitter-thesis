{
 "cells": [
  {
   "cell_type": "code",
   "execution_count": 1,
   "outputs": [],
   "source": [
    "import pandas as pd\n",
    "import os\n",
    "import json\n",
    "from tqdm import tqdm\n",
    "import glob"
   ],
   "metadata": {
    "collapsed": false,
    "pycharm": {
     "name": "#%%\n"
    }
   }
  },
  {
   "cell_type": "code",
   "execution_count": 2,
   "outputs": [],
   "source": [
    "path = '/Users/brookegrantham/Documents/DSP/shared_task_data/final_training_data/'\n",
    "key = {\n",
    "    'text':[],\n",
    "    'username':[],\n",
    "    'condition':[]\n",
    "}\n",
    "tweets = pd.DataFrame(key)\n",
    "\n",
    "conditions = pd.read_csv('/Users/brookegrantham/Documents/DSP/anonymized_user_info_by_chunk.csv')\n",
    "df_conditions = pd.DataFrame(conditions)\n",
    "filenames = glob.glob('/Users/brookegrantham/Documents/DSP/shared_task_data/final_training_data/*/*.tweets')"
   ],
   "metadata": {
    "collapsed": false,
    "pycharm": {
     "name": "#%%\n"
    }
   }
  },
  {
   "cell_type": "code",
   "execution_count": 3,
   "outputs": [
    {
     "name": "stderr",
     "output_type": "stream",
     "text": [
      "  9%|▊         | 98/1146 [20:00<3:34:01, 12.25s/it]\n"
     ]
    },
    {
     "ename": "FileNotFoundError",
     "evalue": "[Errno 2] No such file or directory: '/Users/brookegrantham/Documents/DSP/shared_task_data/final_training_data/33/dy5WDxuPotazL.tweets'",
     "output_type": "error",
     "traceback": [
      "\u001B[0;31m---------------------------------------------------------------------------\u001B[0m",
      "\u001B[0;31mFileNotFoundError\u001B[0m                         Traceback (most recent call last)",
      "Input \u001B[0;32mIn [3]\u001B[0m, in \u001B[0;36m<cell line: 3>\u001B[0;34m()\u001B[0m\n\u001B[1;32m      1\u001B[0m count \u001B[38;5;241m=\u001B[39m \u001B[38;5;241m0\u001B[39m\n\u001B[1;32m      3\u001B[0m \u001B[38;5;28;01mfor\u001B[39;00m _ \u001B[38;5;129;01min\u001B[39;00m tqdm(filenames):\n\u001B[0;32m----> 4\u001B[0m     \u001B[38;5;28;01mwith\u001B[39;00m \u001B[38;5;28;43mopen\u001B[39;49m\u001B[43m(\u001B[49m\u001B[43m_\u001B[49m\u001B[43m,\u001B[49m\u001B[43m \u001B[49m\u001B[43mencoding\u001B[49m\u001B[38;5;241;43m=\u001B[39;49m\u001B[38;5;124;43m'\u001B[39;49m\u001B[38;5;124;43mutf-8\u001B[39;49m\u001B[38;5;124;43m'\u001B[39;49m\u001B[43m)\u001B[49m \u001B[38;5;28;01mas\u001B[39;00m file:\n\u001B[1;32m      6\u001B[0m         temp_df \u001B[38;5;241m=\u001B[39m pd\u001B[38;5;241m.\u001B[39mDataFrame(json\u001B[38;5;241m.\u001B[39mloads(file\u001B[38;5;241m.\u001B[39mreadline()))\n\u001B[1;32m      7\u001B[0m         condition \u001B[38;5;241m=\u001B[39m df_conditions\u001B[38;5;241m.\u001B[39mloc[df_conditions[\u001B[38;5;124m'\u001B[39m\u001B[38;5;124manonymized_screen_name\u001B[39m\u001B[38;5;124m'\u001B[39m] \u001B[38;5;241m==\u001B[39m temp_df[\u001B[38;5;124m'\u001B[39m\u001B[38;5;124muser\u001B[39m\u001B[38;5;124m'\u001B[39m][\u001B[38;5;124m'\u001B[39m\u001B[38;5;124mscreen_name\u001B[39m\u001B[38;5;124m'\u001B[39m]][\u001B[38;5;124m'\u001B[39m\u001B[38;5;124mcondition\u001B[39m\u001B[38;5;124m'\u001B[39m]\u001B[38;5;241m.\u001B[39mitem()\n",
      "\u001B[0;31mFileNotFoundError\u001B[0m: [Errno 2] No such file or directory: '/Users/brookegrantham/Documents/DSP/shared_task_data/final_training_data/33/dy5WDxuPotazL.tweets'"
     ]
    }
   ],
   "source": [
    "count = 0\n",
    "\n",
    "for _ in tqdm(filenames):\n",
    "    with open(_, encoding='utf-8') as file:\n",
    "\n",
    "        temp_df = pd.DataFrame(json.loads(file.readline()))\n",
    "        condition = df_conditions.loc[df_conditions['anonymized_screen_name'] == temp_df['user']['screen_name']]['condition'].item()\n",
    "        username = temp_df['user']['screen_name']\n",
    "\n",
    "        for line in file:\n",
    "            try:\n",
    "                data = pd.DataFrame(json.loads(line))\n",
    "                tweets = pd.concat([tweets, pd.DataFrame({'text':[data['text']['screen_name']],\n",
    "                                                          'username': [username],\n",
    "                                                          'condition': [condition]})])\n",
    "            except:\n",
    "                print(line)\n",
    "                count+=1\n",
    "                pass\n",
    "print('Total number of dropped lines is:', count)"
   ],
   "metadata": {
    "collapsed": false,
    "pycharm": {
     "name": "#%%\n"
    }
   }
  },
  {
   "cell_type": "code",
   "execution_count": 40,
   "outputs": [],
   "source": [
    "## TESTING\n",
    "with open('/Users/brookegrantham/Documents/DSP/shared_task_data/final_training_data/0/bdGih71WJ.tweets', encoding='utf-8') as file:\n",
    "    for line in file:\n",
    "        tweets = pd.DataFrame(json.loads(file.readline()))\n"
   ],
   "metadata": {
    "collapsed": false,
    "pycharm": {
     "name": "#%%\n"
    }
   }
  },
  {
   "cell_type": "code",
   "execution_count": 32,
   "outputs": [
    {
     "data": {
      "text/plain": "'bdGih71WJ'"
     },
     "execution_count": 32,
     "metadata": {},
     "output_type": "execute_result"
    }
   ],
   "source": [
    "tweets['user']['screen_name']"
   ],
   "metadata": {
    "collapsed": false,
    "pycharm": {
     "name": "#%%\n"
    }
   }
  },
  {
   "cell_type": "code",
   "execution_count": 35,
   "outputs": [
    {
     "data": {
      "text/plain": "'@jWhz50rJX @hSqMdDFwQ28X @khMjuXSmsP 😂😂😂😂'"
     },
     "execution_count": 35,
     "metadata": {},
     "output_type": "execute_result"
    }
   ],
   "source": [
    "tweets['text']['screen_name']"
   ],
   "metadata": {
    "collapsed": false,
    "pycharm": {
     "name": "#%%\n"
    }
   }
  },
  {
   "cell_type": "markdown",
   "source": [],
   "metadata": {
    "collapsed": false
   }
  },
  {
   "cell_type": "code",
   "execution_count": 142,
   "outputs": [
    {
     "name": "stdout",
     "output_type": "stream",
     "text": [
      "xMZSqgcL0pH.tweets\n",
      "ybrXJSpkJVC.tweets\n",
      "xApwCLbrTp.tweets\n",
      "x97VyB5h.tweets\n",
      "60\n",
      "wjK4EwJYXcxPT.tweets\n",
      "w83rIQnb.tweets\n",
      "61\n",
      "vctzYPWi3eq_1bk.tweets\n",
      "v29fw6JibbdVc8U.tweets\n",
      "vqzZo5fUnE.tweets\n",
      "62\n",
      "ubNzj1B.tweets\n",
      "uytPRMEb2m_MfoP.tweets\n",
      "uKyn8hVbxyadzkP.tweets\n",
      "63\n",
      "uAYNfjer5H4.tweets\n",
      "tEmoVx09S8aOk.tweets\n",
      "u3RTeHM8q.tweets\n",
      "tLCucLjaBx.tweets\n",
      "64\n",
      "tAloaCyj6Wq.tweets\n",
      "spF2J2YgIW7JO.tweets\n",
      "sgh85pBVTrOI5.tweets\n",
      "65\n",
      "sXIw9sMWwZDQ7r.tweets\n",
      "66\n",
      "qcT_GzQexkzeW.tweets\n",
      "rBVfsiEIe2Eax.tweets\n",
      "rRc2rBlMLq3wb.tweets\n",
      "qsTnIEM38MleGyd.tweets\n",
      "67\n",
      "q5tE5dA6xiDnQ.tweets\n",
      "puQ8jNoUobokH.tweets\n",
      "68\n",
      "pLwkcIQ1KPKKNLE.tweets\n",
      "69\n",
      "oJBU65HkIKJ.tweets\n",
      "ntoNO5fTDPAMIG.tweets\n",
      "oLqi3pCtEJskQ.tweets\n",
      "70\n"
     ]
    }
   ],
   "source": [
    "## TODO\n",
    "path = '/Users/brookegrantham/Documents/DSP/shared_task_data/final_testing_data/'\n",
    "test = pd.DataFrame()\n",
    "for i in range(60,71):\n",
    "    f = []\n",
    "    for (dirpath, dirnames,filenames) in os.walk(path+str(i)):\n",
    "        f.extend(filenames)\n",
    "    for _ in f:\n",
    "        try:\n",
    "            test = pd.concat([test,pd.read_json(path+str(i)+'/'+_, lines=True)], ignore_index=True)\n",
    "            test = pd.DataFrame()\n",
    "        except:\n",
    "            print(_)\n",
    "            pass\n",
    "    print(i)"
   ],
   "metadata": {
    "collapsed": false,
    "pycharm": {
     "name": "#%%\n"
    }
   }
  }
 ],
 "metadata": {
  "kernelspec": {
   "display_name": "Python 3",
   "language": "python",
   "name": "python3"
  },
  "language_info": {
   "codemirror_mode": {
    "name": "ipython",
    "version": 2
   },
   "file_extension": ".py",
   "mimetype": "text/x-python",
   "name": "python",
   "nbconvert_exporter": "python",
   "pygments_lexer": "ipython2",
   "version": "2.7.6"
  }
 },
 "nbformat": 4,
 "nbformat_minor": 0
}