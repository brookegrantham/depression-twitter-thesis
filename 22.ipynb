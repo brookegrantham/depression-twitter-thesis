{
 "cells": [
  {
   "cell_type": "markdown",
   "metadata": {
    "collapsed": true,
    "pycharm": {
     "name": "#%% md\n"
    }
   },
   "source": [
    "**11/07/2022 Data Exploring**\n",
    "- Count tweets\n",
    "- Calculate proportions\n",
    "- Examples"
   ]
  },
  {
   "cell_type": "code",
   "execution_count": 1,
   "outputs": [],
   "source": [
    "import pandas as pd\n",
    "import os"
   ],
   "metadata": {
    "collapsed": false,
    "pycharm": {
     "name": "#%%\n"
    }
   }
  },
  {
   "cell_type": "code",
   "execution_count": 2,
   "outputs": [
    {
     "name": "stdout",
     "output_type": "stream",
     "text": [
      "0\n",
      "1\n",
      "2\n",
      "3\n",
      "4\n",
      "5\n",
      "6\n",
      "7\n",
      "8\n",
      "9\n",
      "10\n"
     ]
    }
   ],
   "source": [
    "path = '/Users/brookegrantham/Documents/DSP/shared_task_data/final_training_data/'\n",
    "tweets = pd.DataFrame()\n",
    "\n",
    "for i in range(11):\n",
    "    f = []\n",
    "    for (dirpath, dirnames,filenames) in os.walk(path+str(i)):\n",
    "        f.extend(filenames)\n",
    "    for _ in f:\n",
    "        try:\n",
    "            tweets = pd.concat([tweets,pd.read_json(path+str(i)+'/'+_, lines=True)], ignore_index=True)\n",
    "        except:\n",
    "            pass\n",
    "    print(i)"
   ],
   "metadata": {
    "collapsed": false,
    "pycharm": {
     "name": "#%%\n"
    }
   }
  },
  {
   "cell_type": "code",
   "execution_count": 3,
   "outputs": [
    {
     "name": "stdout",
     "output_type": "stream",
     "text": [
      "11\n",
      "12\n",
      "13\n",
      "14\n",
      "15\n",
      "16\n",
      "17\n",
      "18\n",
      "19\n",
      "20\n"
     ]
    }
   ],
   "source": [
    "tweets2 = pd.DataFrame()\n",
    "for i in range(11,21):\n",
    "    f = []\n",
    "    for (dirpath, dirnames,filenames) in os.walk(path+str(i)):\n",
    "        f.extend(filenames)\n",
    "    for _ in f:\n",
    "        try:\n",
    "            tweets2 = pd.concat([tweets2,pd.read_json(path+str(i)+'/'+_, lines=True)], ignore_index=True)\n",
    "        except:\n",
    "            pass\n",
    "    print(i)"
   ],
   "metadata": {
    "collapsed": false,
    "pycharm": {
     "name": "#%%\n"
    }
   }
  },
  {
   "cell_type": "code",
   "execution_count": 4,
   "outputs": [
    {
     "name": "stdout",
     "output_type": "stream",
     "text": [
      "21\n",
      "22\n",
      "23\n",
      "24\n",
      "25\n",
      "26\n",
      "27\n",
      "28\n",
      "29\n",
      "30\n"
     ]
    }
   ],
   "source": [
    "tweets3 = pd.DataFrame()\n",
    "for i in range(21,31):\n",
    "    f = []\n",
    "    for (dirpath, dirnames,filenames) in os.walk(path+str(i)):\n",
    "        f.extend(filenames)\n",
    "    for _ in f:\n",
    "        try:\n",
    "            tweets3 = pd.concat([tweets3,pd.read_json(path+str(i)+'/'+_, lines=True)], ignore_index=True)\n",
    "        except:\n",
    "            pass\n",
    "    print(i)"
   ],
   "metadata": {
    "collapsed": false,
    "pycharm": {
     "name": "#%%\n"
    }
   }
  },
  {
   "cell_type": "code",
   "execution_count": 5,
   "outputs": [
    {
     "name": "stdout",
     "output_type": "stream",
     "text": [
      "31\n",
      "32\n",
      "33\n",
      "34\n",
      "35\n",
      "36\n",
      "37\n",
      "38\n",
      "39\n",
      "40\n"
     ]
    }
   ],
   "source": [
    "tweets4 = pd.DataFrame()\n",
    "for i in range(31,41):\n",
    "    f = []\n",
    "    for (dirpath, dirnames,filenames) in os.walk(path+str(i)):\n",
    "        f.extend(filenames)\n",
    "    for _ in f:\n",
    "        try:\n",
    "            tweets4 = pd.concat([tweets4,pd.read_json(path+str(i)+'/'+_, lines=True)], ignore_index=True)\n",
    "        except:\n",
    "            pass\n",
    "    print(i)"
   ],
   "metadata": {
    "collapsed": false,
    "pycharm": {
     "name": "#%%\n"
    }
   }
  },
  {
   "cell_type": "code",
   "execution_count": 6,
   "outputs": [
    {
     "name": "stdout",
     "output_type": "stream",
     "text": [
      "41\n",
      "42\n",
      "43\n",
      "44\n",
      "45\n",
      "46\n",
      "47\n",
      "48\n",
      "49\n",
      "50\n"
     ]
    }
   ],
   "source": [
    "tweets5 = pd.DataFrame()\n",
    "for i in range(41,51):\n",
    "    f = []\n",
    "    for (dirpath, dirnames,filenames) in os.walk(path+str(i)):\n",
    "        f.extend(filenames)\n",
    "    for _ in f:\n",
    "        try:\n",
    "            tweets5 = pd.concat([tweets5,pd.read_json(path+str(i)+'/'+_, lines=True)], ignore_index=True)\n",
    "        except:\n",
    "            pass\n",
    "    print(i)"
   ],
   "metadata": {
    "collapsed": false,
    "pycharm": {
     "name": "#%%\n"
    }
   }
  },
  {
   "cell_type": "code",
   "execution_count": 7,
   "outputs": [],
   "source": [
    "frames = [tweets,tweets2,tweets3,tweets4]\n",
    "training_set = pd.concat(frames)"
   ],
   "metadata": {
    "collapsed": false,
    "pycharm": {
     "name": "#%%\n"
    }
   }
  },
  {
   "cell_type": "code",
   "execution_count": 8,
   "outputs": [],
   "source": [
    "validation_set = tweets5"
   ],
   "metadata": {
    "collapsed": false,
    "pycharm": {
     "name": "#%%\n"
    }
   }
  },
  {
   "cell_type": "code",
   "execution_count": null,
   "outputs": [
    {
     "name": "stdout",
     "output_type": "stream",
     "text": [
      "60\n",
      "61\n",
      "62\n",
      "63\n",
      "64\n",
      "65\n"
     ]
    }
   ],
   "source": [
    "path = '/Users/brookegrantham/Documents/DSP/shared_task_data/final_testing_data/'\n",
    "train1 = pd.DataFrame()\n",
    "for i in range(60,71):\n",
    "    f = []\n",
    "    for (dirpath, dirnames,filenames) in os.walk(path+str(i)):\n",
    "        f.extend(filenames)\n",
    "    for _ in f:\n",
    "        try:\n",
    "            train1 = pd.concat([train1,pd.read_json(path+str(i)+'/'+_, lines=True)], ignore_index=True)\n",
    "        except:\n",
    "            pass\n",
    "    print(i)"
   ],
   "metadata": {
    "collapsed": false,
    "pycharm": {
     "name": "#%%\n",
     "is_executing": true
    }
   }
  },
  {
   "cell_type": "code",
   "execution_count": null,
   "outputs": [],
   "source": [
    "train2 = pd.DataFrame()\n",
    "for i in range(71,81):\n",
    "    f = []\n",
    "    for (dirpath, dirnames,filenames) in os.walk(path+str(i)):\n",
    "        f.extend(filenames)\n",
    "    for _ in f:\n",
    "        try:\n",
    "            train2 = pd.concat([train2,pd.read_json(path+str(i)+'/'+_, lines=True)], ignore_index=True)\n",
    "        except:\n",
    "            pass\n",
    "    print(i)"
   ],
   "metadata": {
    "collapsed": false,
    "pycharm": {
     "name": "#%%\n",
     "is_executing": true
    }
   }
  },
  {
   "cell_type": "code",
   "execution_count": null,
   "outputs": [],
   "source": [
    "train3 = pd.DataFrame()\n",
    "for i in range(81,90):\n",
    "    f = []\n",
    "    for (dirpath, dirnames,filenames) in os.walk(path+str(i)):\n",
    "        f.extend(filenames)\n",
    "    for _ in f:\n",
    "        try:\n",
    "            train3 = pd.concat([train3,pd.read_json(path+str(i)+'/'+_, lines=True)], ignore_index=True)\n",
    "        except:\n",
    "            pass\n",
    "    print(i)"
   ],
   "metadata": {
    "collapsed": false,
    "pycharm": {
     "name": "#%%\n",
     "is_executing": true
    }
   }
  }
 ],
 "metadata": {
  "kernelspec": {
   "display_name": "Python 3",
   "language": "python",
   "name": "python3"
  },
  "language_info": {
   "codemirror_mode": {
    "name": "ipython",
    "version": 2
   },
   "file_extension": ".py",
   "mimetype": "text/x-python",
   "name": "python",
   "nbconvert_exporter": "python",
   "pygments_lexer": "ipython2",
   "version": "2.7.6"
  }
 },
 "nbformat": 4,
 "nbformat_minor": 0
}